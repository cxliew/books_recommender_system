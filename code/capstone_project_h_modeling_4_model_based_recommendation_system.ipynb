{
 "cells": [
  {
   "cell_type": "markdown",
   "metadata": {},
   "source": [
    "# Capstone Project: Books recommender system"
   ]
  },
  {
   "cell_type": "markdown",
   "metadata": {},
   "source": [
    "### Overall Contents:\n",
    "- Background\n",
    "- Data Collection\n",
    "- Data Cleaning Books Interactions\n",
    "- Data Cleaning Booklist\n",
    "- Exploratory Data Analysis\n",
    "* Non-personalized recommendation\n",
    "    - Modeling 1 Popularity-based and Content-based recommendation system \n",
    "* Personalized recommendation\n",
    "    - Modeling 2 Collaborative-filtering-based recommendation system\n",
    "    - Modeling 3 Clustering-Collaborative-filtering-based recommendation system\n",
    "    - [Modeling 4 Model based recommendation systems](##9.-Modeling-4-Model-based-recommendation-systems) <br>**(In this notebook)**\n",
    "- Evaluation\n",
    "- Conclusion and Recommendation"
   ]
  },
  {
   "cell_type": "markdown",
   "metadata": {},
   "source": [
    "### Datasets\n",
    "\n",
    "The dataset are obtained from [University of California San Diego Book Graph](https://sites.google.com/eng.ucsd.edu/ucsdbookgraph/home?authuser=0).\n",
    "\n",
    "The dataset below, which is user-book interactions and reference will be used for recommender system.\n",
    "\n",
    "User-book interactions:-\n",
    "* user_work_interactions\n",
    "* user_work_interactions_model\n",
    "* user_work_interactions_sample\n",
    "* genrebook_interactions\n",
    "\n",
    "Reference:-\n",
    "* booklist_worktitle\n",
    "* booklist_url\n",
    "\n",
    "For more details on the datasets, please refer to the data_dictionary_model.ipynb."
   ]
  },
  {
   "cell_type": "markdown",
   "metadata": {},
   "source": [
    "## 9. Modeling 4 Model based recommendation systems"
   ]
  },
  {
   "cell_type": "markdown",
   "metadata": {},
   "source": [
    "### 9.1 Libraries Import"
   ]
  },
  {
   "cell_type": "code",
   "execution_count": 1,
   "metadata": {},
   "outputs": [],
   "source": [
    "import numpy as np\n",
    "import pandas as pd\n",
    "from book_recommender import coverage, ratings_rmse\n",
    "from sklearn import metrics\n",
    "import surprise\n",
    "from numpy import count_nonzero\n",
    "from sklearn.model_selection import train_test_split, GridSearchCV\n",
    "\n",
    "%config InlineBackend.figure_format = 'retina'\n",
    "%matplotlib inline \n",
    "\n",
    "# Maximum display of columns\n",
    "pd.options.display.max_colwidth = 2000\n",
    "pd.options.display.max_rows = 2000"
   ]
  },
  {
   "cell_type": "markdown",
   "metadata": {},
   "source": [
    "### 9.2 Data Import"
   ]
  },
  {
   "cell_type": "code",
   "execution_count": 2,
   "metadata": {},
   "outputs": [],
   "source": [
    "userbook_interactions = pd.read_parquet(\"../data/user_work_interactions_sample_int.parquet\")"
   ]
  },
  {
   "cell_type": "markdown",
   "metadata": {},
   "source": [
    "### 9.3 Check the dataset"
   ]
  },
  {
   "cell_type": "code",
   "execution_count": 3,
   "metadata": {},
   "outputs": [
    {
     "name": "stdout",
     "output_type": "stream",
     "text": [
      "The number of user-book interactions is 149756\n",
      "The number of unique users is 22859\n",
      "The number of unique books is 14376\n"
     ]
    }
   ],
   "source": [
    "print(f\"The number of user-book interactions is {userbook_interactions.shape[0]}\")\n",
    "print(f\"The number of unique users is {userbook_interactions.user_id.nunique()}\")\n",
    "print(f\"The number of unique books is {userbook_interactions.work_id.nunique()}\")"
   ]
  },
  {
   "cell_type": "code",
   "execution_count": 4,
   "metadata": {},
   "outputs": [
    {
     "data": {
      "text/html": [
       "<div>\n",
       "<style scoped>\n",
       "    .dataframe tbody tr th:only-of-type {\n",
       "        vertical-align: middle;\n",
       "    }\n",
       "\n",
       "    .dataframe tbody tr th {\n",
       "        vertical-align: top;\n",
       "    }\n",
       "\n",
       "    .dataframe thead th {\n",
       "        text-align: right;\n",
       "    }\n",
       "</style>\n",
       "<table border=\"1\" class=\"dataframe\">\n",
       "  <thead>\n",
       "    <tr style=\"text-align: right;\">\n",
       "      <th></th>\n",
       "      <th>user_id</th>\n",
       "      <th>work_id</th>\n",
       "      <th>rating</th>\n",
       "    </tr>\n",
       "  </thead>\n",
       "  <tbody>\n",
       "    <tr>\n",
       "      <th>6</th>\n",
       "      <td>49476</td>\n",
       "      <td>13785503</td>\n",
       "      <td>3</td>\n",
       "    </tr>\n",
       "    <tr>\n",
       "      <th>7</th>\n",
       "      <td>347421</td>\n",
       "      <td>1679789</td>\n",
       "      <td>4</td>\n",
       "    </tr>\n",
       "    <tr>\n",
       "      <th>8</th>\n",
       "      <td>232281</td>\n",
       "      <td>1207024</td>\n",
       "      <td>5</td>\n",
       "    </tr>\n",
       "    <tr>\n",
       "      <th>14</th>\n",
       "      <td>195915</td>\n",
       "      <td>1424362</td>\n",
       "      <td>4</td>\n",
       "    </tr>\n",
       "    <tr>\n",
       "      <th>26</th>\n",
       "      <td>25982</td>\n",
       "      <td>3481898</td>\n",
       "      <td>4</td>\n",
       "    </tr>\n",
       "  </tbody>\n",
       "</table>\n",
       "</div>"
      ],
      "text/plain": [
       "    user_id   work_id  rating\n",
       "6     49476  13785503       3\n",
       "7    347421   1679789       4\n",
       "8    232281   1207024       5\n",
       "14   195915   1424362       4\n",
       "26    25982   3481898       4"
      ]
     },
     "execution_count": 4,
     "metadata": {},
     "output_type": "execute_result"
    }
   ],
   "source": [
    "userbook_interactions.head()"
   ]
  },
  {
   "cell_type": "markdown",
   "metadata": {},
   "source": [
    "### 9.4 Split the data into train/test data"
   ]
  },
  {
   "cell_type": "code",
   "execution_count": 5,
   "metadata": {
    "scrolled": true
   },
   "outputs": [],
   "source": [
    "train, test = train_test_split(userbook_interactions, test_size = 0.25, random_state = 39, stratify = userbook_interactions[\"user_id\"])"
   ]
  },
  {
   "cell_type": "code",
   "execution_count": 6,
   "metadata": {
    "scrolled": true
   },
   "outputs": [
    {
     "name": "stdout",
     "output_type": "stream",
     "text": [
      "train:  (112317, 3)\n",
      "test:  (37439, 3)\n",
      "train number of unique user_id:  22859\n",
      "test number of unique user_id:  22859\n"
     ]
    }
   ],
   "source": [
    "#Verify Dimensions\n",
    "print('train: ', train.shape)\n",
    "print('test: ', test.shape)\n",
    "print('train number of unique user_id: ', train.user_id.nunique())\n",
    "print('test number of unique user_id: ', test.user_id.nunique())"
   ]
  },
  {
   "cell_type": "code",
   "execution_count": 7,
   "metadata": {
    "scrolled": true
   },
   "outputs": [
    {
     "name": "stdout",
     "output_type": "stream",
     "text": [
      "The presence of train user_id in test: True    112317\n",
      "Name: user_id, dtype: int64\n",
      "The presence of train work_id in test: True     100624\n",
      "False     11693\n",
      "Name: work_id, dtype: int64\n"
     ]
    }
   ],
   "source": [
    "print(f\"The presence of train user_id in test: {train.user_id.isin(test.user_id).value_counts()}\")\n",
    "print(f\"The presence of train work_id in test: {train.work_id.isin(test.work_id).value_counts()}\")"
   ]
  },
  {
   "cell_type": "code",
   "execution_count": 8,
   "metadata": {},
   "outputs": [
    {
     "name": "stdout",
     "output_type": "stream",
     "text": [
      "The presence of test user_id in train: True    37439\n",
      "Name: user_id, dtype: int64\n",
      "The presence of test work_id in train: True     36955\n",
      "False      484\n",
      "Name: work_id, dtype: int64\n"
     ]
    }
   ],
   "source": [
    "print(f\"The presence of test user_id in train: {test.user_id.isin(train.user_id).value_counts()}\")\n",
    "print(f\"The presence of test work_id in train: {test.work_id.isin(train.work_id).value_counts()}\")"
   ]
  },
  {
   "cell_type": "code",
   "execution_count": 9,
   "metadata": {},
   "outputs": [
    {
     "name": "stdout",
     "output_type": "stream",
     "text": [
      "The train set shape is (112801, 3)\n"
     ]
    },
    {
     "name": "stderr",
     "output_type": "stream",
     "text": [
      "<ipython-input-9-ddec719f1588>:2: SettingWithCopyWarning: \n",
      "A value is trying to be set on a copy of a slice from a DataFrame.\n",
      "Try using .loc[row_indexer,col_indexer] = value instead\n",
      "\n",
      "See the caveats in the documentation: https://pandas.pydata.org/pandas-docs/stable/user_guide/indexing.html#returning-a-view-versus-a-copy\n",
      "  test[\"presence\"] = test.work_id.isin(train.work_id).astype(int)\n"
     ]
    }
   ],
   "source": [
    "# To transfer the test work_id not present in train to train set\n",
    "test[\"presence\"] = test.work_id.isin(train.work_id).astype(int)\n",
    "test_notpresent = test[test[\"presence\"] == 0]\n",
    "test = test[test.presence == 1]\n",
    "test_notpresent = test_notpresent.drop([\"presence\"], axis = 1)\n",
    "test = test.drop([\"presence\"], axis = 1)\n",
    "train = pd.concat([train, test_notpresent], axis = 0)\n",
    "\n",
    "# Reset the index for train and test set\n",
    "train = train.sort_values(by=\"user_id\").reset_index(drop=True)\n",
    "test = test.sort_values(by=\"user_id\").reset_index(drop=True)\n",
    "\n",
    "print(f\"The train set shape is {train.shape}\")"
   ]
  },
  {
   "cell_type": "code",
   "execution_count": 10,
   "metadata": {
    "scrolled": true
   },
   "outputs": [
    {
     "name": "stdout",
     "output_type": "stream",
     "text": [
      "The presence of test user_id in train: True    36955\n",
      "Name: user_id, dtype: int64\n",
      "The presence of test work_id in train: True    36955\n",
      "Name: work_id, dtype: int64\n"
     ]
    }
   ],
   "source": [
    "print(f\"The presence of test user_id in train: {test.user_id.isin(train.user_id).value_counts()}\")\n",
    "print(f\"The presence of test work_id in train: {test.work_id.isin(train.work_id).value_counts()}\")"
   ]
  },
  {
   "cell_type": "code",
   "execution_count": 11,
   "metadata": {},
   "outputs": [],
   "source": [
    "reader = surprise.Reader(rating_scale = (1,5))\n",
    "data_surprise = surprise.Dataset.load_from_df(train, reader)"
   ]
  },
  {
   "cell_type": "markdown",
   "metadata": {},
   "source": [
    "### 9.5 Non-negative Matrix Factorization"
   ]
  },
  {
   "cell_type": "code",
   "execution_count": 12,
   "metadata": {},
   "outputs": [
    {
     "name": "stdout",
     "output_type": "stream",
     "text": [
      "1.0695592089073456\n",
      "{'lr_bu': 0.05, 'lr_bi': 0.005, 'n_epochs': 50, 'n_factors': 40}\n"
     ]
    }
   ],
   "source": [
    "param_grid_nmf = {'lr_bu' : [0.01, 0.05],'lr_bi' : [0.005, 0.01], \"n_epochs\" : [25,50,100], 'n_factors' : [20,30,40]}\n",
    "gs_nmf = surprise.model_selection.GridSearchCV(surprise.NMF, param_grid_nmf, measures = ['rmse'], cv=5, n_jobs = -1)\n",
    "gs_nmf.fit(data_surprise)\n",
    "print(gs_nmf.best_score['rmse'])\n",
    "print(gs_nmf.best_params['rmse'])"
   ]
  },
  {
   "cell_type": "code",
   "execution_count": 13,
   "metadata": {},
   "outputs": [
    {
     "name": "stdout",
     "output_type": "stream",
     "text": [
      "Evaluating RMSE of algorithm NMF on 5 split(s).\n",
      "\n",
      "                  Fold 1  Fold 2  Fold 3  Fold 4  Fold 5  Mean    Std     \n",
      "RMSE (testset)    1.0658  1.0665  1.0726  1.0718  1.0717  1.0697  0.0029  \n",
      "Fit time          11.75   11.75   11.93   11.73   11.77   11.79   0.07    \n",
      "Test time         0.19    0.19    0.20    0.18    0.12    0.17    0.03    \n"
     ]
    }
   ],
   "source": [
    "best_model_nmf = surprise.NMF(lr_bu= 0.05, lr_bi= 0.005, n_epochs= 50, n_factors= 40)\n",
    "output_nmf = surprise.model_selection.cross_validate(best_model_nmf, data_surprise, measures = [\"rmse\"], cv = 5, verbose = True)"
   ]
  },
  {
   "cell_type": "code",
   "execution_count": 14,
   "metadata": {},
   "outputs": [
    {
     "data": {
      "text/plain": [
       "<surprise.prediction_algorithms.matrix_factorization.NMF at 0x1aafa2ffe50>"
      ]
     },
     "execution_count": 14,
     "metadata": {},
     "output_type": "execute_result"
    }
   ],
   "source": [
    "# Fit with the best parameters\n",
    "nmf_best_model = gs_nmf.best_estimator['rmse']\n",
    "nmf_best_model.fit(data_surprise.build_full_trainset())"
   ]
  },
  {
   "cell_type": "code",
   "execution_count": 15,
   "metadata": {},
   "outputs": [],
   "source": [
    "test_nmf = test.copy()"
   ]
  },
  {
   "cell_type": "code",
   "execution_count": 16,
   "metadata": {},
   "outputs": [],
   "source": [
    "for i in range(len(test_nmf)):\n",
    "    user_query_nmf = test_nmf.user_id[i]\n",
    "    work_query_nmf = test_nmf.work_id[i]\n",
    "    result_nmf = nmf_best_model.predict(user_query_nmf, work_query_nmf)\n",
    "    test_nmf.loc[i, \"predicted_rating\"] = result_nmf[3]"
   ]
  },
  {
   "cell_type": "code",
   "execution_count": 17,
   "metadata": {},
   "outputs": [
    {
     "data": {
      "text/plain": [
       "1.017577427218871"
      ]
     },
     "execution_count": 17,
     "metadata": {},
     "output_type": "execute_result"
    }
   ],
   "source": [
    "rmse_nmf = ratings_rmse(test_nmf, \"rating\", \"predicted_rating\")\n",
    "rmse_nmf"
   ]
  },
  {
   "cell_type": "code",
   "execution_count": 18,
   "metadata": {},
   "outputs": [
    {
     "name": "stdout",
     "output_type": "stream",
     "text": [
      "The total observations: 36955\n",
      "Unable to predict:(0, 4)\n",
      "Able to predict:(36955, 4)\n",
      "\n",
      "The coverage for the recommender system is\n"
     ]
    },
    {
     "data": {
      "text/plain": [
       "100.0"
      ]
     },
     "execution_count": 18,
     "metadata": {},
     "output_type": "execute_result"
    }
   ],
   "source": [
    "test_coverage_nmf = coverage(test_nmf, \"predicted_rating\")\n",
    "test_coverage_nmf"
   ]
  },
  {
   "cell_type": "code",
   "execution_count": 19,
   "metadata": {},
   "outputs": [
    {
     "data": {
      "text/html": [
       "<div>\n",
       "<style scoped>\n",
       "    .dataframe tbody tr th:only-of-type {\n",
       "        vertical-align: middle;\n",
       "    }\n",
       "\n",
       "    .dataframe tbody tr th {\n",
       "        vertical-align: top;\n",
       "    }\n",
       "\n",
       "    .dataframe thead th {\n",
       "        text-align: right;\n",
       "    }\n",
       "</style>\n",
       "<table border=\"1\" class=\"dataframe\">\n",
       "  <thead>\n",
       "    <tr style=\"text-align: right;\">\n",
       "      <th></th>\n",
       "      <th>user_id</th>\n",
       "      <th>work_id</th>\n",
       "      <th>rating</th>\n",
       "      <th>predicted_rating</th>\n",
       "    </tr>\n",
       "  </thead>\n",
       "  <tbody>\n",
       "    <tr>\n",
       "      <th>0</th>\n",
       "      <td>28</td>\n",
       "      <td>2960529</td>\n",
       "      <td>5</td>\n",
       "      <td>3.972890</td>\n",
       "    </tr>\n",
       "    <tr>\n",
       "      <th>1</th>\n",
       "      <td>32</td>\n",
       "      <td>856555</td>\n",
       "      <td>4</td>\n",
       "      <td>3.711898</td>\n",
       "    </tr>\n",
       "    <tr>\n",
       "      <th>2</th>\n",
       "      <td>39</td>\n",
       "      <td>914540</td>\n",
       "      <td>3</td>\n",
       "      <td>3.458416</td>\n",
       "    </tr>\n",
       "    <tr>\n",
       "      <th>3</th>\n",
       "      <td>41</td>\n",
       "      <td>19248070</td>\n",
       "      <td>5</td>\n",
       "      <td>3.811168</td>\n",
       "    </tr>\n",
       "    <tr>\n",
       "      <th>4</th>\n",
       "      <td>97</td>\n",
       "      <td>16680623</td>\n",
       "      <td>5</td>\n",
       "      <td>5.000000</td>\n",
       "    </tr>\n",
       "  </tbody>\n",
       "</table>\n",
       "</div>"
      ],
      "text/plain": [
       "   user_id   work_id  rating  predicted_rating\n",
       "0       28   2960529       5          3.972890\n",
       "1       32    856555       4          3.711898\n",
       "2       39    914540       3          3.458416\n",
       "3       41  19248070       5          3.811168\n",
       "4       97  16680623       5          5.000000"
      ]
     },
     "execution_count": 19,
     "metadata": {},
     "output_type": "execute_result"
    }
   ],
   "source": [
    "test_nmf.head()"
   ]
  },
  {
   "cell_type": "code",
   "execution_count": 20,
   "metadata": {},
   "outputs": [
    {
     "data": {
      "text/plain": [
       "1.017577427218871"
      ]
     },
     "execution_count": 20,
     "metadata": {},
     "output_type": "execute_result"
    }
   ],
   "source": [
    "rmse_nmf = ratings_rmse(test_nmf, \"rating\", \"predicted_rating\")\n",
    "rmse_nmf"
   ]
  },
  {
   "cell_type": "markdown",
   "metadata": {},
   "source": [
    "**Analysis: Non-negative matrix factorization has an RMSE of 1.0176 with a coverage of 100%.**\n",
    "\n",
    "This is a collaborative filtering algorithm based on non-negative matrix factorization. It has an RMSE that is lower than the baseline model, which suggests that the recommender system is able to perform a better prediction, with a coverage of 100%. "
   ]
  },
  {
   "cell_type": "markdown",
   "metadata": {},
   "source": [
    "### 9.6 Singular Value Decomposition"
   ]
  },
  {
   "cell_type": "code",
   "execution_count": 21,
   "metadata": {},
   "outputs": [
    {
     "name": "stdout",
     "output_type": "stream",
     "text": [
      "0.9232889540629798\n",
      "{'lr_all': 0.005, 'reg_all': 0.3, 'n_factors': 10, 'n_epochs': 30}\n"
     ]
    }
   ],
   "source": [
    "param_grid_svd = {'lr_all' : [0.005, 0.01,0.05], \"reg_all\" : [0.02, 0.3, 0.4, 0.5], 'n_factors' : [10,20,30], 'n_epochs':[20,30,40]}\n",
    "gs_svd = surprise.model_selection.GridSearchCV(surprise.SVD, param_grid_svd, measures = ['rmse'], cv=5 ,n_jobs = -1)\n",
    "gs_svd.fit(data_surprise)\n",
    "print(gs_svd.best_score['rmse'])\n",
    "print(gs_svd.best_params['rmse'])"
   ]
  },
  {
   "cell_type": "code",
   "execution_count": 22,
   "metadata": {},
   "outputs": [
    {
     "name": "stdout",
     "output_type": "stream",
     "text": [
      "Evaluating RMSE of algorithm SVD on 5 split(s).\n",
      "\n",
      "                  Fold 1  Fold 2  Fold 3  Fold 4  Fold 5  Mean    Std     \n",
      "RMSE (testset)    0.9243  0.9224  0.9145  0.9284  0.9264  0.9232  0.0048  \n",
      "Fit time          2.41    2.33    2.35    2.33    2.34    2.35    0.03    \n",
      "Test time         0.13    0.25    0.26    0.13    0.13    0.18    0.06    \n"
     ]
    }
   ],
   "source": [
    "best_model_svd = surprise.SVD(lr_all = 0.005, reg_all = 0.3, n_factors = 10, n_epochs = 30)\n",
    "output_svd = surprise.model_selection.cross_validate(best_model_svd, data_surprise,measures = [\"rmse\"], cv =5, verbose = True)"
   ]
  },
  {
   "cell_type": "code",
   "execution_count": 23,
   "metadata": {},
   "outputs": [
    {
     "data": {
      "text/plain": [
       "<surprise.prediction_algorithms.matrix_factorization.SVD at 0x1aa9d368d30>"
      ]
     },
     "execution_count": 23,
     "metadata": {},
     "output_type": "execute_result"
    }
   ],
   "source": [
    "# Fit with the best parameters\n",
    "svd_best_model = gs_svd.best_estimator['rmse']\n",
    "svd_best_model.fit(data_surprise.build_full_trainset())"
   ]
  },
  {
   "cell_type": "code",
   "execution_count": 24,
   "metadata": {},
   "outputs": [],
   "source": [
    "test_svd = test.copy()"
   ]
  },
  {
   "cell_type": "code",
   "execution_count": 25,
   "metadata": {},
   "outputs": [],
   "source": [
    "for i in range(len(test_svd)):\n",
    "    user_query_svd = test_svd.user_id[i]\n",
    "    work_query_svd = test_svd.work_id[i]\n",
    "    result_svd = svd_best_model.predict(user_query_svd, work_query_svd)\n",
    "    test_svd.loc[i, \"predicted_rating\"] = result_svd[3]"
   ]
  },
  {
   "cell_type": "code",
   "execution_count": 26,
   "metadata": {},
   "outputs": [
    {
     "data": {
      "text/plain": [
       "0.9086056409639094"
      ]
     },
     "execution_count": 26,
     "metadata": {},
     "output_type": "execute_result"
    }
   ],
   "source": [
    "rmse_svd = ratings_rmse(test_svd, \"rating\", \"predicted_rating\")\n",
    "rmse_svd"
   ]
  },
  {
   "cell_type": "code",
   "execution_count": 27,
   "metadata": {
    "scrolled": true
   },
   "outputs": [
    {
     "name": "stdout",
     "output_type": "stream",
     "text": [
      "The total observations: 36955\n",
      "Unable to predict:(0, 4)\n",
      "Able to predict:(36955, 4)\n",
      "\n",
      "The coverage for the recommender system is\n"
     ]
    },
    {
     "data": {
      "text/plain": [
       "100.0"
      ]
     },
     "execution_count": 27,
     "metadata": {},
     "output_type": "execute_result"
    }
   ],
   "source": [
    "test_coverage_svd = coverage(test_svd, \"predicted_rating\")\n",
    "test_coverage_svd"
   ]
  },
  {
   "cell_type": "code",
   "execution_count": 28,
   "metadata": {
    "scrolled": true
   },
   "outputs": [
    {
     "data": {
      "text/html": [
       "<div>\n",
       "<style scoped>\n",
       "    .dataframe tbody tr th:only-of-type {\n",
       "        vertical-align: middle;\n",
       "    }\n",
       "\n",
       "    .dataframe tbody tr th {\n",
       "        vertical-align: top;\n",
       "    }\n",
       "\n",
       "    .dataframe thead th {\n",
       "        text-align: right;\n",
       "    }\n",
       "</style>\n",
       "<table border=\"1\" class=\"dataframe\">\n",
       "  <thead>\n",
       "    <tr style=\"text-align: right;\">\n",
       "      <th></th>\n",
       "      <th>user_id</th>\n",
       "      <th>work_id</th>\n",
       "      <th>rating</th>\n",
       "      <th>predicted_rating</th>\n",
       "    </tr>\n",
       "  </thead>\n",
       "  <tbody>\n",
       "    <tr>\n",
       "      <th>0</th>\n",
       "      <td>28</td>\n",
       "      <td>2960529</td>\n",
       "      <td>5</td>\n",
       "      <td>3.394128</td>\n",
       "    </tr>\n",
       "    <tr>\n",
       "      <th>1</th>\n",
       "      <td>32</td>\n",
       "      <td>856555</td>\n",
       "      <td>4</td>\n",
       "      <td>3.780331</td>\n",
       "    </tr>\n",
       "    <tr>\n",
       "      <th>2</th>\n",
       "      <td>39</td>\n",
       "      <td>914540</td>\n",
       "      <td>3</td>\n",
       "      <td>3.808320</td>\n",
       "    </tr>\n",
       "    <tr>\n",
       "      <th>3</th>\n",
       "      <td>41</td>\n",
       "      <td>19248070</td>\n",
       "      <td>5</td>\n",
       "      <td>3.819059</td>\n",
       "    </tr>\n",
       "    <tr>\n",
       "      <th>4</th>\n",
       "      <td>97</td>\n",
       "      <td>16680623</td>\n",
       "      <td>5</td>\n",
       "      <td>4.346606</td>\n",
       "    </tr>\n",
       "  </tbody>\n",
       "</table>\n",
       "</div>"
      ],
      "text/plain": [
       "   user_id   work_id  rating  predicted_rating\n",
       "0       28   2960529       5          3.394128\n",
       "1       32    856555       4          3.780331\n",
       "2       39    914540       3          3.808320\n",
       "3       41  19248070       5          3.819059\n",
       "4       97  16680623       5          4.346606"
      ]
     },
     "execution_count": 28,
     "metadata": {},
     "output_type": "execute_result"
    }
   ],
   "source": [
    "test_svd.head()"
   ]
  },
  {
   "cell_type": "markdown",
   "metadata": {},
   "source": [
    "**Analysis: Singular Value Decomposition has an RMSE of 0.9086 with a coverage of 100%.**\n",
    "\n",
    "This is the singular value decomposition algorithm which is a matrix factorization technique that reduces the number of features of a dataset. It has an RMSE that is lower than the baseline model with 100% coverage. This suggests that the recommender system is able to perform relative good prediction. "
   ]
  },
  {
   "cell_type": "markdown",
   "metadata": {},
   "source": [
    "### 9.7 Singular Value Decomposition ++"
   ]
  },
  {
   "cell_type": "code",
   "execution_count": 29,
   "metadata": {},
   "outputs": [
    {
     "name": "stdout",
     "output_type": "stream",
     "text": [
      "0.9234583397670836\n",
      "{'lr_all': 0.005, 'reg_all': 0.3, 'n_factors': 10, 'n_epochs': 30}\n"
     ]
    }
   ],
   "source": [
    "param_grid_svdpp = {'lr_all' : [0.005, 0.01,0.05], \"reg_all\" : [0.02, 0.3, 0.4, 0.5], 'n_factors' : [10,20,30], 'n_epochs':[20,30,40]}\n",
    "gs_svdpp = surprise.model_selection.GridSearchCV(surprise.SVDpp, param_grid_svdpp, measures = ['rmse'], cv=5 ,n_jobs = -1)\n",
    "gs_svdpp.fit(data_surprise)\n",
    "print(gs_svdpp.best_score['rmse'])\n",
    "print(gs_svdpp.best_params['rmse'])"
   ]
  },
  {
   "cell_type": "code",
   "execution_count": 30,
   "metadata": {},
   "outputs": [
    {
     "name": "stdout",
     "output_type": "stream",
     "text": [
      "Evaluating RMSE of algorithm SVDpp on 5 split(s).\n",
      "\n",
      "                  Fold 1  Fold 2  Fold 3  Fold 4  Fold 5  Mean    Std     \n",
      "RMSE (testset)    0.9225  0.9251  0.9241  0.9250  0.9196  0.9233  0.0021  \n",
      "Fit time          13.88   13.74   14.18   14.24   14.15   14.04   0.19    \n",
      "Test time         0.31    0.52    0.42    0.31    0.31    0.37    0.09    \n"
     ]
    }
   ],
   "source": [
    "best_model_svdpp = surprise.SVDpp(lr_all = 0.005, reg_all = 0.3, n_factors = 10, n_epochs = 30)\n",
    "output_svdpp = surprise.model_selection.cross_validate(best_model_svdpp, data_surprise,measures = [\"rmse\"], cv=5, verbose = True)"
   ]
  },
  {
   "cell_type": "code",
   "execution_count": 31,
   "metadata": {},
   "outputs": [
    {
     "data": {
      "text/plain": [
       "<surprise.prediction_algorithms.matrix_factorization.SVDpp at 0x1aa9d732c40>"
      ]
     },
     "execution_count": 31,
     "metadata": {},
     "output_type": "execute_result"
    }
   ],
   "source": [
    "# Fit with the best parameters\n",
    "svdpp_best_model = gs_svdpp.best_estimator['rmse']\n",
    "svdpp_best_model.fit(data_surprise.build_full_trainset())"
   ]
  },
  {
   "cell_type": "code",
   "execution_count": 32,
   "metadata": {},
   "outputs": [],
   "source": [
    "test_svdpp = test.copy()"
   ]
  },
  {
   "cell_type": "code",
   "execution_count": 33,
   "metadata": {},
   "outputs": [],
   "source": [
    "for i in range(len(test_svdpp)):\n",
    "    user_query_svdpp = test_svdpp.user_id[i]\n",
    "    work_query_svdpp = test_svdpp.work_id[i]\n",
    "    result_svdpp = svdpp_best_model.predict(user_query_svdpp, work_query_svdpp)\n",
    "    test_svdpp.loc[i, \"predicted_rating\"] = result_svdpp[3]"
   ]
  },
  {
   "cell_type": "code",
   "execution_count": 34,
   "metadata": {},
   "outputs": [
    {
     "data": {
      "text/plain": [
       "0.9088537625040092"
      ]
     },
     "execution_count": 34,
     "metadata": {},
     "output_type": "execute_result"
    }
   ],
   "source": [
    "rmse_svdpp = ratings_rmse(test_svdpp, \"rating\", \"predicted_rating\")\n",
    "rmse_svdpp"
   ]
  },
  {
   "cell_type": "code",
   "execution_count": 35,
   "metadata": {
    "scrolled": true
   },
   "outputs": [
    {
     "name": "stdout",
     "output_type": "stream",
     "text": [
      "The total observations: 36955\n",
      "Unable to predict:(0, 4)\n",
      "Able to predict:(36955, 4)\n",
      "\n",
      "The coverage for the recommender system is\n"
     ]
    },
    {
     "data": {
      "text/plain": [
       "100.0"
      ]
     },
     "execution_count": 35,
     "metadata": {},
     "output_type": "execute_result"
    }
   ],
   "source": [
    "test_coverage_svdpp = coverage(test_svdpp, \"predicted_rating\")\n",
    "test_coverage_svdpp"
   ]
  },
  {
   "cell_type": "code",
   "execution_count": 36,
   "metadata": {
    "scrolled": true
   },
   "outputs": [
    {
     "data": {
      "text/html": [
       "<div>\n",
       "<style scoped>\n",
       "    .dataframe tbody tr th:only-of-type {\n",
       "        vertical-align: middle;\n",
       "    }\n",
       "\n",
       "    .dataframe tbody tr th {\n",
       "        vertical-align: top;\n",
       "    }\n",
       "\n",
       "    .dataframe thead th {\n",
       "        text-align: right;\n",
       "    }\n",
       "</style>\n",
       "<table border=\"1\" class=\"dataframe\">\n",
       "  <thead>\n",
       "    <tr style=\"text-align: right;\">\n",
       "      <th></th>\n",
       "      <th>user_id</th>\n",
       "      <th>work_id</th>\n",
       "      <th>rating</th>\n",
       "      <th>predicted_rating</th>\n",
       "    </tr>\n",
       "  </thead>\n",
       "  <tbody>\n",
       "    <tr>\n",
       "      <th>0</th>\n",
       "      <td>28</td>\n",
       "      <td>2960529</td>\n",
       "      <td>5</td>\n",
       "      <td>3.367236</td>\n",
       "    </tr>\n",
       "    <tr>\n",
       "      <th>1</th>\n",
       "      <td>32</td>\n",
       "      <td>856555</td>\n",
       "      <td>4</td>\n",
       "      <td>3.808850</td>\n",
       "    </tr>\n",
       "    <tr>\n",
       "      <th>2</th>\n",
       "      <td>39</td>\n",
       "      <td>914540</td>\n",
       "      <td>3</td>\n",
       "      <td>3.806653</td>\n",
       "    </tr>\n",
       "    <tr>\n",
       "      <th>3</th>\n",
       "      <td>41</td>\n",
       "      <td>19248070</td>\n",
       "      <td>5</td>\n",
       "      <td>3.892551</td>\n",
       "    </tr>\n",
       "    <tr>\n",
       "      <th>4</th>\n",
       "      <td>97</td>\n",
       "      <td>16680623</td>\n",
       "      <td>5</td>\n",
       "      <td>4.366291</td>\n",
       "    </tr>\n",
       "  </tbody>\n",
       "</table>\n",
       "</div>"
      ],
      "text/plain": [
       "   user_id   work_id  rating  predicted_rating\n",
       "0       28   2960529       5          3.367236\n",
       "1       32    856555       4          3.808850\n",
       "2       39    914540       3          3.806653\n",
       "3       41  19248070       5          3.892551\n",
       "4       97  16680623       5          4.366291"
      ]
     },
     "execution_count": 36,
     "metadata": {},
     "output_type": "execute_result"
    }
   ],
   "source": [
    "test_svdpp.head()"
   ]
  },
  {
   "cell_type": "markdown",
   "metadata": {},
   "source": [
    "**Analysis: Singular Value Decomposition ++ has an RMSE of 0.9089 with a coverage of 100%.**\n",
    "\n",
    "This is the extension of singular value decomposition algorithm which factors in the implicit ratings (the item was rated regardless of the rating value). It has an RMSE that is lower than the baseline model with coverage of 100%, which suggests that this model is able to perform relatively good prediction. "
   ]
  }
 ],
 "metadata": {
  "kernelspec": {
   "display_name": "Python 3",
   "language": "python",
   "name": "python3"
  },
  "language_info": {
   "codemirror_mode": {
    "name": "ipython",
    "version": 3
   },
   "file_extension": ".py",
   "mimetype": "text/x-python",
   "name": "python",
   "nbconvert_exporter": "python",
   "pygments_lexer": "ipython3",
   "version": "3.8.5"
  }
 },
 "nbformat": 4,
 "nbformat_minor": 4
}
