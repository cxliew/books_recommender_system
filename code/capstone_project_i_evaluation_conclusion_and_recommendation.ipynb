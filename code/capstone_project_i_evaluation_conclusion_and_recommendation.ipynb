{
 "cells": [
  {
   "cell_type": "markdown",
   "metadata": {},
   "source": [
    "# Capstone Project: Books recommender system"
   ]
  },
  {
   "cell_type": "markdown",
   "metadata": {},
   "source": [
    "### Overall Contents:\n",
    "- Background\n",
    "- Data Collection\n",
    "- Data Cleaning Books Interactions\n",
    "- Data Cleaning Booklist\n",
    "- Exploratory Data Analysis\n",
    "* Non-personalized recommendation\n",
    "    - Modeling 1 Popularity-based and Content-based recommendation system \n",
    "* Personalized recommendation\n",
    "    - Modeling 2 Collaborative-filtering-based recommendation system\n",
    "    - Modeling 3 Clustering-Collaborative-filtering-based recommendation system\n",
    "    - Modeling 4 Model based recommendation systems\n",
    "- [Evaluation](##10-Evaluation) **(In this notebook)**\n",
    "- [Conclusion and Recommendation](##11.-Conclusion-and-Recommendation) **(In this notebook)**"
   ]
  },
  {
   "cell_type": "markdown",
   "metadata": {},
   "source": [
    "### Datasets\n",
    "\n",
    "The dataset are obtained from [University of California San Diego Book Graph](https://sites.google.com/eng.ucsd.edu/ucsdbookgraph/home?authuser=0).\n",
    "\n",
    "The dataset below, which is user-book interactions and reference will be used for recommender system.\n",
    "\n",
    "User-book interactions:-\n",
    "* user_work_interactions\n",
    "* user_work_interactions_model\n",
    "* user_work_interactions_sample\n",
    "* genrebook_interactions\n",
    "\n",
    "Reference:-\n",
    "* booklist_worktitle\n",
    "* booklist_url\n",
    "\n",
    "For more details on the datasets, please refer to the data_dictionary_model.ipynb."
   ]
  },
  {
   "cell_type": "markdown",
   "metadata": {},
   "source": [
    "**Summary Table: Model Evaluation**\n",
    "\n",
    "| Model| RMSE|Coverage |Dataset|Unique books  |Unique users  |Total interactions   |\n",
    "|:-------------------:|:-------------------:|:-------------------:|:-------------------:|:-------------------:|:-------------------:|:-------------------:|\n",
    "| NA | NA | NA |Full|1500100|816368|103982813|\n",
    "|Non-personalized Recommendation<br> -Popularity-based<br> - Content-based| NA | NA |Full after threshold applied|15014|603728|62079740|\n",
    "| Null |  1.9265 |   100%  |Fraction|14376|22859|149756|\n",
    "|User-based collaborative filtering| 1.2720 |  7.04% | Fraction|14376|22859|149756|\n",
    "|Item-based collaborative filtering| 1.2663 |  8.41%  | Fraction|14376|22859|149756|\n",
    "|-K-means Clustering<br>-User-based collaborative filtering| 1.0886 |  54.98%   |Full <br>Fraction|1500100<br>11903|816368<br>22749|103982813<br>203576|\n",
    "|-K-means Clustering<br>-Item-based collaborative filtering| 1.0454 |  58.41%   |Full <br>Fraction|1500100<br>11903|816368<br>22749|103982813<br>203576|\n",
    "|Non-negative Matrix Factorization|1.0176| 100%  |Fraction|14376|22859|149756|\n",
    "|Singular Value Decomposition| 0.9086 | 100%  |Fraction|14376|22859|149756|\n",
    "|Singular Value Decomposition ++ | 0.9089 | 100%   |Fraction|14376|22859|149756|"
   ]
  },
  {
   "cell_type": "markdown",
   "metadata": {},
   "source": [
    "## 9. Evaluation"
   ]
  },
  {
   "cell_type": "markdown",
   "metadata": {},
   "source": [
    "For non-personalized recommendation, the popularity-based recommender systems is able to recommend the top 10 popular books, which coincides with the exploratory data analysis result. The content-based recommender system is able to recommend based on similarity in genre. As non-personalized recommendation does not provide predicted ratings, we will be evaluating the collaborative filtering and model-based recommender systems for the choice of our recommender system.\n",
    "\n",
    "For personalized recommendation, there are 7 models in total that are employed and tested and all of the models has a smaller root mean square error (RMSE) as compared to the null model, which is based on random rating prediction. For user-based and item-based collaborative filtering, they have very low coverage (the percentage of the test set that can be predicted from the train set) and the prediction model fair slightly better than the null model with an improvement of 34% improvement. \n",
    "\n",
    "To improve the coverage and RMSE, we perform a K-means clustering to clusters the books into their similar genre prior to perform a collaborative filtering of user-based and item-based. This has led to an increase of coverage to 55-58% and an improvement of RMSE of 43% compared to the null model. This improvement could possibly due to an increase probability of finding similar users with similar books read compared to the initial user-based and item-based collaborative filtering, whereby the fraction may not comprise of similar users that has read the particular book. However, it is to note that the clustering has limit the books and users to their genres, which limits the user's preference according to a particular genre. In addition, the item-based collaborative filtering have a slightly lower RMSE compared to user-based and it could be due to items are fixed, rather than user-based, which can varies with the presence of similar users and the user preference.\n",
    "\n",
    "Using the model based recommender system, we are able to increase the coverage to 100% with an  improvement of RMSE of 47-53% compared to the null model. This improvement is mainly due to algorithems, which utilizes matrix factorization techniques along with stochastic gradient descent. This allows the alogrithm to learn and regularized the parameters, factorize the original matrix into smaller matrixes to speed up processing and save memory. \n",
    "\n",
    "The singular value decomposition algorithms performs better than non-negative matrix factorization likely due to the reduction of dimentionality for the non-important features of the dataset, which allows the alogrithm to learn faster and perform a better prediction. As there is minimal difference between singular value decomposition and singular value decomposition ++, which accounts for the implicit ratings(that is the rating that is being made by the user regardless of the ratings count), we will be selecting the singular value decomposition as our final model as it has the lowest RMSE, which means the lowest error of the predicted rating with the true rating. This will allow us to predict the reader's ratings more accurately and recommend books that are more suited to the readers, leading to an enhanced reader's experience and higher subscription rate, which will increase the business profitability."
   ]
  },
  {
   "cell_type": "markdown",
   "metadata": {},
   "source": [
    "## 10. Conclusion and Recommendation"
   ]
  },
  {
   "cell_type": "markdown",
   "metadata": {},
   "source": [
    "### 10.1 Conclusion"
   ]
  },
  {
   "cell_type": "markdown",
   "metadata": {},
   "source": [
    "In conclusion, we have gathered and collected our datasets, performed data cleaning and analyzed the data with visualization methods. In our exploratory data analysis, we discovered majority of the books characteristics in the dataset. We also found that the user book interactions illustrates the long tail situation in which a small fraction of the books are highly rated by the users while a large propotion of the books have low number of ratings by the users. Due to the large dataset and computational limitation, we have set a threshold for ratings of a book required and number of books rated by a user prior to obtain a subset fraction for further analysis.\n",
    "\n",
    "With the dataset and analysis, we have built two models for non-personalized recommendation and seven models for personalized recommendation. For non-personalized recommendation systems, the popularity-based recommender systems is able to recommend the top 10 popular books while the content-based recommender system is able to recommend based on similarity in genre. For the personalized recommendation, all models have RMSE lower than the null model. The singular value decomposition was chosen as our final model as it has the lowest RMSE with 100% coverage compared to the other models, which has either higher RMSE and low coverage (below 100%). Using this selected model, we are able to predict the ratings more accurately and recommend books that are more suited to the readers, leading to an enhanced reader's experience and higher subscription rate, that potentially leads to increase in business profitability."
   ]
  },
  {
   "cell_type": "markdown",
   "metadata": {},
   "source": [
    "### 10.2 Recommendations"
   ]
  },
  {
   "cell_type": "markdown",
   "metadata": {},
   "source": [
    "Out of the 7 models built for personalized recommendation, the singular value decomposition has the lowest RMSE with a full coverage (100%) compare to the other models such as collaborative filtering and k-means clustering with collaborative filtering. We are also able to improve the accuracy of the prediction by 53% compared to the null model, which is a random prediction of ratings. With this model, we are able to have the full coverage and able to predict the unknown ratings of the user with an RMSE of 0.9086, thus allowing us to recommend books that are more suited to the readers through the website.\n",
    "\n",
    "As such, we will recommend this singular value decomposition model recommender system to be employed as our book recommender system as a solution to our challenges identified in our problem statement."
   ]
  },
  {
   "cell_type": "markdown",
   "metadata": {},
   "source": [
    "### 10.3 Future Work"
   ]
  },
  {
   "cell_type": "markdown",
   "metadata": {},
   "source": [
    "Future work that could be done is to explore more algorithms that may further improve the RMSE score.\n",
    "\n",
    "Furthermore, one could also explore algorithms that can handle greater user-book-interactions  with good scalability and faster processing speed so that full datasets maybe use for analysis in future.\n",
    "\n",
    "Implicit data such as user purchased history and more details on the users such age, geographical location can also be explored to enhance the user's experience."
   ]
  }
 ],
 "metadata": {
  "kernelspec": {
   "display_name": "Python 3",
   "language": "python",
   "name": "python3"
  },
  "language_info": {
   "codemirror_mode": {
    "name": "ipython",
    "version": 3
   },
   "file_extension": ".py",
   "mimetype": "text/x-python",
   "name": "python",
   "nbconvert_exporter": "python",
   "pygments_lexer": "ipython3",
   "version": "3.8.5"
  }
 },
 "nbformat": 4,
 "nbformat_minor": 4
}
