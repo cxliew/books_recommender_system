{
 "cells": [
  {
   "cell_type": "markdown",
   "metadata": {},
   "source": [
    "# Capstone Project: Books recommender system"
   ]
  },
  {
   "cell_type": "markdown",
   "metadata": {},
   "source": [
    "### Overall Contents:\n",
    "- Background\n",
    "- Data Collection\n",
    "- [Data Cleaning Booklist](#3.-Data-Cleaning-Booklist) **(In this notebook)**\n",
    "- Data Cleaning Book Interactions\n",
    "- Exploratory Data Analysis\n",
    "- Modeling 1 Popularity-based system\n",
    "- Modeling 2 Content-based system\n",
    "- Modeling 3 Collaborative-based system\n",
    "- Evaluation\n",
    "- Conclusion and Recommendation"
   ]
  },
  {
   "cell_type": "markdown",
   "metadata": {},
   "source": [
    "### Datasets\n",
    "\n",
    "The dataset are obtained from [University of California San Diego Book Graph](https://sites.google.com/eng.ucsd.edu/ucsdbookgraph/home?authuser=0).\n",
    "\n",
    "The dataset contains meta-data of books and user-book interactions.\n",
    "\n",
    "Meta-data of books:-\n",
    "* goodreads_books \n",
    "* goodreads_book_authors\n",
    "* goodreads_book_series\n",
    "* goodreads_book_genres_initial\n",
    "\n",
    "User-book interactions:-\n",
    "* goodreads_interactions\n",
    "* book_id_map\n",
    "\n",
    "For more details on the datasets, please refer to the data_dictionary.ipynb."
   ]
  },
  {
   "cell_type": "markdown",
   "metadata": {},
   "source": [
    "## 3. Data Cleaning Booklist"
   ]
  },
  {
   "cell_type": "markdown",
   "metadata": {},
   "source": [
    "### 3.1 Libraries Import"
   ]
  },
  {
   "cell_type": "code",
   "execution_count": 1,
   "metadata": {},
   "outputs": [],
   "source": [
    "import numpy as np\n",
    "import pandas as pd\n",
    "import re\n",
    "from IPython.display import clear_output\n",
    "\n",
    "# Maximum display of columns\n",
    "pd.options.display.max_colwidth = 2000\n",
    "pd.options.display.max_rows = 2000"
   ]
  },
  {
   "cell_type": "markdown",
   "metadata": {},
   "source": [
    "### 3.2 Data Import"
   ]
  },
  {
   "cell_type": "code",
   "execution_count": 2,
   "metadata": {},
   "outputs": [],
   "source": [
    "booklist_authors = pd.read_parquet(\"./data/booklist_authors.parquet\")\n",
    "booklist_first = pd.read_parquet(\"./data/booklist_first.parquet\")\n",
    "booklist_second = pd.read_parquet(\"./data/booklist_second.parquet\")\n",
    "booklist_third = pd.read_parquet(\"./data/booklist_third.parquet\")\n",
    "booklist_fourth = pd.read_parquet(\"./data/booklist_fourth.parquet\")\n",
    "booklist_fifth = pd.read_parquet(\"./data/booklist_fifth.parquet\")\n",
    "booklist_works = pd.read_parquet(\"./data/booklist_works.parquet\")"
   ]
  },
  {
   "cell_type": "code",
   "execution_count": 3,
   "metadata": {},
   "outputs": [],
   "source": [
    "# Compilation of booklist_first to booklist_fifth\n",
    "booklist_compiled = pd.concat([booklist_first, booklist_second, booklist_third, booklist_fourth, booklist_fifth], axis = 0).reset_index(drop=True)"
   ]
  },
  {
   "cell_type": "code",
   "execution_count": 4,
   "metadata": {},
   "outputs": [
    {
     "name": "stdout",
     "output_type": "stream",
     "text": [
      "This booklist_authors has a shape of (829529, 5)\n",
      "This booklist_compiled has a shape of (2360655, 29)\n",
      "This booklist_works has a shape of (1521962, 16)\n"
     ]
    }
   ],
   "source": [
    "print(f\"This booklist_authors has a shape of {booklist_authors.shape}\")\n",
    "print(f\"This booklist_compiled has a shape of {booklist_compiled.shape}\")\n",
    "print(f\"This booklist_works has a shape of {booklist_works.shape}\")"
   ]
  },
  {
   "cell_type": "markdown",
   "metadata": {},
   "source": [
    "### 3.3 booklist_authors"
   ]
  },
  {
   "cell_type": "code",
   "execution_count": 5,
   "metadata": {
    "scrolled": true
   },
   "outputs": [
    {
     "name": "stdout",
     "output_type": "stream",
     "text": [
      "<class 'pandas.core.frame.DataFrame'>\n",
      "RangeIndex: 829529 entries, 0 to 829528\n",
      "Data columns (total 5 columns):\n",
      " #   Column              Non-Null Count   Dtype  \n",
      "---  ------              --------------   -----  \n",
      " 0   average_rating      829529 non-null  float64\n",
      " 1   author_id           829529 non-null  int64  \n",
      " 2   text_reviews_count  829529 non-null  int64  \n",
      " 3   name                829529 non-null  object \n",
      " 4   ratings_count       829529 non-null  int64  \n",
      "dtypes: float64(1), int64(3), object(1)\n",
      "memory usage: 31.6+ MB\n"
     ]
    }
   ],
   "source": [
    "booklist_authors.info()"
   ]
  },
  {
   "cell_type": "code",
   "execution_count": 6,
   "metadata": {},
   "outputs": [
    {
     "data": {
      "text/html": [
       "<div>\n",
       "<style scoped>\n",
       "    .dataframe tbody tr th:only-of-type {\n",
       "        vertical-align: middle;\n",
       "    }\n",
       "\n",
       "    .dataframe tbody tr th {\n",
       "        vertical-align: top;\n",
       "    }\n",
       "\n",
       "    .dataframe thead th {\n",
       "        text-align: right;\n",
       "    }\n",
       "</style>\n",
       "<table border=\"1\" class=\"dataframe\">\n",
       "  <thead>\n",
       "    <tr style=\"text-align: right;\">\n",
       "      <th></th>\n",
       "      <th>average_rating</th>\n",
       "      <th>author_id</th>\n",
       "      <th>text_reviews_count</th>\n",
       "      <th>author_name</th>\n",
       "      <th>ratings_count</th>\n",
       "    </tr>\n",
       "  </thead>\n",
       "  <tbody>\n",
       "    <tr>\n",
       "      <th>0</th>\n",
       "      <td>3.98</td>\n",
       "      <td>604031</td>\n",
       "      <td>7</td>\n",
       "      <td>Ronald J. Fields</td>\n",
       "      <td>49</td>\n",
       "    </tr>\n",
       "    <tr>\n",
       "      <th>1</th>\n",
       "      <td>4.08</td>\n",
       "      <td>626222</td>\n",
       "      <td>28716</td>\n",
       "      <td>Anita Diamant</td>\n",
       "      <td>546796</td>\n",
       "    </tr>\n",
       "    <tr>\n",
       "      <th>2</th>\n",
       "      <td>3.92</td>\n",
       "      <td>10333</td>\n",
       "      <td>5075</td>\n",
       "      <td>Barbara Hambly</td>\n",
       "      <td>122118</td>\n",
       "    </tr>\n",
       "    <tr>\n",
       "      <th>3</th>\n",
       "      <td>3.68</td>\n",
       "      <td>9212</td>\n",
       "      <td>36262</td>\n",
       "      <td>Jennifer Weiner</td>\n",
       "      <td>888522</td>\n",
       "    </tr>\n",
       "    <tr>\n",
       "      <th>4</th>\n",
       "      <td>3.82</td>\n",
       "      <td>149918</td>\n",
       "      <td>96</td>\n",
       "      <td>Nigel Pennick</td>\n",
       "      <td>1740</td>\n",
       "    </tr>\n",
       "  </tbody>\n",
       "</table>\n",
       "</div>"
      ],
      "text/plain": [
       "   average_rating  author_id  text_reviews_count       author_name  \\\n",
       "0            3.98     604031                   7  Ronald J. Fields   \n",
       "1            4.08     626222               28716     Anita Diamant   \n",
       "2            3.92      10333                5075    Barbara Hambly   \n",
       "3            3.68       9212               36262   Jennifer Weiner   \n",
       "4            3.82     149918                  96     Nigel Pennick   \n",
       "\n",
       "   ratings_count  \n",
       "0             49  \n",
       "1         546796  \n",
       "2         122118  \n",
       "3         888522  \n",
       "4           1740  "
      ]
     },
     "execution_count": 6,
     "metadata": {},
     "output_type": "execute_result"
    }
   ],
   "source": [
    "booklist_authors = booklist_authors.rename({\"name\":\"author_name\"}, axis = 1)\n",
    "booklist_authors.head()"
   ]
  },
  {
   "cell_type": "code",
   "execution_count": 7,
   "metadata": {
    "scrolled": false
   },
   "outputs": [
    {
     "data": {
      "text/html": [
       "<div>\n",
       "<style scoped>\n",
       "    .dataframe tbody tr th:only-of-type {\n",
       "        vertical-align: middle;\n",
       "    }\n",
       "\n",
       "    .dataframe tbody tr th {\n",
       "        vertical-align: top;\n",
       "    }\n",
       "\n",
       "    .dataframe thead th {\n",
       "        text-align: right;\n",
       "    }\n",
       "</style>\n",
       "<table border=\"1\" class=\"dataframe\">\n",
       "  <thead>\n",
       "    <tr style=\"text-align: right;\">\n",
       "      <th></th>\n",
       "      <th>average_rating</th>\n",
       "      <th>author_id</th>\n",
       "      <th>text_reviews_count</th>\n",
       "      <th>author_name</th>\n",
       "      <th>ratings_count</th>\n",
       "    </tr>\n",
       "  </thead>\n",
       "  <tbody>\n",
       "    <tr>\n",
       "      <th>89637</th>\n",
       "      <td>4.03</td>\n",
       "      <td>6555766</td>\n",
       "      <td>353</td>\n",
       "      <td></td>\n",
       "      <td>1277</td>\n",
       "    </tr>\n",
       "    <tr>\n",
       "      <th>150514</th>\n",
       "      <td>4.00</td>\n",
       "      <td>6421865</td>\n",
       "      <td>70</td>\n",
       "      <td></td>\n",
       "      <td>388</td>\n",
       "    </tr>\n",
       "    <tr>\n",
       "      <th>176864</th>\n",
       "      <td>3.03</td>\n",
       "      <td>16507023</td>\n",
       "      <td>59</td>\n",
       "      <td></td>\n",
       "      <td>330</td>\n",
       "    </tr>\n",
       "    <tr>\n",
       "      <th>800027</th>\n",
       "      <td>4.67</td>\n",
       "      <td>6925419</td>\n",
       "      <td>2</td>\n",
       "      <td></td>\n",
       "      <td>3</td>\n",
       "    </tr>\n",
       "    <tr>\n",
       "      <th>800029</th>\n",
       "      <td>4.67</td>\n",
       "      <td>6925420</td>\n",
       "      <td>2</td>\n",
       "      <td></td>\n",
       "      <td>3</td>\n",
       "    </tr>\n",
       "  </tbody>\n",
       "</table>\n",
       "</div>"
      ],
      "text/plain": [
       "        average_rating  author_id  text_reviews_count author_name  \\\n",
       "89637             4.03    6555766                 353               \n",
       "150514            4.00    6421865                  70               \n",
       "176864            3.03   16507023                  59               \n",
       "800027            4.67    6925419                   2               \n",
       "800029            4.67    6925420                   2               \n",
       "\n",
       "        ratings_count  \n",
       "89637            1277  \n",
       "150514            388  \n",
       "176864            330  \n",
       "800027              3  \n",
       "800029              3  "
      ]
     },
     "execution_count": 7,
     "metadata": {},
     "output_type": "execute_result"
    }
   ],
   "source": [
    "booklist_authors[booklist_authors.author_name == \"\"]"
   ]
  },
  {
   "cell_type": "code",
   "execution_count": 8,
   "metadata": {
    "scrolled": true
   },
   "outputs": [
    {
     "data": {
      "text/html": [
       "<div>\n",
       "<style scoped>\n",
       "    .dataframe tbody tr th:only-of-type {\n",
       "        vertical-align: middle;\n",
       "    }\n",
       "\n",
       "    .dataframe tbody tr th {\n",
       "        vertical-align: top;\n",
       "    }\n",
       "\n",
       "    .dataframe thead th {\n",
       "        text-align: right;\n",
       "    }\n",
       "</style>\n",
       "<table border=\"1\" class=\"dataframe\">\n",
       "  <thead>\n",
       "    <tr style=\"text-align: right;\">\n",
       "      <th></th>\n",
       "      <th>average_rating</th>\n",
       "      <th>author_id</th>\n",
       "      <th>text_reviews_count</th>\n",
       "      <th>author_name</th>\n",
       "      <th>ratings_count</th>\n",
       "    </tr>\n",
       "  </thead>\n",
       "  <tbody>\n",
       "    <tr>\n",
       "      <th>107129</th>\n",
       "      <td>3.94</td>\n",
       "      <td>16062024</td>\n",
       "      <td>156</td>\n",
       "      <td>Robert   Innes</td>\n",
       "      <td>930</td>\n",
       "    </tr>\n",
       "  </tbody>\n",
       "</table>\n",
       "</div>"
      ],
      "text/plain": [
       "        average_rating  author_id  text_reviews_count     author_name  \\\n",
       "107129            3.94   16062024                 156  Robert   Innes   \n",
       "\n",
       "        ratings_count  \n",
       "107129            930  "
      ]
     },
     "execution_count": 8,
     "metadata": {},
     "output_type": "execute_result"
    }
   ],
   "source": [
    "booklist_authors[booklist_authors.author_name == \"Robert   Innes\"]"
   ]
  },
  {
   "cell_type": "code",
   "execution_count": 9,
   "metadata": {
    "scrolled": true
   },
   "outputs": [
    {
     "data": {
      "text/html": [
       "<div>\n",
       "<style scoped>\n",
       "    .dataframe tbody tr th:only-of-type {\n",
       "        vertical-align: middle;\n",
       "    }\n",
       "\n",
       "    .dataframe tbody tr th {\n",
       "        vertical-align: top;\n",
       "    }\n",
       "\n",
       "    .dataframe thead th {\n",
       "        text-align: right;\n",
       "    }\n",
       "</style>\n",
       "<table border=\"1\" class=\"dataframe\">\n",
       "  <thead>\n",
       "    <tr style=\"text-align: right;\">\n",
       "      <th></th>\n",
       "      <th>average_rating</th>\n",
       "      <th>author_id</th>\n",
       "      <th>text_reviews_count</th>\n",
       "      <th>author_name</th>\n",
       "      <th>ratings_count</th>\n",
       "    </tr>\n",
       "  </thead>\n",
       "  <tbody>\n",
       "    <tr>\n",
       "      <th>765574</th>\n",
       "      <td>4.22</td>\n",
       "      <td>1015284</td>\n",
       "      <td>4</td>\n",
       "      <td>Robert Innes</td>\n",
       "      <td>36</td>\n",
       "    </tr>\n",
       "  </tbody>\n",
       "</table>\n",
       "</div>"
      ],
      "text/plain": [
       "        average_rating  author_id  text_reviews_count   author_name  \\\n",
       "765574            4.22    1015284                   4  Robert Innes   \n",
       "\n",
       "        ratings_count  \n",
       "765574             36  "
      ]
     },
     "execution_count": 9,
     "metadata": {},
     "output_type": "execute_result"
    }
   ],
   "source": [
    "booklist_authors[booklist_authors.author_name == \"Robert Innes\"]"
   ]
  },
  {
   "cell_type": "code",
   "execution_count": 10,
   "metadata": {
    "scrolled": true
   },
   "outputs": [
    {
     "data": {
      "text/plain": [
       "[(['  '], 36), (['  '], 37), (['  '], 39), (['  '], 121), (['  '], 124)]"
      ]
     },
     "execution_count": 10,
     "metadata": {},
     "output_type": "execute_result"
    }
   ],
   "source": [
    "reg_exp = r'\\s{2,}'\n",
    "symbols = booklist_authors['author_name'].apply(lambda x:re.findall(reg_exp,x))\n",
    "[(symbols[i], i) for i in range(len(symbols)) if symbols[i]!=[]][0:5]"
   ]
  },
  {
   "cell_type": "code",
   "execution_count": 11,
   "metadata": {},
   "outputs": [
    {
     "data": {
      "text/plain": [
       "[]"
      ]
     },
     "execution_count": 11,
     "metadata": {},
     "output_type": "execute_result"
    }
   ],
   "source": [
    "reg_exp = r'\\s{2,}'\n",
    "booklist_authors['author_name'] = booklist_authors['author_name'].apply(lambda x:re.sub(reg_exp,\" \",x))\n",
    "symbols_check = booklist_authors['author_name'].apply(lambda x:re.findall(reg_exp,x))\n",
    "[(symbols_check[i], i) for i in range(len(symbols_check)) if symbols_check[i]!=[]]"
   ]
  },
  {
   "cell_type": "code",
   "execution_count": 12,
   "metadata": {},
   "outputs": [
    {
     "data": {
      "text/html": [
       "<div>\n",
       "<style scoped>\n",
       "    .dataframe tbody tr th:only-of-type {\n",
       "        vertical-align: middle;\n",
       "    }\n",
       "\n",
       "    .dataframe tbody tr th {\n",
       "        vertical-align: top;\n",
       "    }\n",
       "\n",
       "    .dataframe thead th {\n",
       "        text-align: right;\n",
       "    }\n",
       "</style>\n",
       "<table border=\"1\" class=\"dataframe\">\n",
       "  <thead>\n",
       "    <tr style=\"text-align: right;\">\n",
       "      <th></th>\n",
       "      <th>author_id</th>\n",
       "      <th>author_name</th>\n",
       "    </tr>\n",
       "  </thead>\n",
       "  <tbody>\n",
       "    <tr>\n",
       "      <th>0</th>\n",
       "      <td>604031</td>\n",
       "      <td>Ronald J. Fields</td>\n",
       "    </tr>\n",
       "    <tr>\n",
       "      <th>1</th>\n",
       "      <td>626222</td>\n",
       "      <td>Anita Diamant</td>\n",
       "    </tr>\n",
       "    <tr>\n",
       "      <th>2</th>\n",
       "      <td>10333</td>\n",
       "      <td>Barbara Hambly</td>\n",
       "    </tr>\n",
       "    <tr>\n",
       "      <th>3</th>\n",
       "      <td>9212</td>\n",
       "      <td>Jennifer Weiner</td>\n",
       "    </tr>\n",
       "    <tr>\n",
       "      <th>4</th>\n",
       "      <td>149918</td>\n",
       "      <td>Nigel Pennick</td>\n",
       "    </tr>\n",
       "  </tbody>\n",
       "</table>\n",
       "</div>"
      ],
      "text/plain": [
       "   author_id       author_name\n",
       "0     604031  Ronald J. Fields\n",
       "1     626222     Anita Diamant\n",
       "2      10333    Barbara Hambly\n",
       "3       9212   Jennifer Weiner\n",
       "4     149918     Nigel Pennick"
      ]
     },
     "execution_count": 12,
     "metadata": {},
     "output_type": "execute_result"
    }
   ],
   "source": [
    "authors_list = booklist_authors[[\"author_id\", \"author_name\"]]\n",
    "authors_list.head()"
   ]
  },
  {
   "cell_type": "markdown",
   "metadata": {},
   "source": [
    "### 3.4 booklist_compiled"
   ]
  },
  {
   "cell_type": "markdown",
   "metadata": {},
   "source": [
    "### 3.4.1 Check on dtypes and missing values"
   ]
  },
  {
   "cell_type": "code",
   "execution_count": 13,
   "metadata": {},
   "outputs": [
    {
     "name": "stdout",
     "output_type": "stream",
     "text": [
      "<class 'pandas.core.frame.DataFrame'>\n",
      "RangeIndex: 2360655 entries, 0 to 2360654\n",
      "Data columns (total 29 columns):\n",
      " #   Column                Dtype \n",
      "---  ------                ----- \n",
      " 0   isbn                  object\n",
      " 1   text_reviews_count    object\n",
      " 2   series                object\n",
      " 3   country_code          object\n",
      " 4   language_code         object\n",
      " 5   popular_shelves       object\n",
      " 6   asin                  object\n",
      " 7   is_ebook              object\n",
      " 8   average_rating        object\n",
      " 9   kindle_asin           object\n",
      " 10  similar_books         object\n",
      " 11  description           object\n",
      " 12  format                object\n",
      " 13  link                  object\n",
      " 14  authors               object\n",
      " 15  publisher             object\n",
      " 16  num_pages             object\n",
      " 17  publication_day       object\n",
      " 18  isbn13                object\n",
      " 19  publication_month     object\n",
      " 20  edition_information   object\n",
      " 21  publication_year      object\n",
      " 22  url                   object\n",
      " 23  image_url             object\n",
      " 24  book_id               object\n",
      " 25  ratings_count         object\n",
      " 26  work_id               object\n",
      " 27  title                 object\n",
      " 28  title_without_series  object\n",
      "dtypes: object(29)\n",
      "memory usage: 522.3+ MB\n"
     ]
    }
   ],
   "source": [
    "booklist_compiled.info()"
   ]
  },
  {
   "cell_type": "code",
   "execution_count": 14,
   "metadata": {},
   "outputs": [
    {
     "data": {
      "text/plain": [
       "isbn                    0\n",
       "text_reviews_count      0\n",
       "series                  0\n",
       "country_code            0\n",
       "language_code           0\n",
       "popular_shelves         0\n",
       "asin                    0\n",
       "is_ebook                0\n",
       "average_rating          0\n",
       "kindle_asin             0\n",
       "similar_books           0\n",
       "description             0\n",
       "format                  0\n",
       "link                    0\n",
       "authors                 0\n",
       "publisher               0\n",
       "num_pages               0\n",
       "publication_day         0\n",
       "isbn13                  0\n",
       "publication_month       0\n",
       "edition_information     0\n",
       "publication_year        0\n",
       "url                     0\n",
       "image_url               0\n",
       "book_id                 0\n",
       "ratings_count           0\n",
       "work_id                 0\n",
       "title                   0\n",
       "title_without_series    0\n",
       "dtype: int64"
      ]
     },
     "execution_count": 14,
     "metadata": {},
     "output_type": "execute_result"
    }
   ],
   "source": [
    "booklist_compiled[booklist_compiled.isnull()].count()"
   ]
  },
  {
   "cell_type": "markdown",
   "metadata": {},
   "source": [
    "### 3.4.2 Selecting columns\n",
    "\n",
    "Removing columns:- 'url', 'image_url', 'link', 'popular_shelves', 'country_code', 'publication_day', 'publication_month','title_without_series','isbn', 'isbn13'"
   ]
  },
  {
   "cell_type": "code",
   "execution_count": 15,
   "metadata": {},
   "outputs": [],
   "source": [
    "booklist_compiled = booklist_compiled.drop(['url', 'image_url', 'link', 'popular_shelves', 'country_code', 'publication_day', 'publication_month','title_without_series', 'isbn', 'isbn13'], axis = 1)"
   ]
  },
  {
   "cell_type": "markdown",
   "metadata": {},
   "source": [
    "### 3.4.3 Removing average_rating and ratings_count is zero"
   ]
  },
  {
   "cell_type": "code",
   "execution_count": 16,
   "metadata": {},
   "outputs": [
    {
     "data": {
      "text/plain": [
       "(2360655, 19)"
      ]
     },
     "execution_count": 16,
     "metadata": {},
     "output_type": "execute_result"
    }
   ],
   "source": [
    "booklist_compiled.shape"
   ]
  },
  {
   "cell_type": "code",
   "execution_count": 17,
   "metadata": {},
   "outputs": [
    {
     "name": "stdout",
     "output_type": "stream",
     "text": [
      "The number of books having no information on ratings are 524\n"
     ]
    },
    {
     "data": {
      "text/html": [
       "<div>\n",
       "<style scoped>\n",
       "    .dataframe tbody tr th:only-of-type {\n",
       "        vertical-align: middle;\n",
       "    }\n",
       "\n",
       "    .dataframe tbody tr th {\n",
       "        vertical-align: top;\n",
       "    }\n",
       "\n",
       "    .dataframe thead th {\n",
       "        text-align: right;\n",
       "    }\n",
       "</style>\n",
       "<table border=\"1\" class=\"dataframe\">\n",
       "  <thead>\n",
       "    <tr style=\"text-align: right;\">\n",
       "      <th></th>\n",
       "      <th>text_reviews_count</th>\n",
       "      <th>series</th>\n",
       "      <th>language_code</th>\n",
       "      <th>asin</th>\n",
       "      <th>is_ebook</th>\n",
       "      <th>average_rating</th>\n",
       "      <th>kindle_asin</th>\n",
       "      <th>similar_books</th>\n",
       "      <th>description</th>\n",
       "      <th>format</th>\n",
       "      <th>authors</th>\n",
       "      <th>publisher</th>\n",
       "      <th>num_pages</th>\n",
       "      <th>edition_information</th>\n",
       "      <th>publication_year</th>\n",
       "      <th>book_id</th>\n",
       "      <th>ratings_count</th>\n",
       "      <th>work_id</th>\n",
       "      <th>title</th>\n",
       "    </tr>\n",
       "  </thead>\n",
       "  <tbody>\n",
       "    <tr>\n",
       "      <th>1687</th>\n",
       "      <td></td>\n",
       "      <td>[]</td>\n",
       "      <td></td>\n",
       "      <td></td>\n",
       "      <td></td>\n",
       "      <td></td>\n",
       "      <td></td>\n",
       "      <td>[]</td>\n",
       "      <td></td>\n",
       "      <td></td>\n",
       "      <td>[]</td>\n",
       "      <td></td>\n",
       "      <td></td>\n",
       "      <td></td>\n",
       "      <td></td>\n",
       "      <td>23699819</td>\n",
       "      <td></td>\n",
       "      <td></td>\n",
       "      <td>Infinity Man and the Forever People #1 (The New 52)</td>\n",
       "    </tr>\n",
       "    <tr>\n",
       "      <th>10658</th>\n",
       "      <td></td>\n",
       "      <td>[]</td>\n",
       "      <td></td>\n",
       "      <td></td>\n",
       "      <td></td>\n",
       "      <td></td>\n",
       "      <td></td>\n",
       "      <td>[]</td>\n",
       "      <td></td>\n",
       "      <td></td>\n",
       "      <td>[]</td>\n",
       "      <td></td>\n",
       "      <td></td>\n",
       "      <td></td>\n",
       "      <td></td>\n",
       "      <td>2597774</td>\n",
       "      <td></td>\n",
       "      <td></td>\n",
       "      <td>Wade of Aquitaine</td>\n",
       "    </tr>\n",
       "    <tr>\n",
       "      <th>14340</th>\n",
       "      <td></td>\n",
       "      <td>[]</td>\n",
       "      <td></td>\n",
       "      <td></td>\n",
       "      <td></td>\n",
       "      <td></td>\n",
       "      <td></td>\n",
       "      <td>[]</td>\n",
       "      <td></td>\n",
       "      <td></td>\n",
       "      <td>[]</td>\n",
       "      <td></td>\n",
       "      <td></td>\n",
       "      <td></td>\n",
       "      <td></td>\n",
       "      <td>18521522</td>\n",
       "      <td></td>\n",
       "      <td></td>\n",
       "      <td>Sugar Baby Lies</td>\n",
       "    </tr>\n",
       "    <tr>\n",
       "      <th>17992</th>\n",
       "      <td></td>\n",
       "      <td>[]</td>\n",
       "      <td></td>\n",
       "      <td></td>\n",
       "      <td></td>\n",
       "      <td></td>\n",
       "      <td></td>\n",
       "      <td>[]</td>\n",
       "      <td></td>\n",
       "      <td></td>\n",
       "      <td>[]</td>\n",
       "      <td></td>\n",
       "      <td></td>\n",
       "      <td></td>\n",
       "      <td></td>\n",
       "      <td>28253116</td>\n",
       "      <td></td>\n",
       "      <td></td>\n",
       "      <td>Justice League United #16</td>\n",
       "    </tr>\n",
       "    <tr>\n",
       "      <th>21756</th>\n",
       "      <td></td>\n",
       "      <td>[]</td>\n",
       "      <td></td>\n",
       "      <td></td>\n",
       "      <td></td>\n",
       "      <td></td>\n",
       "      <td></td>\n",
       "      <td>[]</td>\n",
       "      <td></td>\n",
       "      <td></td>\n",
       "      <td>[]</td>\n",
       "      <td></td>\n",
       "      <td></td>\n",
       "      <td></td>\n",
       "      <td></td>\n",
       "      <td>17796597</td>\n",
       "      <td></td>\n",
       "      <td></td>\n",
       "      <td>Batman Incorporated #6 (Batman Incorporated New 52 #6)</td>\n",
       "    </tr>\n",
       "  </tbody>\n",
       "</table>\n",
       "</div>"
      ],
      "text/plain": [
       "      text_reviews_count series language_code asin is_ebook average_rating  \\\n",
       "1687                         []                                              \n",
       "10658                        []                                              \n",
       "14340                        []                                              \n",
       "17992                        []                                              \n",
       "21756                        []                                              \n",
       "\n",
       "      kindle_asin similar_books description format authors publisher  \\\n",
       "1687                         []                         []             \n",
       "10658                        []                         []             \n",
       "14340                        []                         []             \n",
       "17992                        []                         []             \n",
       "21756                        []                         []             \n",
       "\n",
       "      num_pages edition_information publication_year   book_id ratings_count  \\\n",
       "1687                                                  23699819                 \n",
       "10658                                                  2597774                 \n",
       "14340                                                 18521522                 \n",
       "17992                                                 28253116                 \n",
       "21756                                                 17796597                 \n",
       "\n",
       "      work_id                                                   title  \n",
       "1687              Infinity Man and the Forever People #1 (The New 52)  \n",
       "10658                                               Wade of Aquitaine  \n",
       "14340                                                 Sugar Baby Lies  \n",
       "17992                                       Justice League United #16  \n",
       "21756          Batman Incorporated #6 (Batman Incorporated New 52 #6)  "
      ]
     },
     "execution_count": 17,
     "metadata": {},
     "output_type": "execute_result"
    }
   ],
   "source": [
    "print(f'The number of books having no information on ratings are {booklist_compiled[(booklist_compiled.average_rating == \"\") | (booklist_compiled.ratings_count == \"\")].shape[0]}')\n",
    "booklist_compiled[(booklist_compiled.average_rating == \"\") | (booklist_compiled.ratings_count == \"\")].head()"
   ]
  },
  {
   "cell_type": "markdown",
   "metadata": {},
   "source": [
    "**Analysis: These books have majority of the information missing.**\n",
    "\n",
    "Some important information including text_reviews_count, series, average_rating, similar_books, authors, ratings_count, work_id are missing in all of these books. Thus, these books will be removed from the booklist_compiled."
   ]
  },
  {
   "cell_type": "code",
   "execution_count": 18,
   "metadata": {},
   "outputs": [],
   "source": [
    "# Listing the bookid removed from the booklist_compiled\n",
    "bookid_removed = booklist_compiled[(booklist_compiled.average_rating == \"\") | (booklist_compiled.ratings_count == \"\")][[\"book_id\"]].reset_index(drop=True)\n",
    "bookid_removed.book_id = bookid_removed.book_id.astype(int)\n",
    "\n",
    "# Removing these books from the booklist_compiled\n",
    "booklist_compiled = booklist_compiled[(booklist_compiled.average_rating != \"\") & (booklist_compiled.ratings_count != \"\")].reset_index(drop = True)"
   ]
  },
  {
   "cell_type": "markdown",
   "metadata": {},
   "source": [
    "### 3.4.4 Changing numerical columns to integers/float\n",
    "\n",
    "**Will change the numerical columns below to integer/float**\n",
    "* text_reviews_count, average_rating, book_id, ratings_count, work_id\n",
    "\n",
    "**Assign 0 for false/not-present and 1 for true/available**\n",
    "* asin, is_ebook, kindle_asin"
   ]
  },
  {
   "cell_type": "code",
   "execution_count": 19,
   "metadata": {
    "scrolled": true
   },
   "outputs": [],
   "source": [
    "booklist_compiled.text_reviews_count = booklist_compiled.text_reviews_count.astype(int)\n",
    "booklist_compiled.average_rating = booklist_compiled.average_rating.astype(float)\n",
    "booklist_compiled.book_id = booklist_compiled.book_id.astype(int)\n",
    "booklist_compiled.ratings_count = booklist_compiled.ratings_count.astype(int)\n",
    "booklist_compiled.work_id = booklist_compiled.work_id.astype(int)"
   ]
  },
  {
   "cell_type": "code",
   "execution_count": 20,
   "metadata": {},
   "outputs": [
    {
     "data": {
      "text/plain": [
       "array(['false', 'true'], dtype=object)"
      ]
     },
     "execution_count": 20,
     "metadata": {},
     "output_type": "execute_result"
    }
   ],
   "source": [
    "booklist_compiled.is_ebook.unique()"
   ]
  },
  {
   "cell_type": "code",
   "execution_count": 21,
   "metadata": {},
   "outputs": [],
   "source": [
    "booklist_compiled.is_ebook = booklist_compiled.is_ebook.map({\"false\" : 0, \"true\" : 1})\n",
    "booklist_compiled.asin = booklist_compiled.asin.apply(lambda x: 0 if x == \"\" else 1)\n",
    "booklist_compiled.kindle_asin = booklist_compiled.kindle_asin.apply(lambda x: 0 if x == \"\" else 1)"
   ]
  },
  {
   "cell_type": "markdown",
   "metadata": {},
   "source": [
    "### 3.4.5 Authors"
   ]
  },
  {
   "cell_type": "markdown",
   "metadata": {},
   "source": [
    "### 3.4.5.1 Author roles"
   ]
  },
  {
   "cell_type": "code",
   "execution_count": 22,
   "metadata": {},
   "outputs": [],
   "source": [
    "author_roles = []\n",
    "\n",
    "for index, rows in enumerate (booklist_compiled['authors']):\n",
    "    for num in range (len(rows)):\n",
    "        author_roles.extend([booklist_compiled['authors'][index][num]['role']])"
   ]
  },
  {
   "cell_type": "code",
   "execution_count": 23,
   "metadata": {
    "scrolled": true
   },
   "outputs": [
    {
     "data": {
      "text/plain": [
       "['',\n",
       " 'contributing illustrator',\n",
       " 'Translator, Editor',\n",
       " 'Editor. Translator',\n",
       " 'trjm@ mHmd zydn ',\n",
       " 'Publisher',\n",
       " 'contributor with Solidi-chapter',\n",
       " 'Neville Jason, Narrator',\n",
       " 'orignally published as',\n",
       " 'Contri',\n",
       " 'Compliador',\n",
       " 'Opening',\n",
       " 'Pencils/Inks',\n",
       " 'Notes',\n",
       " 'Editor (credited as)',\n",
       " 'online fiction writer',\n",
       " 'Editor / Author',\n",
       " 'Editor, and Narrator',\n",
       " 'Dessin et couleur',\n",
       " 'Colorer']"
      ]
     },
     "execution_count": 23,
     "metadata": {},
     "output_type": "execute_result"
    }
   ],
   "source": [
    "list(set(author_roles))[0:20]"
   ]
  },
  {
   "cell_type": "markdown",
   "metadata": {},
   "source": [
    "### 3.4.5.2 Creating a dataframe of multiple authors and roles"
   ]
  },
  {
   "cell_type": "code",
   "execution_count": 24,
   "metadata": {
    "scrolled": true
   },
   "outputs": [],
   "source": [
    "# Listing all authors for each book_id\n",
    "multiple_authors_list = []\n",
    "\n",
    "for index, rows in enumerate (booklist_compiled['authors']):\n",
    "    for num in range (len(rows)):\n",
    "        multiple_authors_list.extend([[booklist_compiled[\"work_id\"][index], booklist_compiled[\"book_id\"][index], booklist_compiled[\"title\"][index], booklist_compiled['authors'][index][num]['author_id'],  booklist_compiled['authors'][index][num]['role']]])"
   ]
  },
  {
   "cell_type": "code",
   "execution_count": 25,
   "metadata": {
    "scrolled": false
   },
   "outputs": [
    {
     "data": {
      "text/html": [
       "<div>\n",
       "<style scoped>\n",
       "    .dataframe tbody tr th:only-of-type {\n",
       "        vertical-align: middle;\n",
       "    }\n",
       "\n",
       "    .dataframe tbody tr th {\n",
       "        vertical-align: top;\n",
       "    }\n",
       "\n",
       "    .dataframe thead th {\n",
       "        text-align: right;\n",
       "    }\n",
       "</style>\n",
       "<table border=\"1\" class=\"dataframe\">\n",
       "  <thead>\n",
       "    <tr style=\"text-align: right;\">\n",
       "      <th></th>\n",
       "      <th>work_id</th>\n",
       "      <th>book_id</th>\n",
       "      <th>title</th>\n",
       "      <th>author_id</th>\n",
       "      <th>role</th>\n",
       "    </tr>\n",
       "  </thead>\n",
       "  <tbody>\n",
       "    <tr>\n",
       "      <th>0</th>\n",
       "      <td>5400751</td>\n",
       "      <td>5333265</td>\n",
       "      <td>W.C. Fields: A Life on Film</td>\n",
       "      <td>604031</td>\n",
       "      <td></td>\n",
       "    </tr>\n",
       "    <tr>\n",
       "      <th>1</th>\n",
       "      <td>1323437</td>\n",
       "      <td>1333909</td>\n",
       "      <td>Good Harbor</td>\n",
       "      <td>626222</td>\n",
       "      <td></td>\n",
       "    </tr>\n",
       "    <tr>\n",
       "      <th>2</th>\n",
       "      <td>8948723</td>\n",
       "      <td>7327624</td>\n",
       "      <td>The Unschooled Wizard (Sun Wolf and Starhawk, #1-2)</td>\n",
       "      <td>10333</td>\n",
       "      <td></td>\n",
       "    </tr>\n",
       "    <tr>\n",
       "      <th>3</th>\n",
       "      <td>6243154</td>\n",
       "      <td>6066819</td>\n",
       "      <td>Best Friends Forever</td>\n",
       "      <td>9212</td>\n",
       "      <td></td>\n",
       "    </tr>\n",
       "    <tr>\n",
       "      <th>4</th>\n",
       "      <td>278577</td>\n",
       "      <td>287140</td>\n",
       "      <td>Runic Astrology: Starcraft and Timekeeping in the Northern Tradition</td>\n",
       "      <td>149918</td>\n",
       "      <td></td>\n",
       "    </tr>\n",
       "  </tbody>\n",
       "</table>\n",
       "</div>"
      ],
      "text/plain": [
       "   work_id  book_id  \\\n",
       "0  5400751  5333265   \n",
       "1  1323437  1333909   \n",
       "2  8948723  7327624   \n",
       "3  6243154  6066819   \n",
       "4   278577   287140   \n",
       "\n",
       "                                                                  title  \\\n",
       "0                                           W.C. Fields: A Life on Film   \n",
       "1                                                           Good Harbor   \n",
       "2                   The Unschooled Wizard (Sun Wolf and Starhawk, #1-2)   \n",
       "3                                                  Best Friends Forever   \n",
       "4  Runic Astrology: Starcraft and Timekeeping in the Northern Tradition   \n",
       "\n",
       "  author_id role  \n",
       "0    604031       \n",
       "1    626222       \n",
       "2     10333       \n",
       "3      9212       \n",
       "4    149918       "
      ]
     },
     "execution_count": 25,
     "metadata": {},
     "output_type": "execute_result"
    }
   ],
   "source": [
    "# Create a dataframe listing all authors for each book_id\n",
    "multiple_authors_df = pd.DataFrame(multiple_authors_list, columns = [\"work_id\", \"book_id\",\"title\",\"author_id\", \"role\"])\n",
    "multiple_authors_df.head()"
   ]
  },
  {
   "cell_type": "code",
   "execution_count": 26,
   "metadata": {},
   "outputs": [
    {
     "data": {
      "text/plain": [
       "work_id       int64\n",
       "book_id       int64\n",
       "title        object\n",
       "author_id    object\n",
       "role         object\n",
       "dtype: object"
      ]
     },
     "execution_count": 26,
     "metadata": {},
     "output_type": "execute_result"
    }
   ],
   "source": [
    "multiple_authors_df.dtypes"
   ]
  },
  {
   "cell_type": "code",
   "execution_count": 27,
   "metadata": {},
   "outputs": [
    {
     "data": {
      "text/plain": [
       "dtype('int32')"
      ]
     },
     "execution_count": 27,
     "metadata": {},
     "output_type": "execute_result"
    }
   ],
   "source": [
    "# To change the author_id to integer\n",
    "multiple_authors_df['author_id'] = multiple_authors_df['author_id'].astype(int)\n",
    "multiple_authors_df.author_id.dtypes"
   ]
  },
  {
   "cell_type": "code",
   "execution_count": 28,
   "metadata": {},
   "outputs": [
    {
     "data": {
      "text/html": [
       "<div>\n",
       "<style scoped>\n",
       "    .dataframe tbody tr th:only-of-type {\n",
       "        vertical-align: middle;\n",
       "    }\n",
       "\n",
       "    .dataframe tbody tr th {\n",
       "        vertical-align: top;\n",
       "    }\n",
       "\n",
       "    .dataframe thead th {\n",
       "        text-align: right;\n",
       "    }\n",
       "</style>\n",
       "<table border=\"1\" class=\"dataframe\">\n",
       "  <thead>\n",
       "    <tr style=\"text-align: right;\">\n",
       "      <th></th>\n",
       "      <th>work_id</th>\n",
       "      <th>book_id</th>\n",
       "      <th>title</th>\n",
       "      <th>author_id</th>\n",
       "      <th>role</th>\n",
       "      <th>author_name</th>\n",
       "    </tr>\n",
       "  </thead>\n",
       "  <tbody>\n",
       "    <tr>\n",
       "      <th>0</th>\n",
       "      <td>5400751</td>\n",
       "      <td>5333265</td>\n",
       "      <td>W.C. Fields: A Life on Film</td>\n",
       "      <td>604031</td>\n",
       "      <td></td>\n",
       "      <td>Ronald J. Fields</td>\n",
       "    </tr>\n",
       "    <tr>\n",
       "      <th>1</th>\n",
       "      <td>1323437</td>\n",
       "      <td>1333909</td>\n",
       "      <td>Good Harbor</td>\n",
       "      <td>626222</td>\n",
       "      <td></td>\n",
       "      <td>Anita Diamant</td>\n",
       "    </tr>\n",
       "    <tr>\n",
       "      <th>2</th>\n",
       "      <td>8948723</td>\n",
       "      <td>7327624</td>\n",
       "      <td>The Unschooled Wizard (Sun Wolf and Starhawk, #1-2)</td>\n",
       "      <td>10333</td>\n",
       "      <td></td>\n",
       "      <td>Barbara Hambly</td>\n",
       "    </tr>\n",
       "    <tr>\n",
       "      <th>3</th>\n",
       "      <td>6243154</td>\n",
       "      <td>6066819</td>\n",
       "      <td>Best Friends Forever</td>\n",
       "      <td>9212</td>\n",
       "      <td></td>\n",
       "      <td>Jennifer Weiner</td>\n",
       "    </tr>\n",
       "    <tr>\n",
       "      <th>4</th>\n",
       "      <td>278577</td>\n",
       "      <td>287140</td>\n",
       "      <td>Runic Astrology: Starcraft and Timekeeping in the Northern Tradition</td>\n",
       "      <td>149918</td>\n",
       "      <td></td>\n",
       "      <td>Nigel Pennick</td>\n",
       "    </tr>\n",
       "  </tbody>\n",
       "</table>\n",
       "</div>"
      ],
      "text/plain": [
       "   work_id  book_id  \\\n",
       "0  5400751  5333265   \n",
       "1  1323437  1333909   \n",
       "2  8948723  7327624   \n",
       "3  6243154  6066819   \n",
       "4   278577   287140   \n",
       "\n",
       "                                                                  title  \\\n",
       "0                                           W.C. Fields: A Life on Film   \n",
       "1                                                           Good Harbor   \n",
       "2                   The Unschooled Wizard (Sun Wolf and Starhawk, #1-2)   \n",
       "3                                                  Best Friends Forever   \n",
       "4  Runic Astrology: Starcraft and Timekeeping in the Northern Tradition   \n",
       "\n",
       "   author_id role       author_name  \n",
       "0     604031       Ronald J. Fields  \n",
       "1     626222          Anita Diamant  \n",
       "2      10333         Barbara Hambly  \n",
       "3       9212        Jennifer Weiner  \n",
       "4     149918          Nigel Pennick  "
      ]
     },
     "execution_count": 28,
     "metadata": {},
     "output_type": "execute_result"
    }
   ],
   "source": [
    "multiple_authors_name_df = pd.merge(multiple_authors_df, authors_list, how = 'left', on = 'author_id')\n",
    "multiple_authors_name_df.head()"
   ]
  },
  {
   "cell_type": "code",
   "execution_count": 29,
   "metadata": {
    "scrolled": false
   },
   "outputs": [
    {
     "data": {
      "text/plain": [
       "work_id  book_id  title  author_id  role   author_name\n",
       "False    False    False  False      False  False          3323621\n",
       "dtype: int64"
      ]
     },
     "execution_count": 29,
     "metadata": {},
     "output_type": "execute_result"
    }
   ],
   "source": [
    "multiple_authors_name_df.isnull().value_counts()"
   ]
  },
  {
   "cell_type": "markdown",
   "metadata": {},
   "source": [
    "### 3.4.5.3 Generate a first_author for the main dataframe"
   ]
  },
  {
   "cell_type": "markdown",
   "metadata": {},
   "source": [
    "#### A) Formulate a table with book_id and author_id from the main dataframe"
   ]
  },
  {
   "cell_type": "code",
   "execution_count": 30,
   "metadata": {},
   "outputs": [
    {
     "data": {
      "text/html": [
       "<div>\n",
       "<style scoped>\n",
       "    .dataframe tbody tr th:only-of-type {\n",
       "        vertical-align: middle;\n",
       "    }\n",
       "\n",
       "    .dataframe tbody tr th {\n",
       "        vertical-align: top;\n",
       "    }\n",
       "\n",
       "    .dataframe thead th {\n",
       "        text-align: right;\n",
       "    }\n",
       "</style>\n",
       "<table border=\"1\" class=\"dataframe\">\n",
       "  <thead>\n",
       "    <tr style=\"text-align: right;\">\n",
       "      <th></th>\n",
       "      <th>text_reviews_count</th>\n",
       "      <th>series</th>\n",
       "      <th>language_code</th>\n",
       "      <th>asin</th>\n",
       "      <th>is_ebook</th>\n",
       "      <th>average_rating</th>\n",
       "      <th>kindle_asin</th>\n",
       "      <th>similar_books</th>\n",
       "      <th>description</th>\n",
       "      <th>format</th>\n",
       "      <th>authors</th>\n",
       "      <th>publisher</th>\n",
       "      <th>num_pages</th>\n",
       "      <th>edition_information</th>\n",
       "      <th>publication_year</th>\n",
       "      <th>book_id</th>\n",
       "      <th>ratings_count</th>\n",
       "      <th>work_id</th>\n",
       "      <th>title</th>\n",
       "    </tr>\n",
       "  </thead>\n",
       "  <tbody>\n",
       "    <tr>\n",
       "      <th>0</th>\n",
       "      <td>1</td>\n",
       "      <td>[]</td>\n",
       "      <td></td>\n",
       "      <td>0</td>\n",
       "      <td>0</td>\n",
       "      <td>4.0</td>\n",
       "      <td>0</td>\n",
       "      <td>[]</td>\n",
       "      <td></td>\n",
       "      <td>Paperback</td>\n",
       "      <td>[{'author_id': '604031', 'role': ''}]</td>\n",
       "      <td>St. Martin's Press</td>\n",
       "      <td>256</td>\n",
       "      <td></td>\n",
       "      <td>1984</td>\n",
       "      <td>5333265</td>\n",
       "      <td>3</td>\n",
       "      <td>5400751</td>\n",
       "      <td>W.C. Fields: A Life on Film</td>\n",
       "    </tr>\n",
       "  </tbody>\n",
       "</table>\n",
       "</div>"
      ],
      "text/plain": [
       "   text_reviews_count series language_code  asin  is_ebook  average_rating  \\\n",
       "0                   1     []                   0         0             4.0   \n",
       "\n",
       "   kindle_asin similar_books description     format  \\\n",
       "0            0            []              Paperback   \n",
       "\n",
       "                                 authors           publisher num_pages  \\\n",
       "0  [{'author_id': '604031', 'role': ''}]  St. Martin's Press       256   \n",
       "\n",
       "  edition_information publication_year  book_id  ratings_count  work_id  \\\n",
       "0                                 1984  5333265              3  5400751   \n",
       "\n",
       "                         title  \n",
       "0  W.C. Fields: A Life on Film  "
      ]
     },
     "execution_count": 30,
     "metadata": {},
     "output_type": "execute_result"
    }
   ],
   "source": [
    "booklist_compiled.head(1)"
   ]
  },
  {
   "cell_type": "code",
   "execution_count": 31,
   "metadata": {},
   "outputs": [],
   "source": [
    "# Check if there are books with no authors listed in the booklist_compiled\n",
    "no_authors_index = []\n",
    "\n",
    "for index, value in enumerate (booklist_compiled['authors']):\n",
    "    if len(value)==0:\n",
    "        no_authors_index.extend([[index, booklist_compiled['book_id'][index]]])"
   ]
  },
  {
   "cell_type": "code",
   "execution_count": 32,
   "metadata": {},
   "outputs": [
    {
     "name": "stdout",
     "output_type": "stream",
     "text": [
      "The number of books that do not have authors listed in the booklist_compiled is 13\n"
     ]
    },
    {
     "data": {
      "text/html": [
       "<div>\n",
       "<style scoped>\n",
       "    .dataframe tbody tr th:only-of-type {\n",
       "        vertical-align: middle;\n",
       "    }\n",
       "\n",
       "    .dataframe tbody tr th {\n",
       "        vertical-align: top;\n",
       "    }\n",
       "\n",
       "    .dataframe thead th {\n",
       "        text-align: right;\n",
       "    }\n",
       "</style>\n",
       "<table border=\"1\" class=\"dataframe\">\n",
       "  <thead>\n",
       "    <tr style=\"text-align: right;\">\n",
       "      <th></th>\n",
       "      <th>index</th>\n",
       "      <th>book_id</th>\n",
       "    </tr>\n",
       "  </thead>\n",
       "  <tbody>\n",
       "    <tr>\n",
       "      <th>0</th>\n",
       "      <td>327014</td>\n",
       "      <td>711979</td>\n",
       "    </tr>\n",
       "    <tr>\n",
       "      <th>1</th>\n",
       "      <td>665742</td>\n",
       "      <td>7520314</td>\n",
       "    </tr>\n",
       "    <tr>\n",
       "      <th>2</th>\n",
       "      <td>818768</td>\n",
       "      <td>694332</td>\n",
       "    </tr>\n",
       "    <tr>\n",
       "      <th>3</th>\n",
       "      <td>902769</td>\n",
       "      <td>18247372</td>\n",
       "    </tr>\n",
       "    <tr>\n",
       "      <th>4</th>\n",
       "      <td>1013124</td>\n",
       "      <td>6033275</td>\n",
       "    </tr>\n",
       "  </tbody>\n",
       "</table>\n",
       "</div>"
      ],
      "text/plain": [
       "     index   book_id\n",
       "0   327014    711979\n",
       "1   665742   7520314\n",
       "2   818768    694332\n",
       "3   902769  18247372\n",
       "4  1013124   6033275"
      ]
     },
     "execution_count": 32,
     "metadata": {},
     "output_type": "execute_result"
    }
   ],
   "source": [
    "# Create a dataframe listing books with no authors listed in the booklist compiled\n",
    "no_authors_booklist_df = pd.DataFrame(no_authors_index, columns = ['index', 'book_id'])\n",
    "print(f\"The number of books that do not have authors listed in the booklist_compiled is {no_authors_booklist_df.shape[0]}\")\n",
    "no_authors_booklist_df.head()"
   ]
  },
  {
   "cell_type": "code",
   "execution_count": 33,
   "metadata": {},
   "outputs": [],
   "source": [
    "# Listing the book_id and first author_id\n",
    "first_author_list = []\n",
    "\n",
    "for index, value in enumerate (booklist_compiled['authors']):\n",
    "    if len(value)!=0:\n",
    "        first_author_list.extend([[booklist_compiled['book_id'][index], value[0][\"author_id\"]]])"
   ]
  },
  {
   "cell_type": "code",
   "execution_count": 34,
   "metadata": {},
   "outputs": [
    {
     "name": "stdout",
     "output_type": "stream",
     "text": [
      "The first_author_df rows and columns are (2360118, 2)\n"
     ]
    },
    {
     "data": {
      "text/html": [
       "<div>\n",
       "<style scoped>\n",
       "    .dataframe tbody tr th:only-of-type {\n",
       "        vertical-align: middle;\n",
       "    }\n",
       "\n",
       "    .dataframe tbody tr th {\n",
       "        vertical-align: top;\n",
       "    }\n",
       "\n",
       "    .dataframe thead th {\n",
       "        text-align: right;\n",
       "    }\n",
       "</style>\n",
       "<table border=\"1\" class=\"dataframe\">\n",
       "  <thead>\n",
       "    <tr style=\"text-align: right;\">\n",
       "      <th></th>\n",
       "      <th>book_id</th>\n",
       "      <th>author_id</th>\n",
       "    </tr>\n",
       "  </thead>\n",
       "  <tbody>\n",
       "    <tr>\n",
       "      <th>0</th>\n",
       "      <td>5333265</td>\n",
       "      <td>604031</td>\n",
       "    </tr>\n",
       "    <tr>\n",
       "      <th>1</th>\n",
       "      <td>1333909</td>\n",
       "      <td>626222</td>\n",
       "    </tr>\n",
       "    <tr>\n",
       "      <th>2</th>\n",
       "      <td>7327624</td>\n",
       "      <td>10333</td>\n",
       "    </tr>\n",
       "    <tr>\n",
       "      <th>3</th>\n",
       "      <td>6066819</td>\n",
       "      <td>9212</td>\n",
       "    </tr>\n",
       "    <tr>\n",
       "      <th>4</th>\n",
       "      <td>287140</td>\n",
       "      <td>149918</td>\n",
       "    </tr>\n",
       "  </tbody>\n",
       "</table>\n",
       "</div>"
      ],
      "text/plain": [
       "   book_id author_id\n",
       "0  5333265    604031\n",
       "1  1333909    626222\n",
       "2  7327624     10333\n",
       "3  6066819      9212\n",
       "4   287140    149918"
      ]
     },
     "execution_count": 34,
     "metadata": {},
     "output_type": "execute_result"
    }
   ],
   "source": [
    "# Create a dataframe listing the book_id and first author_id\n",
    "first_author_df = pd.DataFrame(first_author_list, columns = [\"book_id\", 'author_id'])\n",
    "print(f\"The first_author_df rows and columns are {first_author_df.shape}\")\n",
    "first_author_df.head()"
   ]
  },
  {
   "cell_type": "code",
   "execution_count": 35,
   "metadata": {},
   "outputs": [
    {
     "data": {
      "text/plain": [
       "book_id       int64\n",
       "author_id    object\n",
       "dtype: object"
      ]
     },
     "execution_count": 35,
     "metadata": {},
     "output_type": "execute_result"
    }
   ],
   "source": [
    "first_author_df.dtypes"
   ]
  },
  {
   "cell_type": "code",
   "execution_count": 36,
   "metadata": {},
   "outputs": [
    {
     "data": {
      "text/plain": [
       "dtype('int32')"
      ]
     },
     "execution_count": 36,
     "metadata": {},
     "output_type": "execute_result"
    }
   ],
   "source": [
    "# To change the author_id to integer\n",
    "first_author_df['author_id'] = first_author_df['author_id'].astype(int)\n",
    "first_author_df.author_id.dtypes"
   ]
  },
  {
   "cell_type": "markdown",
   "metadata": {},
   "source": [
    "#### B) Obtain the first_author_name from the author_list"
   ]
  },
  {
   "cell_type": "code",
   "execution_count": 37,
   "metadata": {},
   "outputs": [
    {
     "data": {
      "text/html": [
       "<div>\n",
       "<style scoped>\n",
       "    .dataframe tbody tr th:only-of-type {\n",
       "        vertical-align: middle;\n",
       "    }\n",
       "\n",
       "    .dataframe tbody tr th {\n",
       "        vertical-align: top;\n",
       "    }\n",
       "\n",
       "    .dataframe thead th {\n",
       "        text-align: right;\n",
       "    }\n",
       "</style>\n",
       "<table border=\"1\" class=\"dataframe\">\n",
       "  <thead>\n",
       "    <tr style=\"text-align: right;\">\n",
       "      <th></th>\n",
       "      <th>book_id</th>\n",
       "      <th>author_name</th>\n",
       "    </tr>\n",
       "  </thead>\n",
       "  <tbody>\n",
       "    <tr>\n",
       "      <th>0</th>\n",
       "      <td>5333265</td>\n",
       "      <td>Ronald J. Fields</td>\n",
       "    </tr>\n",
       "    <tr>\n",
       "      <th>1</th>\n",
       "      <td>1333909</td>\n",
       "      <td>Anita Diamant</td>\n",
       "    </tr>\n",
       "    <tr>\n",
       "      <th>2</th>\n",
       "      <td>7327624</td>\n",
       "      <td>Barbara Hambly</td>\n",
       "    </tr>\n",
       "    <tr>\n",
       "      <th>3</th>\n",
       "      <td>6066819</td>\n",
       "      <td>Jennifer Weiner</td>\n",
       "    </tr>\n",
       "    <tr>\n",
       "      <th>4</th>\n",
       "      <td>287140</td>\n",
       "      <td>Nigel Pennick</td>\n",
       "    </tr>\n",
       "  </tbody>\n",
       "</table>\n",
       "</div>"
      ],
      "text/plain": [
       "   book_id       author_name\n",
       "0  5333265  Ronald J. Fields\n",
       "1  1333909     Anita Diamant\n",
       "2  7327624    Barbara Hambly\n",
       "3  6066819   Jennifer Weiner\n",
       "4   287140     Nigel Pennick"
      ]
     },
     "execution_count": 37,
     "metadata": {},
     "output_type": "execute_result"
    }
   ],
   "source": [
    "first_author_name_df = pd.merge(first_author_df, authors_list, how = 'left', on = 'author_id')\n",
    "first_author_name_df = first_author_name_df.drop([\"author_id\"], axis = 1)\n",
    "first_author_name_df.head()"
   ]
  },
  {
   "cell_type": "markdown",
   "metadata": {},
   "source": [
    "#### C) Combine with the main dataframe"
   ]
  },
  {
   "cell_type": "code",
   "execution_count": 38,
   "metadata": {
    "scrolled": true
   },
   "outputs": [
    {
     "data": {
      "text/html": [
       "<div>\n",
       "<style scoped>\n",
       "    .dataframe tbody tr th:only-of-type {\n",
       "        vertical-align: middle;\n",
       "    }\n",
       "\n",
       "    .dataframe tbody tr th {\n",
       "        vertical-align: top;\n",
       "    }\n",
       "\n",
       "    .dataframe thead th {\n",
       "        text-align: right;\n",
       "    }\n",
       "</style>\n",
       "<table border=\"1\" class=\"dataframe\">\n",
       "  <thead>\n",
       "    <tr style=\"text-align: right;\">\n",
       "      <th></th>\n",
       "      <th>text_reviews_count</th>\n",
       "      <th>series</th>\n",
       "      <th>language_code</th>\n",
       "      <th>asin</th>\n",
       "      <th>is_ebook</th>\n",
       "      <th>average_rating</th>\n",
       "      <th>kindle_asin</th>\n",
       "      <th>similar_books</th>\n",
       "      <th>description</th>\n",
       "      <th>format</th>\n",
       "      <th>publisher</th>\n",
       "      <th>num_pages</th>\n",
       "      <th>edition_information</th>\n",
       "      <th>publication_year</th>\n",
       "      <th>book_id</th>\n",
       "      <th>ratings_count</th>\n",
       "      <th>work_id</th>\n",
       "      <th>title</th>\n",
       "      <th>author_name</th>\n",
       "    </tr>\n",
       "  </thead>\n",
       "  <tbody>\n",
       "    <tr>\n",
       "      <th>0</th>\n",
       "      <td>1</td>\n",
       "      <td>[]</td>\n",
       "      <td></td>\n",
       "      <td>0</td>\n",
       "      <td>0</td>\n",
       "      <td>4.0</td>\n",
       "      <td>0</td>\n",
       "      <td>[]</td>\n",
       "      <td></td>\n",
       "      <td>Paperback</td>\n",
       "      <td>St. Martin's Press</td>\n",
       "      <td>256</td>\n",
       "      <td></td>\n",
       "      <td>1984</td>\n",
       "      <td>5333265</td>\n",
       "      <td>3</td>\n",
       "      <td>5400751</td>\n",
       "      <td>W.C. Fields: A Life on Film</td>\n",
       "      <td>Ronald J. Fields</td>\n",
       "    </tr>\n",
       "  </tbody>\n",
       "</table>\n",
       "</div>"
      ],
      "text/plain": [
       "   text_reviews_count series language_code  asin  is_ebook  average_rating  \\\n",
       "0                   1     []                   0         0             4.0   \n",
       "\n",
       "   kindle_asin similar_books description     format           publisher  \\\n",
       "0            0            []              Paperback  St. Martin's Press   \n",
       "\n",
       "  num_pages edition_information publication_year  book_id  ratings_count  \\\n",
       "0       256                                 1984  5333265              3   \n",
       "\n",
       "   work_id                        title       author_name  \n",
       "0  5400751  W.C. Fields: A Life on Film  Ronald J. Fields  "
      ]
     },
     "execution_count": 38,
     "metadata": {},
     "output_type": "execute_result"
    }
   ],
   "source": [
    "booklist_compiled = pd.merge(booklist_compiled, first_author_name_df, how = 'left', on = 'book_id')\n",
    "booklist_compiled = booklist_compiled.drop([\"authors\"], axis = 1)\n",
    "booklist_compiled.head(1)"
   ]
  },
  {
   "cell_type": "code",
   "execution_count": 39,
   "metadata": {},
   "outputs": [
    {
     "name": "stdout",
     "output_type": "stream",
     "text": [
      "The number of books with no author names in booklist_compiled are 15\n"
     ]
    }
   ],
   "source": [
    "booklist_compiled.author_name = booklist_compiled.author_name.fillna(\"\")\n",
    "print(f'The number of books with no author names in booklist_compiled are {len(booklist_compiled[booklist_compiled.author_name == \"\"])}')"
   ]
  },
  {
   "cell_type": "code",
   "execution_count": 40,
   "metadata": {
    "scrolled": false
   },
   "outputs": [
    {
     "name": "stdout",
     "output_type": "stream",
     "text": [
      "The number of books with no title in booklist_compiled are 7\n"
     ]
    },
    {
     "data": {
      "text/html": [
       "<div>\n",
       "<style scoped>\n",
       "    .dataframe tbody tr th:only-of-type {\n",
       "        vertical-align: middle;\n",
       "    }\n",
       "\n",
       "    .dataframe tbody tr th {\n",
       "        vertical-align: top;\n",
       "    }\n",
       "\n",
       "    .dataframe thead th {\n",
       "        text-align: right;\n",
       "    }\n",
       "</style>\n",
       "<table border=\"1\" class=\"dataframe\">\n",
       "  <thead>\n",
       "    <tr style=\"text-align: right;\">\n",
       "      <th></th>\n",
       "      <th>text_reviews_count</th>\n",
       "      <th>series</th>\n",
       "      <th>language_code</th>\n",
       "      <th>asin</th>\n",
       "      <th>is_ebook</th>\n",
       "      <th>average_rating</th>\n",
       "      <th>kindle_asin</th>\n",
       "      <th>similar_books</th>\n",
       "      <th>description</th>\n",
       "      <th>format</th>\n",
       "      <th>publisher</th>\n",
       "      <th>num_pages</th>\n",
       "      <th>edition_information</th>\n",
       "      <th>publication_year</th>\n",
       "      <th>book_id</th>\n",
       "      <th>ratings_count</th>\n",
       "      <th>work_id</th>\n",
       "      <th>title</th>\n",
       "      <th>author_name</th>\n",
       "    </tr>\n",
       "  </thead>\n",
       "  <tbody>\n",
       "    <tr>\n",
       "      <th>896296</th>\n",
       "      <td>3</td>\n",
       "      <td>[]</td>\n",
       "      <td></td>\n",
       "      <td>0</td>\n",
       "      <td>0</td>\n",
       "      <td>3.63</td>\n",
       "      <td>0</td>\n",
       "      <td>[121457, 575252, 2849, 7793505, 809653, 299360, 138200, 1163099, 218201, 1219437, 81814, 15798667, 534963, 428050, 297736, 503558, 1300476, 233331]</td>\n",
       "      <td>Ben has always been content to be brilliant at chemistry and to live apart with his outspoken familiar (George), but recently he has begun to want approval and friendship from other people. But George keeps asking why work so hard and miss so much else, and what is that doubtful character William up to working overtime in the Chemistry Lab?\\nAnother humorous, original book by the author of Jennifer, Hecate, Macbeth and Me and From the Mixed-up Files of Mrs Basil E. Frankweiler.</td>\n",
       "      <td>Paperback</td>\n",
       "      <td>Yearling</td>\n",
       "      <td>160</td>\n",
       "      <td></td>\n",
       "      <td>1985</td>\n",
       "      <td>2433394</td>\n",
       "      <td>8</td>\n",
       "      <td>2440582</td>\n",
       "      <td></td>\n",
       "      <td>E.L. Konigsburg</td>\n",
       "    </tr>\n",
       "  </tbody>\n",
       "</table>\n",
       "</div>"
      ],
      "text/plain": [
       "        text_reviews_count series language_code  asin  is_ebook  \\\n",
       "896296                   3     []                   0         0   \n",
       "\n",
       "        average_rating  kindle_asin  \\\n",
       "896296            3.63            0   \n",
       "\n",
       "                                                                                                                                              similar_books  \\\n",
       "896296  [121457, 575252, 2849, 7793505, 809653, 299360, 138200, 1163099, 218201, 1219437, 81814, 15798667, 534963, 428050, 297736, 503558, 1300476, 233331]   \n",
       "\n",
       "                                                                                                                                                                                                                                                                                                                                                                                                                                                                                               description  \\\n",
       "896296  Ben has always been content to be brilliant at chemistry and to live apart with his outspoken familiar (George), but recently he has begun to want approval and friendship from other people. But George keeps asking why work so hard and miss so much else, and what is that doubtful character William up to working overtime in the Chemistry Lab?\\nAnother humorous, original book by the author of Jennifer, Hecate, Macbeth and Me and From the Mixed-up Files of Mrs Basil E. Frankweiler.   \n",
       "\n",
       "           format publisher num_pages edition_information publication_year  \\\n",
       "896296  Paperback  Yearling       160                                 1985   \n",
       "\n",
       "        book_id  ratings_count  work_id title      author_name  \n",
       "896296  2433394              8  2440582        E.L. Konigsburg  "
      ]
     },
     "execution_count": 40,
     "metadata": {},
     "output_type": "execute_result"
    }
   ],
   "source": [
    "print(f'The number of books with no title in booklist_compiled are {len(booklist_compiled[booklist_compiled.title == \"\"])}')\n",
    "booklist_compiled[booklist_compiled.title == \"\"].head(1)"
   ]
  },
  {
   "cell_type": "code",
   "execution_count": 41,
   "metadata": {},
   "outputs": [],
   "source": [
    "booklist_compiled_full = booklist_compiled[(booklist_compiled.author_name != \"\") & (booklist_compiled.title != \"\")]\n",
    "booklist_compiled_missing = booklist_compiled[(booklist_compiled.author_name == \"\")| (booklist_compiled.title == \"\")]"
   ]
  },
  {
   "cell_type": "code",
   "execution_count": 42,
   "metadata": {},
   "outputs": [
    {
     "name": "stdout",
     "output_type": "stream",
     "text": [
      "The total booklist_compiled observations are 2360131\n",
      "The total booklist_compiled observations without missing titles or author names are 2360109\n",
      "The total booklist_compiled observations with either missing titles or author names are 22\n"
     ]
    }
   ],
   "source": [
    "print(f\"The total booklist_compiled observations are {booklist_compiled.shape[0]}\")\n",
    "print(f\"The total booklist_compiled observations without missing titles or author names are {booklist_compiled_full.shape[0]}\")\n",
    "print(f\"The total booklist_compiled observations with either missing titles or author names are {booklist_compiled_missing.shape[0]}\")"
   ]
  },
  {
   "cell_type": "code",
   "execution_count": 43,
   "metadata": {},
   "outputs": [
    {
     "name": "stderr",
     "output_type": "stream",
     "text": [
      "<ipython-input-43-20f1af9437c2>:1: SettingWithCopyWarning: \n",
      "A value is trying to be set on a copy of a slice from a DataFrame.\n",
      "Try using .loc[row_indexer,col_indexer] = value instead\n",
      "\n",
      "See the caveats in the documentation: https://pandas.pydata.org/pandas-docs/stable/user_guide/indexing.html#returning-a-view-versus-a-copy\n",
      "  booklist_compiled_full[\"first_author_title\"] = booklist_compiled_full.author_name + ' - ' + booklist_compiled_full.title\n"
     ]
    },
    {
     "data": {
      "text/html": [
       "<div>\n",
       "<style scoped>\n",
       "    .dataframe tbody tr th:only-of-type {\n",
       "        vertical-align: middle;\n",
       "    }\n",
       "\n",
       "    .dataframe tbody tr th {\n",
       "        vertical-align: top;\n",
       "    }\n",
       "\n",
       "    .dataframe thead th {\n",
       "        text-align: right;\n",
       "    }\n",
       "</style>\n",
       "<table border=\"1\" class=\"dataframe\">\n",
       "  <thead>\n",
       "    <tr style=\"text-align: right;\">\n",
       "      <th></th>\n",
       "      <th>text_reviews_count</th>\n",
       "      <th>series</th>\n",
       "      <th>language_code</th>\n",
       "      <th>asin</th>\n",
       "      <th>is_ebook</th>\n",
       "      <th>average_rating</th>\n",
       "      <th>kindle_asin</th>\n",
       "      <th>similar_books</th>\n",
       "      <th>description</th>\n",
       "      <th>format</th>\n",
       "      <th>publisher</th>\n",
       "      <th>num_pages</th>\n",
       "      <th>edition_information</th>\n",
       "      <th>publication_year</th>\n",
       "      <th>book_id</th>\n",
       "      <th>ratings_count</th>\n",
       "      <th>work_id</th>\n",
       "      <th>title</th>\n",
       "      <th>author_name</th>\n",
       "      <th>first_author_title</th>\n",
       "    </tr>\n",
       "  </thead>\n",
       "  <tbody>\n",
       "    <tr>\n",
       "      <th>0</th>\n",
       "      <td>1</td>\n",
       "      <td>[]</td>\n",
       "      <td></td>\n",
       "      <td>0</td>\n",
       "      <td>0</td>\n",
       "      <td>4.0</td>\n",
       "      <td>0</td>\n",
       "      <td>[]</td>\n",
       "      <td></td>\n",
       "      <td>Paperback</td>\n",
       "      <td>St. Martin's Press</td>\n",
       "      <td>256</td>\n",
       "      <td></td>\n",
       "      <td>1984</td>\n",
       "      <td>5333265</td>\n",
       "      <td>3</td>\n",
       "      <td>5400751</td>\n",
       "      <td>W.C. Fields: A Life on Film</td>\n",
       "      <td>Ronald J. Fields</td>\n",
       "      <td>Ronald J. Fields - W.C. Fields: A Life on Film</td>\n",
       "    </tr>\n",
       "  </tbody>\n",
       "</table>\n",
       "</div>"
      ],
      "text/plain": [
       "   text_reviews_count series language_code  asin  is_ebook  average_rating  \\\n",
       "0                   1     []                   0         0             4.0   \n",
       "\n",
       "   kindle_asin similar_books description     format           publisher  \\\n",
       "0            0            []              Paperback  St. Martin's Press   \n",
       "\n",
       "  num_pages edition_information publication_year  book_id  ratings_count  \\\n",
       "0       256                                 1984  5333265              3   \n",
       "\n",
       "   work_id                        title       author_name  \\\n",
       "0  5400751  W.C. Fields: A Life on Film  Ronald J. Fields   \n",
       "\n",
       "                               first_author_title  \n",
       "0  Ronald J. Fields - W.C. Fields: A Life on Film  "
      ]
     },
     "execution_count": 43,
     "metadata": {},
     "output_type": "execute_result"
    }
   ],
   "source": [
    "booklist_compiled_full[\"first_author_title\"] = booklist_compiled_full.author_name + ' - ' + booklist_compiled_full.title\n",
    "booklist_compiled = pd.concat([booklist_compiled_full,booklist_compiled_missing], axis = 0)\n",
    "booklist_compiled.first_author_title = booklist_compiled.first_author_title.fillna(\"\")\n",
    "booklist_compiled = booklist_compiled.sort_index()\n",
    "booklist_compiled.head(1)"
   ]
  },
  {
   "cell_type": "markdown",
   "metadata": {},
   "source": [
    "### 3.4.6 Creating a dataframe of list of books in the series"
   ]
  },
  {
   "cell_type": "code",
   "execution_count": 44,
   "metadata": {
    "scrolled": true
   },
   "outputs": [],
   "source": [
    "# Listing all series of each book_id\n",
    "series_list = []\n",
    "\n",
    "for series_index, series_values in enumerate (booklist_compiled['series']):\n",
    "    for i in range (len(series_values)):\n",
    "        series_list.extend([[booklist_compiled[\"work_id\"][series_index], booklist_compiled[\"book_id\"][series_index], booklist_compiled[\"series\"][series_index][i]]])"
   ]
  },
  {
   "cell_type": "code",
   "execution_count": 45,
   "metadata": {
    "scrolled": false
   },
   "outputs": [
    {
     "data": {
      "text/html": [
       "<div>\n",
       "<style scoped>\n",
       "    .dataframe tbody tr th:only-of-type {\n",
       "        vertical-align: middle;\n",
       "    }\n",
       "\n",
       "    .dataframe tbody tr th {\n",
       "        vertical-align: top;\n",
       "    }\n",
       "\n",
       "    .dataframe thead th {\n",
       "        text-align: right;\n",
       "    }\n",
       "</style>\n",
       "<table border=\"1\" class=\"dataframe\">\n",
       "  <thead>\n",
       "    <tr style=\"text-align: right;\">\n",
       "      <th></th>\n",
       "      <th>work_id</th>\n",
       "      <th>book_id</th>\n",
       "      <th>series</th>\n",
       "    </tr>\n",
       "  </thead>\n",
       "  <tbody>\n",
       "    <tr>\n",
       "      <th>0</th>\n",
       "      <td>8948723</td>\n",
       "      <td>7327624</td>\n",
       "      <td>189911</td>\n",
       "    </tr>\n",
       "    <tr>\n",
       "      <th>1</th>\n",
       "      <td>701117</td>\n",
       "      <td>6066812</td>\n",
       "      <td>151854</td>\n",
       "    </tr>\n",
       "    <tr>\n",
       "      <th>2</th>\n",
       "      <td>6243149</td>\n",
       "      <td>6066814</td>\n",
       "      <td>169353</td>\n",
       "    </tr>\n",
       "    <tr>\n",
       "      <th>3</th>\n",
       "      <td>54143148</td>\n",
       "      <td>33394837</td>\n",
       "      <td>1052227</td>\n",
       "    </tr>\n",
       "    <tr>\n",
       "      <th>4</th>\n",
       "      <td>41333541</td>\n",
       "      <td>89371</td>\n",
       "      <td>1070125</td>\n",
       "    </tr>\n",
       "  </tbody>\n",
       "</table>\n",
       "</div>"
      ],
      "text/plain": [
       "    work_id   book_id   series\n",
       "0   8948723   7327624   189911\n",
       "1    701117   6066812   151854\n",
       "2   6243149   6066814   169353\n",
       "3  54143148  33394837  1052227\n",
       "4  41333541     89371  1070125"
      ]
     },
     "execution_count": 45,
     "metadata": {},
     "output_type": "execute_result"
    }
   ],
   "source": [
    "# Create a dataframe for the series of each book_id\n",
    "series_list_df = pd.DataFrame(series_list, columns = [\"work_id\", \"book_id\",\"series\"])\n",
    "series_list_df.head()"
   ]
  },
  {
   "cell_type": "code",
   "execution_count": 46,
   "metadata": {
    "scrolled": true
   },
   "outputs": [
    {
     "data": {
      "text/plain": [
       "work_id     int64\n",
       "book_id     int64\n",
       "series     object\n",
       "dtype: object"
      ]
     },
     "execution_count": 46,
     "metadata": {},
     "output_type": "execute_result"
    }
   ],
   "source": [
    "series_list_df.dtypes"
   ]
  },
  {
   "cell_type": "code",
   "execution_count": 47,
   "metadata": {},
   "outputs": [
    {
     "data": {
      "text/plain": [
       "dtype('int32')"
      ]
     },
     "execution_count": 47,
     "metadata": {},
     "output_type": "execute_result"
    }
   ],
   "source": [
    "series_list_df['series'] = series_list_df['series'].astype(int)\n",
    "series_list_df.series.dtypes"
   ]
  },
  {
   "cell_type": "code",
   "execution_count": 48,
   "metadata": {
    "scrolled": true
   },
   "outputs": [
    {
     "data": {
      "text/html": [
       "<div>\n",
       "<style scoped>\n",
       "    .dataframe tbody tr th:only-of-type {\n",
       "        vertical-align: middle;\n",
       "    }\n",
       "\n",
       "    .dataframe tbody tr th {\n",
       "        vertical-align: top;\n",
       "    }\n",
       "\n",
       "    .dataframe thead th {\n",
       "        text-align: right;\n",
       "    }\n",
       "</style>\n",
       "<table border=\"1\" class=\"dataframe\">\n",
       "  <thead>\n",
       "    <tr style=\"text-align: right;\">\n",
       "      <th></th>\n",
       "      <th>text_reviews_count</th>\n",
       "      <th>series</th>\n",
       "      <th>language_code</th>\n",
       "      <th>asin</th>\n",
       "      <th>is_ebook</th>\n",
       "      <th>average_rating</th>\n",
       "      <th>kindle_asin</th>\n",
       "      <th>similar_books</th>\n",
       "      <th>description</th>\n",
       "      <th>format</th>\n",
       "      <th>publisher</th>\n",
       "      <th>num_pages</th>\n",
       "      <th>edition_information</th>\n",
       "      <th>publication_year</th>\n",
       "      <th>book_id</th>\n",
       "      <th>ratings_count</th>\n",
       "      <th>work_id</th>\n",
       "      <th>title</th>\n",
       "      <th>author_name</th>\n",
       "      <th>first_author_title</th>\n",
       "    </tr>\n",
       "  </thead>\n",
       "  <tbody>\n",
       "    <tr>\n",
       "      <th>0</th>\n",
       "      <td>1</td>\n",
       "      <td>0</td>\n",
       "      <td></td>\n",
       "      <td>0</td>\n",
       "      <td>0</td>\n",
       "      <td>4.0</td>\n",
       "      <td>0</td>\n",
       "      <td>[]</td>\n",
       "      <td></td>\n",
       "      <td>Paperback</td>\n",
       "      <td>St. Martin's Press</td>\n",
       "      <td>256</td>\n",
       "      <td></td>\n",
       "      <td>1984</td>\n",
       "      <td>5333265</td>\n",
       "      <td>3</td>\n",
       "      <td>5400751</td>\n",
       "      <td>W.C. Fields: A Life on Film</td>\n",
       "      <td>Ronald J. Fields</td>\n",
       "      <td>Ronald J. Fields - W.C. Fields: A Life on Film</td>\n",
       "    </tr>\n",
       "  </tbody>\n",
       "</table>\n",
       "</div>"
      ],
      "text/plain": [
       "   text_reviews_count  series language_code  asin  is_ebook  average_rating  \\\n",
       "0                   1       0                   0         0             4.0   \n",
       "\n",
       "   kindle_asin similar_books description     format           publisher  \\\n",
       "0            0            []              Paperback  St. Martin's Press   \n",
       "\n",
       "  num_pages edition_information publication_year  book_id  ratings_count  \\\n",
       "0       256                                 1984  5333265              3   \n",
       "\n",
       "   work_id                        title       author_name  \\\n",
       "0  5400751  W.C. Fields: A Life on Film  Ronald J. Fields   \n",
       "\n",
       "                               first_author_title  \n",
       "0  Ronald J. Fields - W.C. Fields: A Life on Film  "
      ]
     },
     "execution_count": 48,
     "metadata": {},
     "output_type": "execute_result"
    }
   ],
   "source": [
    "# To indicate whether the book is part of a series or not (1 for yes, 0 for no)\n",
    "booklist_compiled.series = booklist_compiled.series.apply(lambda x: 1 if len(x)!=0 else 0)\n",
    "booklist_compiled.head(1)"
   ]
  },
  {
   "cell_type": "markdown",
   "metadata": {},
   "source": [
    "### 3.4.7 Creating a dataframe of list of books with its similar books"
   ]
  },
  {
   "cell_type": "code",
   "execution_count": 49,
   "metadata": {
    "scrolled": true
   },
   "outputs": [
    {
     "name": "stdout",
     "output_type": "stream",
     "text": [
      "progress: 2360130/2360131\n"
     ]
    }
   ],
   "source": [
    "# Listing all similar books for each book_id\n",
    "similar_books_list = []\n",
    "\n",
    "for similar_index, similar_values in enumerate (booklist_compiled['similar_books']):\n",
    "    for i in range (len(similar_values)):\n",
    "        similar_books_list.extend([[booklist_compiled[\"book_id\"][similar_index], booklist_compiled[\"similar_books\"][similar_index][i]]])\n",
    "        clear_output(wait=True)\n",
    "        print(f'progress: {similar_index}/{len(booklist_compiled.similar_books)}')"
   ]
  },
  {
   "cell_type": "code",
   "execution_count": 51,
   "metadata": {
    "scrolled": false
   },
   "outputs": [
    {
     "data": {
      "text/html": [
       "<div>\n",
       "<style scoped>\n",
       "    .dataframe tbody tr th:only-of-type {\n",
       "        vertical-align: middle;\n",
       "    }\n",
       "\n",
       "    .dataframe tbody tr th {\n",
       "        vertical-align: top;\n",
       "    }\n",
       "\n",
       "    .dataframe thead th {\n",
       "        text-align: right;\n",
       "    }\n",
       "</style>\n",
       "<table border=\"1\" class=\"dataframe\">\n",
       "  <thead>\n",
       "    <tr style=\"text-align: right;\">\n",
       "      <th></th>\n",
       "      <th>book_id</th>\n",
       "      <th>similar_books</th>\n",
       "      <th>work_id</th>\n",
       "    </tr>\n",
       "  </thead>\n",
       "  <tbody>\n",
       "    <tr>\n",
       "      <th>0</th>\n",
       "      <td>1333909</td>\n",
       "      <td>8709549</td>\n",
       "      <td>1323437</td>\n",
       "    </tr>\n",
       "    <tr>\n",
       "      <th>1</th>\n",
       "      <td>1333909</td>\n",
       "      <td>17074050</td>\n",
       "      <td>1323437</td>\n",
       "    </tr>\n",
       "    <tr>\n",
       "      <th>2</th>\n",
       "      <td>1333909</td>\n",
       "      <td>28937</td>\n",
       "      <td>1323437</td>\n",
       "    </tr>\n",
       "    <tr>\n",
       "      <th>3</th>\n",
       "      <td>1333909</td>\n",
       "      <td>158816</td>\n",
       "      <td>1323437</td>\n",
       "    </tr>\n",
       "    <tr>\n",
       "      <th>4</th>\n",
       "      <td>1333909</td>\n",
       "      <td>228563</td>\n",
       "      <td>1323437</td>\n",
       "    </tr>\n",
       "  </tbody>\n",
       "</table>\n",
       "</div>"
      ],
      "text/plain": [
       "   book_id similar_books  work_id\n",
       "0  1333909       8709549  1323437\n",
       "1  1333909      17074050  1323437\n",
       "2  1333909         28937  1323437\n",
       "3  1333909        158816  1323437\n",
       "4  1333909        228563  1323437"
      ]
     },
     "execution_count": 51,
     "metadata": {},
     "output_type": "execute_result"
    }
   ],
   "source": [
    "# Creating a dataframe of similar books for each book_id\n",
    "similar_books_list_df = pd.DataFrame(similar_books_list, columns = [\"book_id\",\"similar_books\"])\n",
    "work_book = booklist_compiled[[\"work_id\",\"book_id\"]]\n",
    "similar_books_list_df = pd.merge(similar_books_list_df, work_book, on = \"book_id\", how = 'left')\n",
    "similar_books_list_df.head()"
   ]
  },
  {
   "cell_type": "code",
   "execution_count": 52,
   "metadata": {
    "scrolled": false
   },
   "outputs": [
    {
     "data": {
      "text/plain": [
       "book_id           int64\n",
       "similar_books    object\n",
       "work_id           int32\n",
       "dtype: object"
      ]
     },
     "execution_count": 52,
     "metadata": {},
     "output_type": "execute_result"
    }
   ],
   "source": [
    "similar_books_list_df.dtypes"
   ]
  },
  {
   "cell_type": "code",
   "execution_count": 53,
   "metadata": {},
   "outputs": [
    {
     "data": {
      "text/plain": [
       "dtype('int32')"
      ]
     },
     "execution_count": 53,
     "metadata": {},
     "output_type": "execute_result"
    }
   ],
   "source": [
    "# To change the similar_books_id to integer\n",
    "similar_books_list_df['similar_books'] = similar_books_list_df['similar_books'].astype(int)\n",
    "similar_books_list_df.similar_books.dtypes"
   ]
  },
  {
   "cell_type": "code",
   "execution_count": 54,
   "metadata": {},
   "outputs": [],
   "source": [
    "# Remove the similar books column from booklist_compiled\n",
    "booklist_compiled = booklist_compiled.drop([\"similar_books\"], axis = 1)"
   ]
  },
  {
   "cell_type": "markdown",
   "metadata": {},
   "source": [
    "### 3.4.8 Values in language_code"
   ]
  },
  {
   "cell_type": "code",
   "execution_count": 55,
   "metadata": {},
   "outputs": [
    {
     "name": "stdout",
     "output_type": "stream",
     "text": [
      "The number of different languages in the booklist_compiled is 227\n"
     ]
    },
    {
     "data": {
      "text/plain": [
       "array(['', 'eng', 'ger', 'spa', 'en-US', 'ita', 'per', 'en-GB', 'tur',\n",
       "       'ind', 'mon', 'fre', 'por', 'ara', 'en-CA', 'tha', 'lav', 'jpn',\n",
       "       'pol', 'swe', 'kor', 'fin', 'msa', 'bul', 'nl', 'gre', 'slo',\n",
       "       'nor', 'heb', 'hun', 'ben', 'scr', 'zho', 'fil', 'rus', 'lit',\n",
       "       'rum', 'cze', 'dan', 'slv', 'nno', 'pes', 'hye', 'nob', 'cat',\n",
       "       'en', 'vie', 'nep', 'mar', 'srp', 'urd', 'guj', 'est', 'sqi',\n",
       "       'ukr', 'afr', 'mul', 'grc', 'kat', 'mkd', 'hin', 'tam', 'mus',\n",
       "       '--', 'bos', 'enm', 'gla', 'isl', 'glg', 'mal', 'kur', 'wel',\n",
       "       'pt-BR', 'crh', 'tel', 'es-MX', 'kan', 'mya', 'fao', 'aze', 'ota',\n",
       "       'arw', 'pra', 'tgl', 'lat', 'dum', 'eus', 'sin', 'mlt', 'ada',\n",
       "       'apa', 'udm', 'peo', 'bel', 'iro', 'nld', 'ori', 'smn', 'amh',\n",
       "       'tut', 'frs', 'arg', 'ang', 'abk', 'epo', 'snd', 'pan', 'egy',\n",
       "       'dut', 'vls', 'jav', 'tlh', 'din', 'gle', 'alg', 'gsw', 'nah',\n",
       "       'her', 'aus', 'aka', 'chm', 'ace', 'oci', 'ast', 'kok', 'tib',\n",
       "       'frm', 'ira', 'arp', 'grn', 'nds', 'elx', 'swa', 'dyu', 'san',\n",
       "       'sco', 'che', 'ach', 'raj', 'nqo', 'dak', 'sun', 'cor', 'fiu',\n",
       "       'inh', 'run', 'asm', 'bug', 'gem', 'vai', 'und', 'gmh', 'qaa',\n",
       "       'uig', 'non', 'dua', 'krl', 'sla', 'ava', 'rom', 'phi', 'btk',\n",
       "       'ltz', 'mri', 'hat', 'awa', 'scn', 'lim', 'div', 'chb', 'bas',\n",
       "       'iba', 'en-IN', 'uzb', 'tup', 'anp', 'wak', 'roh', 'jrb', 'kaz',\n",
       "       'vec', 'fan', 'yid', 'sga', 'haw', 'chv', 'chi', 'afa', 'myv',\n",
       "       'nav', 'ine', 'roa', 'bam', 'kir', 'kam', 'nso', 'ilo',\n",
       "       'Select...', 'gez', 'ale', 'kau', 'myn', 'bik', 'jbo', 'hmn',\n",
       "       'fro', 'dgr', 'bat', 'mwl', 'sux', 'ave', 'iku', 'ton', 'chp',\n",
       "       'kal', 'sot', 'khm', 'ina', 'tgk', 'nub', 'chn', 'ady', 'cop',\n",
       "       'aar', 'zap', 'rup', 'lao'], dtype=object)"
      ]
     },
     "execution_count": 55,
     "metadata": {},
     "output_type": "execute_result"
    }
   ],
   "source": [
    "print(f\"The number of different languages in the booklist_compiled is {booklist_compiled.language_code.nunique()}\")\n",
    "booklist_compiled.language_code.unique()"
   ]
  },
  {
   "cell_type": "markdown",
   "metadata": {},
   "source": [
    "**Analysis: As '--', 'Select...' is undefined, we will be replace it with \"\"**"
   ]
  },
  {
   "cell_type": "code",
   "execution_count": 56,
   "metadata": {},
   "outputs": [],
   "source": [
    "booklist_compiled.language_code = booklist_compiled.language_code.replace(\"--\", \"\")\n",
    "booklist_compiled.language_code = booklist_compiled.language_code.replace(\"Select...\", \"\")"
   ]
  },
  {
   "cell_type": "code",
   "execution_count": 57,
   "metadata": {
    "scrolled": true
   },
   "outputs": [
    {
     "data": {
      "text/plain": [
       "text_reviews_count       int32\n",
       "series                   int64\n",
       "language_code           object\n",
       "asin                     int64\n",
       "is_ebook                 int64\n",
       "average_rating         float64\n",
       "kindle_asin              int64\n",
       "description             object\n",
       "format                  object\n",
       "publisher               object\n",
       "num_pages               object\n",
       "edition_information     object\n",
       "publication_year        object\n",
       "book_id                  int32\n",
       "ratings_count            int32\n",
       "work_id                  int32\n",
       "title                   object\n",
       "author_name             object\n",
       "first_author_title      object\n",
       "dtype: object"
      ]
     },
     "execution_count": 57,
     "metadata": {},
     "output_type": "execute_result"
    }
   ],
   "source": [
    "booklist_compiled.dtypes"
   ]
  },
  {
   "cell_type": "markdown",
   "metadata": {},
   "source": [
    "### 3.5 booklist_works"
   ]
  },
  {
   "cell_type": "markdown",
   "metadata": {},
   "source": [
    "### 3.5.1 Selecting columns in booklist_works"
   ]
  },
  {
   "cell_type": "code",
   "execution_count": 60,
   "metadata": {
    "scrolled": true
   },
   "outputs": [
    {
     "data": {
      "text/html": [
       "<div>\n",
       "<style scoped>\n",
       "    .dataframe tbody tr th:only-of-type {\n",
       "        vertical-align: middle;\n",
       "    }\n",
       "\n",
       "    .dataframe tbody tr th {\n",
       "        vertical-align: top;\n",
       "    }\n",
       "\n",
       "    .dataframe thead th {\n",
       "        text-align: right;\n",
       "    }\n",
       "</style>\n",
       "<table border=\"1\" class=\"dataframe\">\n",
       "  <thead>\n",
       "    <tr style=\"text-align: right;\">\n",
       "      <th></th>\n",
       "      <th>books_count</th>\n",
       "      <th>reviews_count</th>\n",
       "      <th>original_publication_month</th>\n",
       "      <th>default_description_language_code</th>\n",
       "      <th>text_reviews_count</th>\n",
       "      <th>best_book_id</th>\n",
       "      <th>original_publication_year</th>\n",
       "      <th>original_title</th>\n",
       "      <th>rating_dist</th>\n",
       "      <th>default_chaptering_book_id</th>\n",
       "      <th>original_publication_day</th>\n",
       "      <th>original_language_id</th>\n",
       "      <th>ratings_count</th>\n",
       "      <th>media_type</th>\n",
       "      <th>ratings_sum</th>\n",
       "      <th>work_id</th>\n",
       "    </tr>\n",
       "  </thead>\n",
       "  <tbody>\n",
       "    <tr>\n",
       "      <th>0</th>\n",
       "      <td>1</td>\n",
       "      <td>6</td>\n",
       "      <td>8</td>\n",
       "      <td></td>\n",
       "      <td>1</td>\n",
       "      <td>5333265</td>\n",
       "      <td>1984</td>\n",
       "      <td>W. C. Fields: A Life on Film</td>\n",
       "      <td>5:1|4:1|3:1|2:0|1:0|total:3</td>\n",
       "      <td></td>\n",
       "      <td></td>\n",
       "      <td></td>\n",
       "      <td>3</td>\n",
       "      <td>book</td>\n",
       "      <td>12</td>\n",
       "      <td>5400751</td>\n",
       "    </tr>\n",
       "    <tr>\n",
       "      <th>1</th>\n",
       "      <td>22</td>\n",
       "      <td>10162</td>\n",
       "      <td></td>\n",
       "      <td></td>\n",
       "      <td>741</td>\n",
       "      <td>25717</td>\n",
       "      <td>2001</td>\n",
       "      <td>Good Harbor</td>\n",
       "      <td>5:517|4:1787|3:2763|2:966|1:196|total:6229</td>\n",
       "      <td></td>\n",
       "      <td></td>\n",
       "      <td></td>\n",
       "      <td>6229</td>\n",
       "      <td>book</td>\n",
       "      <td>20150</td>\n",
       "      <td>1323437</td>\n",
       "    </tr>\n",
       "    <tr>\n",
       "      <th>2</th>\n",
       "      <td>2</td>\n",
       "      <td>268</td>\n",
       "      <td></td>\n",
       "      <td></td>\n",
       "      <td>7</td>\n",
       "      <td>7327624</td>\n",
       "      <td>1987</td>\n",
       "      <td></td>\n",
       "      <td>5:49|4:58|3:26|2:5|1:3|total:141</td>\n",
       "      <td></td>\n",
       "      <td></td>\n",
       "      <td></td>\n",
       "      <td>141</td>\n",
       "      <td>book</td>\n",
       "      <td>568</td>\n",
       "      <td>8948723</td>\n",
       "    </tr>\n",
       "    <tr>\n",
       "      <th>3</th>\n",
       "      <td>38</td>\n",
       "      <td>89252</td>\n",
       "      <td>7</td>\n",
       "      <td></td>\n",
       "      <td>3504</td>\n",
       "      <td>6066819</td>\n",
       "      <td>2009</td>\n",
       "      <td>Best Friends Forever</td>\n",
       "      <td>5:9152|4:16855|3:19507|2:6210|1:1549|total:53273</td>\n",
       "      <td></td>\n",
       "      <td>14</td>\n",
       "      <td></td>\n",
       "      <td>53273</td>\n",
       "      <td>book</td>\n",
       "      <td>185670</td>\n",
       "      <td>6243154</td>\n",
       "    </tr>\n",
       "    <tr>\n",
       "      <th>4</th>\n",
       "      <td>2</td>\n",
       "      <td>49</td>\n",
       "      <td></td>\n",
       "      <td></td>\n",
       "      <td>5</td>\n",
       "      <td>287140</td>\n",
       "      <td>1990</td>\n",
       "      <td>Runic Astrology: Starcraft and Timekeeping in the Northern Tradition</td>\n",
       "      <td>5:6|4:1|3:3|2:3|1:2|total:15</td>\n",
       "      <td></td>\n",
       "      <td></td>\n",
       "      <td></td>\n",
       "      <td>15</td>\n",
       "      <td>book</td>\n",
       "      <td>51</td>\n",
       "      <td>278577</td>\n",
       "    </tr>\n",
       "  </tbody>\n",
       "</table>\n",
       "</div>"
      ],
      "text/plain": [
       "   books_count  reviews_count original_publication_month  \\\n",
       "0            1              6                          8   \n",
       "1           22          10162                              \n",
       "2            2            268                              \n",
       "3           38          89252                          7   \n",
       "4            2             49                              \n",
       "\n",
       "  default_description_language_code  text_reviews_count  best_book_id  \\\n",
       "0                                                     1       5333265   \n",
       "1                                                   741         25717   \n",
       "2                                                     7       7327624   \n",
       "3                                                  3504       6066819   \n",
       "4                                                     5        287140   \n",
       "\n",
       "  original_publication_year  \\\n",
       "0                      1984   \n",
       "1                      2001   \n",
       "2                      1987   \n",
       "3                      2009   \n",
       "4                      1990   \n",
       "\n",
       "                                                         original_title  \\\n",
       "0                                          W. C. Fields: A Life on Film   \n",
       "1                                                           Good Harbor   \n",
       "2                                                                         \n",
       "3                                                  Best Friends Forever   \n",
       "4  Runic Astrology: Starcraft and Timekeeping in the Northern Tradition   \n",
       "\n",
       "                                        rating_dist  \\\n",
       "0                       5:1|4:1|3:1|2:0|1:0|total:3   \n",
       "1        5:517|4:1787|3:2763|2:966|1:196|total:6229   \n",
       "2                  5:49|4:58|3:26|2:5|1:3|total:141   \n",
       "3  5:9152|4:16855|3:19507|2:6210|1:1549|total:53273   \n",
       "4                      5:6|4:1|3:3|2:3|1:2|total:15   \n",
       "\n",
       "  default_chaptering_book_id original_publication_day original_language_id  \\\n",
       "0                                                                            \n",
       "1                                                                            \n",
       "2                                                                            \n",
       "3                                                  14                        \n",
       "4                                                                            \n",
       "\n",
       "   ratings_count media_type  ratings_sum  work_id  \n",
       "0              3       book           12  5400751  \n",
       "1           6229       book        20150  1323437  \n",
       "2            141       book          568  8948723  \n",
       "3          53273       book       185670  6243154  \n",
       "4             15       book           51   278577  "
      ]
     },
     "execution_count": 60,
     "metadata": {},
     "output_type": "execute_result"
    }
   ],
   "source": [
    "booklist_works.head()"
   ]
  },
  {
   "cell_type": "code",
   "execution_count": 61,
   "metadata": {},
   "outputs": [
    {
     "data": {
      "text/plain": [
       "array([''], dtype=object)"
      ]
     },
     "execution_count": 61,
     "metadata": {},
     "output_type": "execute_result"
    }
   ],
   "source": [
    "booklist_works.default_description_language_code.unique()"
   ]
  },
  {
   "cell_type": "code",
   "execution_count": 62,
   "metadata": {},
   "outputs": [
    {
     "data": {
      "text/plain": [
       "array([''], dtype=object)"
      ]
     },
     "execution_count": 62,
     "metadata": {},
     "output_type": "execute_result"
    }
   ],
   "source": [
    "booklist_works.original_language_id.unique()"
   ]
  },
  {
   "cell_type": "code",
   "execution_count": 63,
   "metadata": {},
   "outputs": [],
   "source": [
    "# Selecting columns in the booklist_works\n",
    "booklist_works = booklist_works.drop([\"original_publication_month\", \"default_description_language_code\", \"original_publication_day\", \"original_language_id\", \"default_chaptering_book_id\"], axis = 1)"
   ]
  },
  {
   "cell_type": "code",
   "execution_count": 64,
   "metadata": {},
   "outputs": [
    {
     "data": {
      "text/html": [
       "<div>\n",
       "<style scoped>\n",
       "    .dataframe tbody tr th:only-of-type {\n",
       "        vertical-align: middle;\n",
       "    }\n",
       "\n",
       "    .dataframe tbody tr th {\n",
       "        vertical-align: top;\n",
       "    }\n",
       "\n",
       "    .dataframe thead th {\n",
       "        text-align: right;\n",
       "    }\n",
       "</style>\n",
       "<table border=\"1\" class=\"dataframe\">\n",
       "  <thead>\n",
       "    <tr style=\"text-align: right;\">\n",
       "      <th></th>\n",
       "      <th>books_count</th>\n",
       "      <th>reviews_count</th>\n",
       "      <th>text_reviews_count</th>\n",
       "      <th>best_book_id</th>\n",
       "      <th>original_publication_year</th>\n",
       "      <th>original_title</th>\n",
       "      <th>rating_dist</th>\n",
       "      <th>ratings_count</th>\n",
       "      <th>media_type</th>\n",
       "      <th>ratings_sum</th>\n",
       "      <th>work_id</th>\n",
       "      <th>average_rating</th>\n",
       "    </tr>\n",
       "  </thead>\n",
       "  <tbody>\n",
       "    <tr>\n",
       "      <th>0</th>\n",
       "      <td>1</td>\n",
       "      <td>6</td>\n",
       "      <td>1</td>\n",
       "      <td>5333265</td>\n",
       "      <td>1984</td>\n",
       "      <td>W. C. Fields: A Life on Film</td>\n",
       "      <td>5:1|4:1|3:1|2:0|1:0|total:3</td>\n",
       "      <td>3</td>\n",
       "      <td>book</td>\n",
       "      <td>12</td>\n",
       "      <td>5400751</td>\n",
       "      <td>4.000000</td>\n",
       "    </tr>\n",
       "    <tr>\n",
       "      <th>1</th>\n",
       "      <td>22</td>\n",
       "      <td>10162</td>\n",
       "      <td>741</td>\n",
       "      <td>25717</td>\n",
       "      <td>2001</td>\n",
       "      <td>Good Harbor</td>\n",
       "      <td>5:517|4:1787|3:2763|2:966|1:196|total:6229</td>\n",
       "      <td>6229</td>\n",
       "      <td>book</td>\n",
       "      <td>20150</td>\n",
       "      <td>1323437</td>\n",
       "      <td>3.234869</td>\n",
       "    </tr>\n",
       "    <tr>\n",
       "      <th>2</th>\n",
       "      <td>2</td>\n",
       "      <td>268</td>\n",
       "      <td>7</td>\n",
       "      <td>7327624</td>\n",
       "      <td>1987</td>\n",
       "      <td></td>\n",
       "      <td>5:49|4:58|3:26|2:5|1:3|total:141</td>\n",
       "      <td>141</td>\n",
       "      <td>book</td>\n",
       "      <td>568</td>\n",
       "      <td>8948723</td>\n",
       "      <td>4.028369</td>\n",
       "    </tr>\n",
       "    <tr>\n",
       "      <th>3</th>\n",
       "      <td>38</td>\n",
       "      <td>89252</td>\n",
       "      <td>3504</td>\n",
       "      <td>6066819</td>\n",
       "      <td>2009</td>\n",
       "      <td>Best Friends Forever</td>\n",
       "      <td>5:9152|4:16855|3:19507|2:6210|1:1549|total:53273</td>\n",
       "      <td>53273</td>\n",
       "      <td>book</td>\n",
       "      <td>185670</td>\n",
       "      <td>6243154</td>\n",
       "      <td>3.485255</td>\n",
       "    </tr>\n",
       "    <tr>\n",
       "      <th>4</th>\n",
       "      <td>2</td>\n",
       "      <td>49</td>\n",
       "      <td>5</td>\n",
       "      <td>287140</td>\n",
       "      <td>1990</td>\n",
       "      <td>Runic Astrology: Starcraft and Timekeeping in the Northern Tradition</td>\n",
       "      <td>5:6|4:1|3:3|2:3|1:2|total:15</td>\n",
       "      <td>15</td>\n",
       "      <td>book</td>\n",
       "      <td>51</td>\n",
       "      <td>278577</td>\n",
       "      <td>3.400000</td>\n",
       "    </tr>\n",
       "  </tbody>\n",
       "</table>\n",
       "</div>"
      ],
      "text/plain": [
       "   books_count  reviews_count  text_reviews_count  best_book_id  \\\n",
       "0            1              6                   1       5333265   \n",
       "1           22          10162                 741         25717   \n",
       "2            2            268                   7       7327624   \n",
       "3           38          89252                3504       6066819   \n",
       "4            2             49                   5        287140   \n",
       "\n",
       "  original_publication_year  \\\n",
       "0                      1984   \n",
       "1                      2001   \n",
       "2                      1987   \n",
       "3                      2009   \n",
       "4                      1990   \n",
       "\n",
       "                                                         original_title  \\\n",
       "0                                          W. C. Fields: A Life on Film   \n",
       "1                                                           Good Harbor   \n",
       "2                                                                         \n",
       "3                                                  Best Friends Forever   \n",
       "4  Runic Astrology: Starcraft and Timekeeping in the Northern Tradition   \n",
       "\n",
       "                                        rating_dist  ratings_count media_type  \\\n",
       "0                       5:1|4:1|3:1|2:0|1:0|total:3              3       book   \n",
       "1        5:517|4:1787|3:2763|2:966|1:196|total:6229           6229       book   \n",
       "2                  5:49|4:58|3:26|2:5|1:3|total:141            141       book   \n",
       "3  5:9152|4:16855|3:19507|2:6210|1:1549|total:53273          53273       book   \n",
       "4                      5:6|4:1|3:3|2:3|1:2|total:15             15       book   \n",
       "\n",
       "   ratings_sum  work_id  average_rating  \n",
       "0           12  5400751        4.000000  \n",
       "1        20150  1323437        3.234869  \n",
       "2          568  8948723        4.028369  \n",
       "3       185670  6243154        3.485255  \n",
       "4           51   278577        3.400000  "
      ]
     },
     "execution_count": 64,
     "metadata": {},
     "output_type": "execute_result"
    }
   ],
   "source": [
    "# Create an average_rating column\n",
    "booklist_works[\"average_rating\"] = booklist_works.ratings_sum/booklist_works.ratings_count\n",
    "booklist_works.head()"
   ]
  },
  {
   "cell_type": "code",
   "execution_count": 65,
   "metadata": {
    "scrolled": false
   },
   "outputs": [
    {
     "data": {
      "text/html": [
       "<div>\n",
       "<style scoped>\n",
       "    .dataframe tbody tr th:only-of-type {\n",
       "        vertical-align: middle;\n",
       "    }\n",
       "\n",
       "    .dataframe tbody tr th {\n",
       "        vertical-align: top;\n",
       "    }\n",
       "\n",
       "    .dataframe thead th {\n",
       "        text-align: right;\n",
       "    }\n",
       "</style>\n",
       "<table border=\"1\" class=\"dataframe\">\n",
       "  <thead>\n",
       "    <tr style=\"text-align: right;\">\n",
       "      <th></th>\n",
       "      <th>books_count</th>\n",
       "      <th>reviews_count</th>\n",
       "      <th>text_reviews_count</th>\n",
       "      <th>best_book_id</th>\n",
       "      <th>original_publication_year</th>\n",
       "      <th>original_title</th>\n",
       "      <th>rating_dist</th>\n",
       "      <th>ratings_count</th>\n",
       "      <th>media_type</th>\n",
       "      <th>ratings_sum</th>\n",
       "      <th>work_id</th>\n",
       "      <th>average_rating</th>\n",
       "    </tr>\n",
       "  </thead>\n",
       "  <tbody>\n",
       "    <tr>\n",
       "      <th>27</th>\n",
       "      <td>1</td>\n",
       "      <td>7</td>\n",
       "      <td>1</td>\n",
       "      <td>16037548</td>\n",
       "      <td>2012</td>\n",
       "      <td>Untold Secrets: Fire &amp; Ice</td>\n",
       "      <td>5:0|4:0|3:0|2:0|1:0|total:0</td>\n",
       "      <td>0</td>\n",
       "      <td>book</td>\n",
       "      <td>0</td>\n",
       "      <td>21811539</td>\n",
       "      <td>NaN</td>\n",
       "    </tr>\n",
       "    <tr>\n",
       "      <th>215</th>\n",
       "      <td>2</td>\n",
       "      <td>3</td>\n",
       "      <td>1</td>\n",
       "      <td>28669888</td>\n",
       "      <td></td>\n",
       "      <td></td>\n",
       "      <td>5:0|4:0|3:0|2:0|1:0|total:0</td>\n",
       "      <td>0</td>\n",
       "      <td></td>\n",
       "      <td>0</td>\n",
       "      <td>45394186</td>\n",
       "      <td>NaN</td>\n",
       "    </tr>\n",
       "    <tr>\n",
       "      <th>262</th>\n",
       "      <td>1</td>\n",
       "      <td>1</td>\n",
       "      <td>1</td>\n",
       "      <td>2471303</td>\n",
       "      <td></td>\n",
       "      <td>Tolstoy-V2</td>\n",
       "      <td>5:0|4:0|3:0|2:0|1:0|total:0</td>\n",
       "      <td>0</td>\n",
       "      <td></td>\n",
       "      <td>0</td>\n",
       "      <td>2478500</td>\n",
       "      <td>NaN</td>\n",
       "    </tr>\n",
       "    <tr>\n",
       "      <th>326</th>\n",
       "      <td>1</td>\n",
       "      <td>3</td>\n",
       "      <td>2</td>\n",
       "      <td>36442770</td>\n",
       "      <td></td>\n",
       "      <td></td>\n",
       "      <td>5:0|4:0|3:0|2:0|1:0|total:0</td>\n",
       "      <td>0</td>\n",
       "      <td>book</td>\n",
       "      <td>0</td>\n",
       "      <td>58144514</td>\n",
       "      <td>NaN</td>\n",
       "    </tr>\n",
       "    <tr>\n",
       "      <th>952</th>\n",
       "      <td>1</td>\n",
       "      <td>7</td>\n",
       "      <td>1</td>\n",
       "      <td>15774736</td>\n",
       "      <td>2013</td>\n",
       "      <td></td>\n",
       "      <td>5:0|4:0|3:0|2:0|1:0|total:0</td>\n",
       "      <td>0</td>\n",
       "      <td>book</td>\n",
       "      <td>0</td>\n",
       "      <td>21485593</td>\n",
       "      <td>NaN</td>\n",
       "    </tr>\n",
       "  </tbody>\n",
       "</table>\n",
       "</div>"
      ],
      "text/plain": [
       "     books_count  reviews_count  text_reviews_count  best_book_id  \\\n",
       "27             1              7                   1      16037548   \n",
       "215            2              3                   1      28669888   \n",
       "262            1              1                   1       2471303   \n",
       "326            1              3                   2      36442770   \n",
       "952            1              7                   1      15774736   \n",
       "\n",
       "    original_publication_year              original_title  \\\n",
       "27                       2012  Untold Secrets: Fire & Ice   \n",
       "215                                                         \n",
       "262                                            Tolstoy-V2   \n",
       "326                                                         \n",
       "952                      2013                               \n",
       "\n",
       "                     rating_dist  ratings_count media_type  ratings_sum  \\\n",
       "27   5:0|4:0|3:0|2:0|1:0|total:0              0       book            0   \n",
       "215  5:0|4:0|3:0|2:0|1:0|total:0              0                       0   \n",
       "262  5:0|4:0|3:0|2:0|1:0|total:0              0                       0   \n",
       "326  5:0|4:0|3:0|2:0|1:0|total:0              0       book            0   \n",
       "952  5:0|4:0|3:0|2:0|1:0|total:0              0       book            0   \n",
       "\n",
       "      work_id  average_rating  \n",
       "27   21811539             NaN  \n",
       "215  45394186             NaN  \n",
       "262   2478500             NaN  \n",
       "326  58144514             NaN  \n",
       "952  21485593             NaN  "
      ]
     },
     "execution_count": 65,
     "metadata": {},
     "output_type": "execute_result"
    }
   ],
   "source": [
    "booklist_works[booklist_works.average_rating.isnull()].head()"
   ]
  },
  {
   "cell_type": "code",
   "execution_count": 66,
   "metadata": {},
   "outputs": [],
   "source": [
    "for index, sum in enumerate (booklist_works.ratings_sum):\n",
    "    if sum == 0:\n",
    "        booklist_works.loc[[index],[\"average_rating\"]] = 0"
   ]
  },
  {
   "cell_type": "code",
   "execution_count": 67,
   "metadata": {},
   "outputs": [
    {
     "data": {
      "text/html": [
       "<div>\n",
       "<style scoped>\n",
       "    .dataframe tbody tr th:only-of-type {\n",
       "        vertical-align: middle;\n",
       "    }\n",
       "\n",
       "    .dataframe tbody tr th {\n",
       "        vertical-align: top;\n",
       "    }\n",
       "\n",
       "    .dataframe thead th {\n",
       "        text-align: right;\n",
       "    }\n",
       "</style>\n",
       "<table border=\"1\" class=\"dataframe\">\n",
       "  <thead>\n",
       "    <tr style=\"text-align: right;\">\n",
       "      <th></th>\n",
       "      <th>books_count</th>\n",
       "      <th>reviews_count</th>\n",
       "      <th>text_reviews_count</th>\n",
       "      <th>best_book_id</th>\n",
       "      <th>original_publication_year</th>\n",
       "      <th>original_title</th>\n",
       "      <th>rating_dist</th>\n",
       "      <th>ratings_count</th>\n",
       "      <th>media_type</th>\n",
       "      <th>ratings_sum</th>\n",
       "      <th>work_id</th>\n",
       "      <th>average_rating</th>\n",
       "    </tr>\n",
       "  </thead>\n",
       "  <tbody>\n",
       "    <tr>\n",
       "      <th>27</th>\n",
       "      <td>1</td>\n",
       "      <td>7</td>\n",
       "      <td>1</td>\n",
       "      <td>16037548</td>\n",
       "      <td>2012</td>\n",
       "      <td>Untold Secrets: Fire &amp; Ice</td>\n",
       "      <td>5:0|4:0|3:0|2:0|1:0|total:0</td>\n",
       "      <td>0</td>\n",
       "      <td>book</td>\n",
       "      <td>0</td>\n",
       "      <td>21811539</td>\n",
       "      <td>0.0</td>\n",
       "    </tr>\n",
       "  </tbody>\n",
       "</table>\n",
       "</div>"
      ],
      "text/plain": [
       "    books_count  reviews_count  text_reviews_count  best_book_id  \\\n",
       "27            1              7                   1      16037548   \n",
       "\n",
       "   original_publication_year              original_title  \\\n",
       "27                      2012  Untold Secrets: Fire & Ice   \n",
       "\n",
       "                    rating_dist  ratings_count media_type  ratings_sum  \\\n",
       "27  5:0|4:0|3:0|2:0|1:0|total:0              0       book            0   \n",
       "\n",
       "     work_id  average_rating  \n",
       "27  21811539             0.0  "
      ]
     },
     "execution_count": 67,
     "metadata": {},
     "output_type": "execute_result"
    }
   ],
   "source": [
    "booklist_works.loc[[27],]"
   ]
  },
  {
   "cell_type": "code",
   "execution_count": 68,
   "metadata": {},
   "outputs": [
    {
     "data": {
      "text/plain": [
       "average_rating    0\n",
       "dtype: int64"
      ]
     },
     "execution_count": 68,
     "metadata": {},
     "output_type": "execute_result"
    }
   ],
   "source": [
    "booklist_works.isnull().sum()[[\"average_rating\"]]"
   ]
  },
  {
   "cell_type": "markdown",
   "metadata": {},
   "source": [
    "### 3.5.2 Placing title and author_name in booklist_works"
   ]
  },
  {
   "cell_type": "markdown",
   "metadata": {},
   "source": [
    "### 3.5.2.1  Check the presence of similar book_id and work_id in booklist_compiled and vice-versa"
   ]
  },
  {
   "cell_type": "markdown",
   "metadata": {},
   "source": [
    "#### Book_id and work_id of booklist_works in booklist_compiled"
   ]
  },
  {
   "cell_type": "code",
   "execution_count": 69,
   "metadata": {},
   "outputs": [
    {
     "data": {
      "text/plain": [
       "1    1439794\n",
       "0      82168\n",
       "Name: best_book_id, dtype: int64"
      ]
     },
     "execution_count": 69,
     "metadata": {},
     "output_type": "execute_result"
    }
   ],
   "source": [
    "# Proportion of booklist_works book_id in booklist_compiled\n",
    "booklist_works.best_book_id.isin(booklist_compiled.book_id).astype(int).value_counts()"
   ]
  },
  {
   "cell_type": "code",
   "execution_count": 70,
   "metadata": {},
   "outputs": [
    {
     "data": {
      "text/plain": [
       "1    1521962\n",
       "Name: work_id, dtype: int64"
      ]
     },
     "execution_count": 70,
     "metadata": {},
     "output_type": "execute_result"
    }
   ],
   "source": [
    "# Proportion of booklist_works work_id in booklist_compiled\n",
    "booklist_works.work_id.isin(booklist_compiled.work_id).astype(int).value_counts()"
   ]
  },
  {
   "cell_type": "markdown",
   "metadata": {},
   "source": [
    "#### Book_id and work_id of booklist_compiled in booklist_works"
   ]
  },
  {
   "cell_type": "code",
   "execution_count": 71,
   "metadata": {},
   "outputs": [
    {
     "data": {
      "text/plain": [
       "1    1439794\n",
       "0     920337\n",
       "Name: book_id, dtype: int64"
      ]
     },
     "execution_count": 71,
     "metadata": {},
     "output_type": "execute_result"
    }
   ],
   "source": [
    "# Proportion of booklist_compiled book_id in booklist_works\n",
    "booklist_compiled.book_id.isin(booklist_works.best_book_id).astype(int).value_counts()"
   ]
  },
  {
   "cell_type": "code",
   "execution_count": 73,
   "metadata": {},
   "outputs": [
    {
     "data": {
      "text/plain": [
       "1    2360131\n",
       "Name: work_id, dtype: int64"
      ]
     },
     "execution_count": 73,
     "metadata": {},
     "output_type": "execute_result"
    }
   ],
   "source": [
    "# Proportion of booklist_compiled work_id in booklist_works\n",
    "booklist_compiled.work_id.isin(booklist_works.work_id).astype(int).value_counts()"
   ]
  },
  {
   "cell_type": "markdown",
   "metadata": {},
   "source": [
    "**Analysis: Both booklist_compiled and booklist_works have books with the same work_id.**"
   ]
  },
  {
   "cell_type": "markdown",
   "metadata": {},
   "source": [
    "### 3.5.2.2  Filling the missing_values in booklist_works original_title column and include author_name"
   ]
  },
  {
   "cell_type": "markdown",
   "metadata": {},
   "source": [
    "1. Match using book_id\n",
    "2. Match using information from work_id of books having the max_ratings_count from booklist_compiled"
   ]
  },
  {
   "cell_type": "markdown",
   "metadata": {},
   "source": [
    "**1. Match using book_id**"
   ]
  },
  {
   "cell_type": "code",
   "execution_count": 74,
   "metadata": {},
   "outputs": [
    {
     "data": {
      "text/html": [
       "<div>\n",
       "<style scoped>\n",
       "    .dataframe tbody tr th:only-of-type {\n",
       "        vertical-align: middle;\n",
       "    }\n",
       "\n",
       "    .dataframe tbody tr th {\n",
       "        vertical-align: top;\n",
       "    }\n",
       "\n",
       "    .dataframe thead th {\n",
       "        text-align: right;\n",
       "    }\n",
       "</style>\n",
       "<table border=\"1\" class=\"dataframe\">\n",
       "  <thead>\n",
       "    <tr style=\"text-align: right;\">\n",
       "      <th></th>\n",
       "      <th>best_book_id</th>\n",
       "      <th>original_title</th>\n",
       "      <th>author_name</th>\n",
       "    </tr>\n",
       "  </thead>\n",
       "  <tbody>\n",
       "    <tr>\n",
       "      <th>0</th>\n",
       "      <td>5333265</td>\n",
       "      <td>W.C. Fields: A Life on Film</td>\n",
       "      <td>Ronald J. Fields</td>\n",
       "    </tr>\n",
       "    <tr>\n",
       "      <th>1</th>\n",
       "      <td>1333909</td>\n",
       "      <td>Good Harbor</td>\n",
       "      <td>Anita Diamant</td>\n",
       "    </tr>\n",
       "    <tr>\n",
       "      <th>2</th>\n",
       "      <td>7327624</td>\n",
       "      <td>The Unschooled Wizard (Sun Wolf and Starhawk, #1-2)</td>\n",
       "      <td>Barbara Hambly</td>\n",
       "    </tr>\n",
       "    <tr>\n",
       "      <th>3</th>\n",
       "      <td>6066819</td>\n",
       "      <td>Best Friends Forever</td>\n",
       "      <td>Jennifer Weiner</td>\n",
       "    </tr>\n",
       "    <tr>\n",
       "      <th>4</th>\n",
       "      <td>287140</td>\n",
       "      <td>Runic Astrology: Starcraft and Timekeeping in the Northern Tradition</td>\n",
       "      <td>Nigel Pennick</td>\n",
       "    </tr>\n",
       "  </tbody>\n",
       "</table>\n",
       "</div>"
      ],
      "text/plain": [
       "   best_book_id  \\\n",
       "0       5333265   \n",
       "1       1333909   \n",
       "2       7327624   \n",
       "3       6066819   \n",
       "4        287140   \n",
       "\n",
       "                                                         original_title  \\\n",
       "0                                           W.C. Fields: A Life on Film   \n",
       "1                                                           Good Harbor   \n",
       "2                   The Unschooled Wizard (Sun Wolf and Starhawk, #1-2)   \n",
       "3                                                  Best Friends Forever   \n",
       "4  Runic Astrology: Starcraft and Timekeeping in the Northern Tradition   \n",
       "\n",
       "        author_name  \n",
       "0  Ronald J. Fields  \n",
       "1     Anita Diamant  \n",
       "2    Barbara Hambly  \n",
       "3   Jennifer Weiner  \n",
       "4     Nigel Pennick  "
      ]
     },
     "execution_count": 74,
     "metadata": {},
     "output_type": "execute_result"
    }
   ],
   "source": [
    "# Create a list of information from booklist_compiled\n",
    "book_title_df = booklist_compiled[[\"book_id\", \"title\", \"author_name\"]]\n",
    "book_title_df = book_title_df.rename({\"book_id\":\"best_book_id\", \"title\": \"original_title\"}, axis = 1)\n",
    "book_title_df = book_title_df[book_title_df.original_title != \"\"]\n",
    "book_title_df.head()"
   ]
  },
  {
   "cell_type": "code",
   "execution_count": 75,
   "metadata": {},
   "outputs": [
    {
     "data": {
      "text/html": [
       "<div>\n",
       "<style scoped>\n",
       "    .dataframe tbody tr th:only-of-type {\n",
       "        vertical-align: middle;\n",
       "    }\n",
       "\n",
       "    .dataframe tbody tr th {\n",
       "        vertical-align: top;\n",
       "    }\n",
       "\n",
       "    .dataframe thead th {\n",
       "        text-align: right;\n",
       "    }\n",
       "</style>\n",
       "<table border=\"1\" class=\"dataframe\">\n",
       "  <thead>\n",
       "    <tr style=\"text-align: right;\">\n",
       "      <th></th>\n",
       "      <th>books_count</th>\n",
       "      <th>reviews_count</th>\n",
       "      <th>text_reviews_count</th>\n",
       "      <th>best_book_id</th>\n",
       "      <th>original_publication_year</th>\n",
       "      <th>original_title</th>\n",
       "      <th>rating_dist</th>\n",
       "      <th>ratings_count</th>\n",
       "      <th>media_type</th>\n",
       "      <th>ratings_sum</th>\n",
       "      <th>work_id</th>\n",
       "      <th>average_rating</th>\n",
       "    </tr>\n",
       "  </thead>\n",
       "  <tbody>\n",
       "    <tr>\n",
       "      <th>2</th>\n",
       "      <td>2</td>\n",
       "      <td>268</td>\n",
       "      <td>7</td>\n",
       "      <td>7327624</td>\n",
       "      <td>1987</td>\n",
       "      <td></td>\n",
       "      <td>5:49|4:58|3:26|2:5|1:3|total:141</td>\n",
       "      <td>141</td>\n",
       "      <td>book</td>\n",
       "      <td>568</td>\n",
       "      <td>8948723</td>\n",
       "      <td>4.028369</td>\n",
       "    </tr>\n",
       "    <tr>\n",
       "      <th>8</th>\n",
       "      <td>2</td>\n",
       "      <td>14</td>\n",
       "      <td>4</td>\n",
       "      <td>34883016</td>\n",
       "      <td></td>\n",
       "      <td></td>\n",
       "      <td>5:2|4:2|3:3|2:0|1:0|total:7</td>\n",
       "      <td>7</td>\n",
       "      <td>book</td>\n",
       "      <td>27</td>\n",
       "      <td>56135087</td>\n",
       "      <td>3.857143</td>\n",
       "    </tr>\n",
       "    <tr>\n",
       "      <th>11</th>\n",
       "      <td>5</td>\n",
       "      <td>893</td>\n",
       "      <td>65</td>\n",
       "      <td>33394837</td>\n",
       "      <td></td>\n",
       "      <td></td>\n",
       "      <td>5:141|4:96|3:30|2:7|1:2|total:276</td>\n",
       "      <td>276</td>\n",
       "      <td>book</td>\n",
       "      <td>1195</td>\n",
       "      <td>54143148</td>\n",
       "      <td>4.329710</td>\n",
       "    </tr>\n",
       "    <tr>\n",
       "      <th>12</th>\n",
       "      <td>22</td>\n",
       "      <td>25527</td>\n",
       "      <td>553</td>\n",
       "      <td>89369</td>\n",
       "      <td>1992</td>\n",
       "      <td></td>\n",
       "      <td>5:4686|4:4938|3:3944|2:1274|1:356|total:15198</td>\n",
       "      <td>15198</td>\n",
       "      <td>book</td>\n",
       "      <td>57918</td>\n",
       "      <td>41333541</td>\n",
       "      <td>3.810896</td>\n",
       "    </tr>\n",
       "    <tr>\n",
       "      <th>19</th>\n",
       "      <td>2</td>\n",
       "      <td>162</td>\n",
       "      <td>24</td>\n",
       "      <td>21401188</td>\n",
       "      <td>2014</td>\n",
       "      <td></td>\n",
       "      <td>5:27|4:32|3:18|2:3|1:0|total:80</td>\n",
       "      <td>80</td>\n",
       "      <td>book</td>\n",
       "      <td>323</td>\n",
       "      <td>40699074</td>\n",
       "      <td>4.037500</td>\n",
       "    </tr>\n",
       "  </tbody>\n",
       "</table>\n",
       "</div>"
      ],
      "text/plain": [
       "    books_count  reviews_count  text_reviews_count  best_book_id  \\\n",
       "2             2            268                   7       7327624   \n",
       "8             2             14                   4      34883016   \n",
       "11            5            893                  65      33394837   \n",
       "12           22          25527                 553         89369   \n",
       "19            2            162                  24      21401188   \n",
       "\n",
       "   original_publication_year original_title  \\\n",
       "2                       1987                  \n",
       "8                                             \n",
       "11                                            \n",
       "12                      1992                  \n",
       "19                      2014                  \n",
       "\n",
       "                                      rating_dist  ratings_count media_type  \\\n",
       "2                5:49|4:58|3:26|2:5|1:3|total:141            141       book   \n",
       "8                     5:2|4:2|3:3|2:0|1:0|total:7              7       book   \n",
       "11              5:141|4:96|3:30|2:7|1:2|total:276            276       book   \n",
       "12  5:4686|4:4938|3:3944|2:1274|1:356|total:15198          15198       book   \n",
       "19                5:27|4:32|3:18|2:3|1:0|total:80             80       book   \n",
       "\n",
       "    ratings_sum   work_id  average_rating  \n",
       "2           568   8948723        4.028369  \n",
       "8            27  56135087        3.857143  \n",
       "11         1195  54143148        4.329710  \n",
       "12        57918  41333541        3.810896  \n",
       "19          323  40699074        4.037500  "
      ]
     },
     "execution_count": 75,
     "metadata": {},
     "output_type": "execute_result"
    }
   ],
   "source": [
    "# Separate the books in booklist_works having titles with books having missing titles\n",
    "booklist_works_missing_title = booklist_works[booklist_works.original_title == \"\"]\n",
    "booklist_works_ori_title = booklist_works[booklist_works.original_title != \"\"]\n",
    "booklist_works_missing_title.head()"
   ]
  },
  {
   "cell_type": "code",
   "execution_count": 76,
   "metadata": {},
   "outputs": [
    {
     "data": {
      "text/html": [
       "<div>\n",
       "<style scoped>\n",
       "    .dataframe tbody tr th:only-of-type {\n",
       "        vertical-align: middle;\n",
       "    }\n",
       "\n",
       "    .dataframe tbody tr th {\n",
       "        vertical-align: top;\n",
       "    }\n",
       "\n",
       "    .dataframe thead th {\n",
       "        text-align: right;\n",
       "    }\n",
       "</style>\n",
       "<table border=\"1\" class=\"dataframe\">\n",
       "  <thead>\n",
       "    <tr style=\"text-align: right;\">\n",
       "      <th></th>\n",
       "      <th>books_count</th>\n",
       "      <th>reviews_count</th>\n",
       "      <th>text_reviews_count</th>\n",
       "      <th>best_book_id</th>\n",
       "      <th>original_publication_year</th>\n",
       "      <th>rating_dist</th>\n",
       "      <th>ratings_count</th>\n",
       "      <th>media_type</th>\n",
       "      <th>ratings_sum</th>\n",
       "      <th>work_id</th>\n",
       "      <th>average_rating</th>\n",
       "      <th>original_title</th>\n",
       "      <th>author_name</th>\n",
       "    </tr>\n",
       "  </thead>\n",
       "  <tbody>\n",
       "    <tr>\n",
       "      <th>0</th>\n",
       "      <td>2</td>\n",
       "      <td>268</td>\n",
       "      <td>7</td>\n",
       "      <td>7327624</td>\n",
       "      <td>1987</td>\n",
       "      <td>5:49|4:58|3:26|2:5|1:3|total:141</td>\n",
       "      <td>141</td>\n",
       "      <td>book</td>\n",
       "      <td>568</td>\n",
       "      <td>8948723</td>\n",
       "      <td>4.028369</td>\n",
       "      <td>The Unschooled Wizard (Sun Wolf and Starhawk, #1-2)</td>\n",
       "      <td>Barbara Hambly</td>\n",
       "    </tr>\n",
       "    <tr>\n",
       "      <th>1</th>\n",
       "      <td>2</td>\n",
       "      <td>14</td>\n",
       "      <td>4</td>\n",
       "      <td>34883016</td>\n",
       "      <td></td>\n",
       "      <td>5:2|4:2|3:3|2:0|1:0|total:7</td>\n",
       "      <td>7</td>\n",
       "      <td>book</td>\n",
       "      <td>27</td>\n",
       "      <td>56135087</td>\n",
       "      <td>3.857143</td>\n",
       "      <td>Playmaker: A Venom Series Novella</td>\n",
       "      <td>V.L. Locey</td>\n",
       "    </tr>\n",
       "    <tr>\n",
       "      <th>2</th>\n",
       "      <td>5</td>\n",
       "      <td>893</td>\n",
       "      <td>65</td>\n",
       "      <td>33394837</td>\n",
       "      <td></td>\n",
       "      <td>5:141|4:96|3:30|2:7|1:2|total:276</td>\n",
       "      <td>276</td>\n",
       "      <td>book</td>\n",
       "      <td>1195</td>\n",
       "      <td>54143148</td>\n",
       "      <td>4.329710</td>\n",
       "      <td>The House of Memory (Pluto's Snitch #2)</td>\n",
       "      <td>Carolyn Haines</td>\n",
       "    </tr>\n",
       "    <tr>\n",
       "      <th>3</th>\n",
       "      <td>22</td>\n",
       "      <td>25527</td>\n",
       "      <td>553</td>\n",
       "      <td>89369</td>\n",
       "      <td>1992</td>\n",
       "      <td>5:4686|4:4938|3:3944|2:1274|1:356|total:15198</td>\n",
       "      <td>15198</td>\n",
       "      <td>book</td>\n",
       "      <td>57918</td>\n",
       "      <td>41333541</td>\n",
       "      <td>3.810896</td>\n",
       "      <td>The Te of Piglet</td>\n",
       "      <td>Benjamin Hoff</td>\n",
       "    </tr>\n",
       "    <tr>\n",
       "      <th>4</th>\n",
       "      <td>2</td>\n",
       "      <td>162</td>\n",
       "      <td>24</td>\n",
       "      <td>21401188</td>\n",
       "      <td>2014</td>\n",
       "      <td>5:27|4:32|3:18|2:3|1:0|total:80</td>\n",
       "      <td>80</td>\n",
       "      <td>book</td>\n",
       "      <td>323</td>\n",
       "      <td>40699074</td>\n",
       "      <td>4.037500</td>\n",
       "      <td>Glimmering Light</td>\n",
       "      <td>Margot Hovley</td>\n",
       "    </tr>\n",
       "  </tbody>\n",
       "</table>\n",
       "</div>"
      ],
      "text/plain": [
       "   books_count  reviews_count  text_reviews_count  best_book_id  \\\n",
       "0            2            268                   7       7327624   \n",
       "1            2             14                   4      34883016   \n",
       "2            5            893                  65      33394837   \n",
       "3           22          25527                 553         89369   \n",
       "4            2            162                  24      21401188   \n",
       "\n",
       "  original_publication_year                                    rating_dist  \\\n",
       "0                      1987               5:49|4:58|3:26|2:5|1:3|total:141   \n",
       "1                                              5:2|4:2|3:3|2:0|1:0|total:7   \n",
       "2                                        5:141|4:96|3:30|2:7|1:2|total:276   \n",
       "3                      1992  5:4686|4:4938|3:3944|2:1274|1:356|total:15198   \n",
       "4                      2014                5:27|4:32|3:18|2:3|1:0|total:80   \n",
       "\n",
       "   ratings_count media_type  ratings_sum   work_id  average_rating  \\\n",
       "0            141       book          568   8948723        4.028369   \n",
       "1              7       book           27  56135087        3.857143   \n",
       "2            276       book         1195  54143148        4.329710   \n",
       "3          15198       book        57918  41333541        3.810896   \n",
       "4             80       book          323  40699074        4.037500   \n",
       "\n",
       "                                        original_title     author_name  \n",
       "0  The Unschooled Wizard (Sun Wolf and Starhawk, #1-2)  Barbara Hambly  \n",
       "1                    Playmaker: A Venom Series Novella      V.L. Locey  \n",
       "2              The House of Memory (Pluto's Snitch #2)  Carolyn Haines  \n",
       "3                                     The Te of Piglet   Benjamin Hoff  \n",
       "4                                     Glimmering Light   Margot Hovley  "
      ]
     },
     "execution_count": 76,
     "metadata": {},
     "output_type": "execute_result"
    }
   ],
   "source": [
    "# Fill the information of the missing title with mapping of book_id\n",
    "booklist_works_missing_title = booklist_works_missing_title.drop([\"original_title\"], axis = 1)\n",
    "booklist_works_missing_title = pd.merge(booklist_works_missing_title, book_title_df, on = 'best_book_id', how = 'left')\n",
    "booklist_works_missing_title.head()"
   ]
  },
  {
   "cell_type": "code",
   "execution_count": 77,
   "metadata": {},
   "outputs": [
    {
     "data": {
      "text/html": [
       "<div>\n",
       "<style scoped>\n",
       "    .dataframe tbody tr th:only-of-type {\n",
       "        vertical-align: middle;\n",
       "    }\n",
       "\n",
       "    .dataframe tbody tr th {\n",
       "        vertical-align: top;\n",
       "    }\n",
       "\n",
       "    .dataframe thead th {\n",
       "        text-align: right;\n",
       "    }\n",
       "</style>\n",
       "<table border=\"1\" class=\"dataframe\">\n",
       "  <thead>\n",
       "    <tr style=\"text-align: right;\">\n",
       "      <th></th>\n",
       "      <th>books_count</th>\n",
       "      <th>reviews_count</th>\n",
       "      <th>text_reviews_count</th>\n",
       "      <th>best_book_id</th>\n",
       "      <th>original_publication_year</th>\n",
       "      <th>original_title</th>\n",
       "      <th>rating_dist</th>\n",
       "      <th>ratings_count</th>\n",
       "      <th>media_type</th>\n",
       "      <th>ratings_sum</th>\n",
       "      <th>work_id</th>\n",
       "      <th>average_rating</th>\n",
       "      <th>author_name</th>\n",
       "    </tr>\n",
       "  </thead>\n",
       "  <tbody>\n",
       "    <tr>\n",
       "      <th>0</th>\n",
       "      <td>1</td>\n",
       "      <td>6</td>\n",
       "      <td>1</td>\n",
       "      <td>5333265</td>\n",
       "      <td>1984</td>\n",
       "      <td>W. C. Fields: A Life on Film</td>\n",
       "      <td>5:1|4:1|3:1|2:0|1:0|total:3</td>\n",
       "      <td>3</td>\n",
       "      <td>book</td>\n",
       "      <td>12</td>\n",
       "      <td>5400751</td>\n",
       "      <td>4.000000</td>\n",
       "      <td>Ronald J. Fields</td>\n",
       "    </tr>\n",
       "    <tr>\n",
       "      <th>1</th>\n",
       "      <td>22</td>\n",
       "      <td>10162</td>\n",
       "      <td>741</td>\n",
       "      <td>25717</td>\n",
       "      <td>2001</td>\n",
       "      <td>Good Harbor</td>\n",
       "      <td>5:517|4:1787|3:2763|2:966|1:196|total:6229</td>\n",
       "      <td>6229</td>\n",
       "      <td>book</td>\n",
       "      <td>20150</td>\n",
       "      <td>1323437</td>\n",
       "      <td>3.234869</td>\n",
       "      <td>Anita Diamant</td>\n",
       "    </tr>\n",
       "    <tr>\n",
       "      <th>2</th>\n",
       "      <td>38</td>\n",
       "      <td>89252</td>\n",
       "      <td>3504</td>\n",
       "      <td>6066819</td>\n",
       "      <td>2009</td>\n",
       "      <td>Best Friends Forever</td>\n",
       "      <td>5:9152|4:16855|3:19507|2:6210|1:1549|total:53273</td>\n",
       "      <td>53273</td>\n",
       "      <td>book</td>\n",
       "      <td>185670</td>\n",
       "      <td>6243154</td>\n",
       "      <td>3.485255</td>\n",
       "      <td>Jennifer Weiner</td>\n",
       "    </tr>\n",
       "    <tr>\n",
       "      <th>3</th>\n",
       "      <td>2</td>\n",
       "      <td>49</td>\n",
       "      <td>5</td>\n",
       "      <td>287140</td>\n",
       "      <td>1990</td>\n",
       "      <td>Runic Astrology: Starcraft and Timekeeping in the Northern Tradition</td>\n",
       "      <td>5:6|4:1|3:3|2:3|1:2|total:15</td>\n",
       "      <td>15</td>\n",
       "      <td>book</td>\n",
       "      <td>51</td>\n",
       "      <td>278577</td>\n",
       "      <td>3.400000</td>\n",
       "      <td>Nigel Pennick</td>\n",
       "    </tr>\n",
       "    <tr>\n",
       "      <th>4</th>\n",
       "      <td>21</td>\n",
       "      <td>154</td>\n",
       "      <td>8</td>\n",
       "      <td>287141</td>\n",
       "      <td>1908</td>\n",
       "      <td>The Aeneid for Boys and Girls</td>\n",
       "      <td>5:29|4:21|3:14|2:3|1:0|total:67</td>\n",
       "      <td>67</td>\n",
       "      <td>book</td>\n",
       "      <td>277</td>\n",
       "      <td>278578</td>\n",
       "      <td>4.134328</td>\n",
       "      <td>Alfred J. Church</td>\n",
       "    </tr>\n",
       "  </tbody>\n",
       "</table>\n",
       "</div>"
      ],
      "text/plain": [
       "   books_count  reviews_count  text_reviews_count  best_book_id  \\\n",
       "0            1              6                   1       5333265   \n",
       "1           22          10162                 741         25717   \n",
       "2           38          89252                3504       6066819   \n",
       "3            2             49                   5        287140   \n",
       "4           21            154                   8        287141   \n",
       "\n",
       "  original_publication_year  \\\n",
       "0                      1984   \n",
       "1                      2001   \n",
       "2                      2009   \n",
       "3                      1990   \n",
       "4                      1908   \n",
       "\n",
       "                                                         original_title  \\\n",
       "0                                          W. C. Fields: A Life on Film   \n",
       "1                                                           Good Harbor   \n",
       "2                                                  Best Friends Forever   \n",
       "3  Runic Astrology: Starcraft and Timekeeping in the Northern Tradition   \n",
       "4                                         The Aeneid for Boys and Girls   \n",
       "\n",
       "                                        rating_dist  ratings_count media_type  \\\n",
       "0                       5:1|4:1|3:1|2:0|1:0|total:3              3       book   \n",
       "1        5:517|4:1787|3:2763|2:966|1:196|total:6229           6229       book   \n",
       "2  5:9152|4:16855|3:19507|2:6210|1:1549|total:53273          53273       book   \n",
       "3                      5:6|4:1|3:3|2:3|1:2|total:15             15       book   \n",
       "4                   5:29|4:21|3:14|2:3|1:0|total:67             67       book   \n",
       "\n",
       "   ratings_sum  work_id  average_rating       author_name  \n",
       "0           12  5400751        4.000000  Ronald J. Fields  \n",
       "1        20150  1323437        3.234869     Anita Diamant  \n",
       "2       185670  6243154        3.485255   Jennifer Weiner  \n",
       "3           51   278577        3.400000     Nigel Pennick  \n",
       "4          277   278578        4.134328  Alfred J. Church  "
      ]
     },
     "execution_count": 77,
     "metadata": {},
     "output_type": "execute_result"
    }
   ],
   "source": [
    "# Fill the information of the author name of books in booklist_works having existing titles\n",
    "book_author_df = book_title_df.drop([\"original_title\"], axis = 1)\n",
    "booklist_works_ori_title = pd.merge(booklist_works_ori_title, book_author_df, on = 'best_book_id', how = 'left')\n",
    "booklist_works_ori_title.head()"
   ]
  },
  {
   "cell_type": "code",
   "execution_count": 78,
   "metadata": {},
   "outputs": [
    {
     "data": {
      "text/html": [
       "<div>\n",
       "<style scoped>\n",
       "    .dataframe tbody tr th:only-of-type {\n",
       "        vertical-align: middle;\n",
       "    }\n",
       "\n",
       "    .dataframe tbody tr th {\n",
       "        vertical-align: top;\n",
       "    }\n",
       "\n",
       "    .dataframe thead th {\n",
       "        text-align: right;\n",
       "    }\n",
       "</style>\n",
       "<table border=\"1\" class=\"dataframe\">\n",
       "  <thead>\n",
       "    <tr style=\"text-align: right;\">\n",
       "      <th></th>\n",
       "      <th>books_count</th>\n",
       "      <th>reviews_count</th>\n",
       "      <th>text_reviews_count</th>\n",
       "      <th>best_book_id</th>\n",
       "      <th>original_publication_year</th>\n",
       "      <th>rating_dist</th>\n",
       "      <th>ratings_count</th>\n",
       "      <th>media_type</th>\n",
       "      <th>ratings_sum</th>\n",
       "      <th>work_id</th>\n",
       "      <th>average_rating</th>\n",
       "      <th>original_title</th>\n",
       "      <th>author_name</th>\n",
       "    </tr>\n",
       "  </thead>\n",
       "  <tbody>\n",
       "    <tr>\n",
       "      <th>0</th>\n",
       "      <td>2</td>\n",
       "      <td>268</td>\n",
       "      <td>7</td>\n",
       "      <td>7327624</td>\n",
       "      <td>1987</td>\n",
       "      <td>5:49|4:58|3:26|2:5|1:3|total:141</td>\n",
       "      <td>141</td>\n",
       "      <td>book</td>\n",
       "      <td>568</td>\n",
       "      <td>8948723</td>\n",
       "      <td>4.028369</td>\n",
       "      <td>The Unschooled Wizard (Sun Wolf and Starhawk, #1-2)</td>\n",
       "      <td>Barbara Hambly</td>\n",
       "    </tr>\n",
       "    <tr>\n",
       "      <th>1</th>\n",
       "      <td>2</td>\n",
       "      <td>14</td>\n",
       "      <td>4</td>\n",
       "      <td>34883016</td>\n",
       "      <td></td>\n",
       "      <td>5:2|4:2|3:3|2:0|1:0|total:7</td>\n",
       "      <td>7</td>\n",
       "      <td>book</td>\n",
       "      <td>27</td>\n",
       "      <td>56135087</td>\n",
       "      <td>3.857143</td>\n",
       "      <td>Playmaker: A Venom Series Novella</td>\n",
       "      <td>V.L. Locey</td>\n",
       "    </tr>\n",
       "    <tr>\n",
       "      <th>2</th>\n",
       "      <td>5</td>\n",
       "      <td>893</td>\n",
       "      <td>65</td>\n",
       "      <td>33394837</td>\n",
       "      <td></td>\n",
       "      <td>5:141|4:96|3:30|2:7|1:2|total:276</td>\n",
       "      <td>276</td>\n",
       "      <td>book</td>\n",
       "      <td>1195</td>\n",
       "      <td>54143148</td>\n",
       "      <td>4.329710</td>\n",
       "      <td>The House of Memory (Pluto's Snitch #2)</td>\n",
       "      <td>Carolyn Haines</td>\n",
       "    </tr>\n",
       "    <tr>\n",
       "      <th>3</th>\n",
       "      <td>22</td>\n",
       "      <td>25527</td>\n",
       "      <td>553</td>\n",
       "      <td>89369</td>\n",
       "      <td>1992</td>\n",
       "      <td>5:4686|4:4938|3:3944|2:1274|1:356|total:15198</td>\n",
       "      <td>15198</td>\n",
       "      <td>book</td>\n",
       "      <td>57918</td>\n",
       "      <td>41333541</td>\n",
       "      <td>3.810896</td>\n",
       "      <td>The Te of Piglet</td>\n",
       "      <td>Benjamin Hoff</td>\n",
       "    </tr>\n",
       "    <tr>\n",
       "      <th>4</th>\n",
       "      <td>2</td>\n",
       "      <td>162</td>\n",
       "      <td>24</td>\n",
       "      <td>21401188</td>\n",
       "      <td>2014</td>\n",
       "      <td>5:27|4:32|3:18|2:3|1:0|total:80</td>\n",
       "      <td>80</td>\n",
       "      <td>book</td>\n",
       "      <td>323</td>\n",
       "      <td>40699074</td>\n",
       "      <td>4.037500</td>\n",
       "      <td>Glimmering Light</td>\n",
       "      <td>Margot Hovley</td>\n",
       "    </tr>\n",
       "  </tbody>\n",
       "</table>\n",
       "</div>"
      ],
      "text/plain": [
       "   books_count  reviews_count  text_reviews_count  best_book_id  \\\n",
       "0            2            268                   7       7327624   \n",
       "1            2             14                   4      34883016   \n",
       "2            5            893                  65      33394837   \n",
       "3           22          25527                 553         89369   \n",
       "4            2            162                  24      21401188   \n",
       "\n",
       "  original_publication_year                                    rating_dist  \\\n",
       "0                      1987               5:49|4:58|3:26|2:5|1:3|total:141   \n",
       "1                                              5:2|4:2|3:3|2:0|1:0|total:7   \n",
       "2                                        5:141|4:96|3:30|2:7|1:2|total:276   \n",
       "3                      1992  5:4686|4:4938|3:3944|2:1274|1:356|total:15198   \n",
       "4                      2014                5:27|4:32|3:18|2:3|1:0|total:80   \n",
       "\n",
       "   ratings_count media_type  ratings_sum   work_id  average_rating  \\\n",
       "0            141       book          568   8948723        4.028369   \n",
       "1              7       book           27  56135087        3.857143   \n",
       "2            276       book         1195  54143148        4.329710   \n",
       "3          15198       book        57918  41333541        3.810896   \n",
       "4             80       book          323  40699074        4.037500   \n",
       "\n",
       "                                        original_title     author_name  \n",
       "0  The Unschooled Wizard (Sun Wolf and Starhawk, #1-2)  Barbara Hambly  \n",
       "1                    Playmaker: A Venom Series Novella      V.L. Locey  \n",
       "2              The House of Memory (Pluto's Snitch #2)  Carolyn Haines  \n",
       "3                                     The Te of Piglet   Benjamin Hoff  \n",
       "4                                     Glimmering Light   Margot Hovley  "
      ]
     },
     "execution_count": 78,
     "metadata": {},
     "output_type": "execute_result"
    }
   ],
   "source": [
    "# Merge the two lists into a single dataframe\n",
    "booklist_works = pd.concat([booklist_works_missing_title, booklist_works_ori_title], axis = 0)\n",
    "booklist_works = booklist_works.reset_index(drop=True)\n",
    "booklist_works.head()"
   ]
  },
  {
   "cell_type": "code",
   "execution_count": 79,
   "metadata": {},
   "outputs": [
    {
     "name": "stdout",
     "output_type": "stream",
     "text": [
      "The number of books with missing title is 41401\n"
     ]
    },
    {
     "data": {
      "text/html": [
       "<div>\n",
       "<style scoped>\n",
       "    .dataframe tbody tr th:only-of-type {\n",
       "        vertical-align: middle;\n",
       "    }\n",
       "\n",
       "    .dataframe tbody tr th {\n",
       "        vertical-align: top;\n",
       "    }\n",
       "\n",
       "    .dataframe thead th {\n",
       "        text-align: right;\n",
       "    }\n",
       "</style>\n",
       "<table border=\"1\" class=\"dataframe\">\n",
       "  <thead>\n",
       "    <tr style=\"text-align: right;\">\n",
       "      <th></th>\n",
       "      <th>books_count</th>\n",
       "      <th>reviews_count</th>\n",
       "      <th>text_reviews_count</th>\n",
       "      <th>best_book_id</th>\n",
       "      <th>original_publication_year</th>\n",
       "      <th>rating_dist</th>\n",
       "      <th>ratings_count</th>\n",
       "      <th>media_type</th>\n",
       "      <th>ratings_sum</th>\n",
       "      <th>work_id</th>\n",
       "      <th>average_rating</th>\n",
       "      <th>original_title</th>\n",
       "      <th>author_name</th>\n",
       "    </tr>\n",
       "  </thead>\n",
       "  <tbody>\n",
       "    <tr>\n",
       "      <th>9</th>\n",
       "      <td>6</td>\n",
       "      <td>356</td>\n",
       "      <td>25</td>\n",
       "      <td>35494833</td>\n",
       "      <td></td>\n",
       "      <td>5:54|4:63|3:34|2:30|1:21|total:202</td>\n",
       "      <td>202</td>\n",
       "      <td>book</td>\n",
       "      <td>705</td>\n",
       "      <td>49305010</td>\n",
       "      <td>3.490099</td>\n",
       "      <td>NaN</td>\n",
       "      <td>NaN</td>\n",
       "    </tr>\n",
       "    <tr>\n",
       "      <th>12</th>\n",
       "      <td>4</td>\n",
       "      <td>240</td>\n",
       "      <td>1</td>\n",
       "      <td>23373156</td>\n",
       "      <td>2014</td>\n",
       "      <td>5:5|4:1|3:1|2:0|1:1|total:8</td>\n",
       "      <td>8</td>\n",
       "      <td>book</td>\n",
       "      <td>33</td>\n",
       "      <td>42749946</td>\n",
       "      <td>4.125000</td>\n",
       "      <td>NaN</td>\n",
       "      <td>NaN</td>\n",
       "    </tr>\n",
       "    <tr>\n",
       "      <th>50</th>\n",
       "      <td>11</td>\n",
       "      <td>79</td>\n",
       "      <td>16</td>\n",
       "      <td>30973860</td>\n",
       "      <td></td>\n",
       "      <td>5:5|4:26|3:20|2:4|1:0|total:55</td>\n",
       "      <td>55</td>\n",
       "      <td>book</td>\n",
       "      <td>197</td>\n",
       "      <td>51592180</td>\n",
       "      <td>3.581818</td>\n",
       "      <td>NaN</td>\n",
       "      <td>NaN</td>\n",
       "    </tr>\n",
       "    <tr>\n",
       "      <th>85</th>\n",
       "      <td>5</td>\n",
       "      <td>43</td>\n",
       "      <td>2</td>\n",
       "      <td>17354319</td>\n",
       "      <td>2012</td>\n",
       "      <td>5:2|4:3|3:5|2:3|1:1|total:14</td>\n",
       "      <td>14</td>\n",
       "      <td></td>\n",
       "      <td>44</td>\n",
       "      <td>22291818</td>\n",
       "      <td>3.142857</td>\n",
       "      <td>NaN</td>\n",
       "      <td>NaN</td>\n",
       "    </tr>\n",
       "    <tr>\n",
       "      <th>128</th>\n",
       "      <td>3</td>\n",
       "      <td>119</td>\n",
       "      <td>7</td>\n",
       "      <td>31084622</td>\n",
       "      <td></td>\n",
       "      <td>5:29|4:31|3:7|2:1|1:0|total:68</td>\n",
       "      <td>68</td>\n",
       "      <td>book</td>\n",
       "      <td>292</td>\n",
       "      <td>51688433</td>\n",
       "      <td>4.294118</td>\n",
       "      <td>NaN</td>\n",
       "      <td>NaN</td>\n",
       "    </tr>\n",
       "  </tbody>\n",
       "</table>\n",
       "</div>"
      ],
      "text/plain": [
       "     books_count  reviews_count  text_reviews_count  best_book_id  \\\n",
       "9              6            356                  25      35494833   \n",
       "12             4            240                   1      23373156   \n",
       "50            11             79                  16      30973860   \n",
       "85             5             43                   2      17354319   \n",
       "128            3            119                   7      31084622   \n",
       "\n",
       "    original_publication_year                         rating_dist  \\\n",
       "9                              5:54|4:63|3:34|2:30|1:21|total:202   \n",
       "12                       2014         5:5|4:1|3:1|2:0|1:1|total:8   \n",
       "50                                 5:5|4:26|3:20|2:4|1:0|total:55   \n",
       "85                       2012        5:2|4:3|3:5|2:3|1:1|total:14   \n",
       "128                                5:29|4:31|3:7|2:1|1:0|total:68   \n",
       "\n",
       "     ratings_count media_type  ratings_sum   work_id  average_rating  \\\n",
       "9              202       book          705  49305010        3.490099   \n",
       "12               8       book           33  42749946        4.125000   \n",
       "50              55       book          197  51592180        3.581818   \n",
       "85              14                      44  22291818        3.142857   \n",
       "128             68       book          292  51688433        4.294118   \n",
       "\n",
       "    original_title author_name  \n",
       "9              NaN         NaN  \n",
       "12             NaN         NaN  \n",
       "50             NaN         NaN  \n",
       "85             NaN         NaN  \n",
       "128            NaN         NaN  "
      ]
     },
     "execution_count": 79,
     "metadata": {},
     "output_type": "execute_result"
    }
   ],
   "source": [
    "print(f\"The number of books with missing title is {booklist_works[booklist_works.original_title.isnull()].shape[0]}\")\n",
    "booklist_works[booklist_works.original_title.isnull()].head()"
   ]
  },
  {
   "cell_type": "code",
   "execution_count": 80,
   "metadata": {},
   "outputs": [
    {
     "name": "stdout",
     "output_type": "stream",
     "text": [
      "The number of books with missing author name is 82173\n"
     ]
    },
    {
     "data": {
      "text/html": [
       "<div>\n",
       "<style scoped>\n",
       "    .dataframe tbody tr th:only-of-type {\n",
       "        vertical-align: middle;\n",
       "    }\n",
       "\n",
       "    .dataframe tbody tr th {\n",
       "        vertical-align: top;\n",
       "    }\n",
       "\n",
       "    .dataframe thead th {\n",
       "        text-align: right;\n",
       "    }\n",
       "</style>\n",
       "<table border=\"1\" class=\"dataframe\">\n",
       "  <thead>\n",
       "    <tr style=\"text-align: right;\">\n",
       "      <th></th>\n",
       "      <th>books_count</th>\n",
       "      <th>reviews_count</th>\n",
       "      <th>text_reviews_count</th>\n",
       "      <th>best_book_id</th>\n",
       "      <th>original_publication_year</th>\n",
       "      <th>rating_dist</th>\n",
       "      <th>ratings_count</th>\n",
       "      <th>media_type</th>\n",
       "      <th>ratings_sum</th>\n",
       "      <th>work_id</th>\n",
       "      <th>average_rating</th>\n",
       "      <th>original_title</th>\n",
       "      <th>author_name</th>\n",
       "    </tr>\n",
       "  </thead>\n",
       "  <tbody>\n",
       "    <tr>\n",
       "      <th>9</th>\n",
       "      <td>6</td>\n",
       "      <td>356</td>\n",
       "      <td>25</td>\n",
       "      <td>35494833</td>\n",
       "      <td></td>\n",
       "      <td>5:54|4:63|3:34|2:30|1:21|total:202</td>\n",
       "      <td>202</td>\n",
       "      <td>book</td>\n",
       "      <td>705</td>\n",
       "      <td>49305010</td>\n",
       "      <td>3.490099</td>\n",
       "      <td>NaN</td>\n",
       "      <td>NaN</td>\n",
       "    </tr>\n",
       "    <tr>\n",
       "      <th>12</th>\n",
       "      <td>4</td>\n",
       "      <td>240</td>\n",
       "      <td>1</td>\n",
       "      <td>23373156</td>\n",
       "      <td>2014</td>\n",
       "      <td>5:5|4:1|3:1|2:0|1:1|total:8</td>\n",
       "      <td>8</td>\n",
       "      <td>book</td>\n",
       "      <td>33</td>\n",
       "      <td>42749946</td>\n",
       "      <td>4.125000</td>\n",
       "      <td>NaN</td>\n",
       "      <td>NaN</td>\n",
       "    </tr>\n",
       "    <tr>\n",
       "      <th>50</th>\n",
       "      <td>11</td>\n",
       "      <td>79</td>\n",
       "      <td>16</td>\n",
       "      <td>30973860</td>\n",
       "      <td></td>\n",
       "      <td>5:5|4:26|3:20|2:4|1:0|total:55</td>\n",
       "      <td>55</td>\n",
       "      <td>book</td>\n",
       "      <td>197</td>\n",
       "      <td>51592180</td>\n",
       "      <td>3.581818</td>\n",
       "      <td>NaN</td>\n",
       "      <td>NaN</td>\n",
       "    </tr>\n",
       "    <tr>\n",
       "      <th>85</th>\n",
       "      <td>5</td>\n",
       "      <td>43</td>\n",
       "      <td>2</td>\n",
       "      <td>17354319</td>\n",
       "      <td>2012</td>\n",
       "      <td>5:2|4:3|3:5|2:3|1:1|total:14</td>\n",
       "      <td>14</td>\n",
       "      <td></td>\n",
       "      <td>44</td>\n",
       "      <td>22291818</td>\n",
       "      <td>3.142857</td>\n",
       "      <td>NaN</td>\n",
       "      <td>NaN</td>\n",
       "    </tr>\n",
       "    <tr>\n",
       "      <th>128</th>\n",
       "      <td>3</td>\n",
       "      <td>119</td>\n",
       "      <td>7</td>\n",
       "      <td>31084622</td>\n",
       "      <td></td>\n",
       "      <td>5:29|4:31|3:7|2:1|1:0|total:68</td>\n",
       "      <td>68</td>\n",
       "      <td>book</td>\n",
       "      <td>292</td>\n",
       "      <td>51688433</td>\n",
       "      <td>4.294118</td>\n",
       "      <td>NaN</td>\n",
       "      <td>NaN</td>\n",
       "    </tr>\n",
       "  </tbody>\n",
       "</table>\n",
       "</div>"
      ],
      "text/plain": [
       "     books_count  reviews_count  text_reviews_count  best_book_id  \\\n",
       "9              6            356                  25      35494833   \n",
       "12             4            240                   1      23373156   \n",
       "50            11             79                  16      30973860   \n",
       "85             5             43                   2      17354319   \n",
       "128            3            119                   7      31084622   \n",
       "\n",
       "    original_publication_year                         rating_dist  \\\n",
       "9                              5:54|4:63|3:34|2:30|1:21|total:202   \n",
       "12                       2014         5:5|4:1|3:1|2:0|1:1|total:8   \n",
       "50                                 5:5|4:26|3:20|2:4|1:0|total:55   \n",
       "85                       2012        5:2|4:3|3:5|2:3|1:1|total:14   \n",
       "128                                5:29|4:31|3:7|2:1|1:0|total:68   \n",
       "\n",
       "     ratings_count media_type  ratings_sum   work_id  average_rating  \\\n",
       "9              202       book          705  49305010        3.490099   \n",
       "12               8       book           33  42749946        4.125000   \n",
       "50              55       book          197  51592180        3.581818   \n",
       "85              14                      44  22291818        3.142857   \n",
       "128             68       book          292  51688433        4.294118   \n",
       "\n",
       "    original_title author_name  \n",
       "9              NaN         NaN  \n",
       "12             NaN         NaN  \n",
       "50             NaN         NaN  \n",
       "85             NaN         NaN  \n",
       "128            NaN         NaN  "
      ]
     },
     "execution_count": 80,
     "metadata": {},
     "output_type": "execute_result"
    }
   ],
   "source": [
    "print(f\"The number of books with missing author name is {booklist_works[booklist_works.author_name.isnull()].shape[0]}\")\n",
    "booklist_works[booklist_works.author_name.isnull()].head()"
   ]
  },
  {
   "cell_type": "markdown",
   "metadata": {},
   "source": [
    "**Analysis: There are missing values of authors with available title and missing values for both title and authors.**"
   ]
  },
  {
   "cell_type": "markdown",
   "metadata": {},
   "source": [
    "**Missing values for both title and author**\n",
    "\n",
    "Will be filled using work_id as a reference. \n",
    "The information will be obtained from the book edition having the highest ratings count from booklist_compiled."
   ]
  },
  {
   "cell_type": "markdown",
   "metadata": {},
   "source": [
    "**2. Match using information from work_id of books having the max_ratings_count from booklist_compiled**"
   ]
  },
  {
   "cell_type": "code",
   "execution_count": 81,
   "metadata": {},
   "outputs": [],
   "source": [
    "# Separate the books from booklist_works with missing title and no missing title\n",
    "booklist_works = booklist_works.rename({\"original_title\" : \"title\"}, axis = 1)\n",
    "works_missing_title = booklist_works[(booklist_works.title.isnull())]\n",
    "works_no_missing_title = booklist_works[booklist_works.title.notnull()]"
   ]
  },
  {
   "cell_type": "markdown",
   "metadata": {},
   "source": [
    "**Books from booklist_works with both missing title and author names**"
   ]
  },
  {
   "cell_type": "code",
   "execution_count": 82,
   "metadata": {},
   "outputs": [
    {
     "data": {
      "text/html": [
       "<div>\n",
       "<style scoped>\n",
       "    .dataframe tbody tr th:only-of-type {\n",
       "        vertical-align: middle;\n",
       "    }\n",
       "\n",
       "    .dataframe tbody tr th {\n",
       "        vertical-align: top;\n",
       "    }\n",
       "\n",
       "    .dataframe thead th {\n",
       "        text-align: right;\n",
       "    }\n",
       "</style>\n",
       "<table border=\"1\" class=\"dataframe\">\n",
       "  <thead>\n",
       "    <tr style=\"text-align: right;\">\n",
       "      <th></th>\n",
       "      <th>work_id</th>\n",
       "      <th>ratings_count</th>\n",
       "      <th>book_id</th>\n",
       "      <th>title</th>\n",
       "      <th>author_name</th>\n",
       "    </tr>\n",
       "  </thead>\n",
       "  <tbody>\n",
       "    <tr>\n",
       "      <th>0</th>\n",
       "      <td>40</td>\n",
       "      <td>615</td>\n",
       "      <td>3730</td>\n",
       "      <td>The Hidden Persuaders</td>\n",
       "      <td>Vance Packard</td>\n",
       "    </tr>\n",
       "    <tr>\n",
       "      <th>1</th>\n",
       "      <td>62</td>\n",
       "      <td>888</td>\n",
       "      <td>3402</td>\n",
       "      <td>Kiffe Kiffe Tomorrow</td>\n",
       "      <td>Faiza Guene</td>\n",
       "    </tr>\n",
       "    <tr>\n",
       "      <th>2</th>\n",
       "      <td>81</td>\n",
       "      <td>215</td>\n",
       "      <td>7918</td>\n",
       "      <td>Five Little Peppers Abroad</td>\n",
       "      <td>Margaret Sidney</td>\n",
       "    </tr>\n",
       "    <tr>\n",
       "      <th>3</th>\n",
       "      <td>84</td>\n",
       "      <td>1315</td>\n",
       "      <td>7932</td>\n",
       "      <td>Baby Island</td>\n",
       "      <td>Carol Ryrie Brink</td>\n",
       "    </tr>\n",
       "    <tr>\n",
       "      <th>4</th>\n",
       "      <td>87</td>\n",
       "      <td>31717</td>\n",
       "      <td>8155</td>\n",
       "      <td>A Woman of Substance (Emma Harte Saga #1)</td>\n",
       "      <td>Barbara Taylor Bradford</td>\n",
       "    </tr>\n",
       "  </tbody>\n",
       "</table>\n",
       "</div>"
      ],
      "text/plain": [
       "   work_id  ratings_count  book_id                                      title  \\\n",
       "0       40            615     3730                      The Hidden Persuaders   \n",
       "1       62            888     3402                       Kiffe Kiffe Tomorrow   \n",
       "2       81            215     7918                 Five Little Peppers Abroad   \n",
       "3       84           1315     7932                                Baby Island   \n",
       "4       87          31717     8155  A Woman of Substance (Emma Harte Saga #1)   \n",
       "\n",
       "               author_name  \n",
       "0            Vance Packard  \n",
       "1              Faiza Guene  \n",
       "2          Margaret Sidney  \n",
       "3        Carol Ryrie Brink  \n",
       "4  Barbara Taylor Bradford  "
      ]
     },
     "execution_count": 82,
     "metadata": {},
     "output_type": "execute_result"
    }
   ],
   "source": [
    "# Extracting the book edition details having the highest ratings count for each work_id from booklist_compiled \n",
    "booklist_compiled_max_work_rating = booklist_compiled.groupby(['work_id'])['ratings_count'].max().reset_index()\n",
    "booklist_compiled_book_work_rating = booklist_compiled[['book_id', 'work_id', 'ratings_count', 'title', 'author_name']]\n",
    "booklist_compiled_work_info = pd.merge(booklist_compiled_max_work_rating,booklist_compiled_book_work_rating, on = [\"work_id\", 'ratings_count'], how = 'left')\n",
    "booklist_compiled_work_info.head()"
   ]
  },
  {
   "cell_type": "code",
   "execution_count": 83,
   "metadata": {},
   "outputs": [
    {
     "data": {
      "text/html": [
       "<div>\n",
       "<style scoped>\n",
       "    .dataframe tbody tr th:only-of-type {\n",
       "        vertical-align: middle;\n",
       "    }\n",
       "\n",
       "    .dataframe tbody tr th {\n",
       "        vertical-align: top;\n",
       "    }\n",
       "\n",
       "    .dataframe thead th {\n",
       "        text-align: right;\n",
       "    }\n",
       "</style>\n",
       "<table border=\"1\" class=\"dataframe\">\n",
       "  <thead>\n",
       "    <tr style=\"text-align: right;\">\n",
       "      <th></th>\n",
       "      <th>work_id</th>\n",
       "      <th>ratings_count</th>\n",
       "      <th>book_id</th>\n",
       "      <th>title</th>\n",
       "      <th>author_name</th>\n",
       "    </tr>\n",
       "  </thead>\n",
       "  <tbody>\n",
       "    <tr>\n",
       "      <th>2702</th>\n",
       "      <td>13080</td>\n",
       "      <td>26</td>\n",
       "      <td>13560337</td>\n",
       "      <td>Cilappatikaram: The Tale of an Anklet</td>\n",
       "      <td>Ilankovatikal</td>\n",
       "    </tr>\n",
       "    <tr>\n",
       "      <th>7330</th>\n",
       "      <td>31982</td>\n",
       "      <td>1</td>\n",
       "      <td>2808224</td>\n",
       "      <td>The Philosophy of Nietzsche</td>\n",
       "      <td>Friedrich Nietzsche</td>\n",
       "    </tr>\n",
       "    <tr>\n",
       "      <th>8534</th>\n",
       "      <td>36916</td>\n",
       "      <td>4</td>\n",
       "      <td>21202617</td>\n",
       "      <td>Minos</td>\n",
       "      <td>Edwin Page</td>\n",
       "    </tr>\n",
       "    <tr>\n",
       "      <th>12863</th>\n",
       "      <td>54823</td>\n",
       "      <td>9</td>\n",
       "      <td>27036588</td>\n",
       "      <td>Angel Claws: Coffee Table Book</td>\n",
       "      <td>Alejandro Jodorowsky</td>\n",
       "    </tr>\n",
       "    <tr>\n",
       "      <th>15986</th>\n",
       "      <td>69330</td>\n",
       "      <td>1</td>\n",
       "      <td>32137953</td>\n",
       "      <td>Le Genie Du Christianisme</td>\n",
       "      <td>Francois-Rene de Chateaubriand</td>\n",
       "    </tr>\n",
       "  </tbody>\n",
       "</table>\n",
       "</div>"
      ],
      "text/plain": [
       "       work_id  ratings_count   book_id  \\\n",
       "2702     13080             26  13560337   \n",
       "7330     31982              1   2808224   \n",
       "8534     36916              4  21202617   \n",
       "12863    54823              9  27036588   \n",
       "15986    69330              1  32137953   \n",
       "\n",
       "                                       title                     author_name  \n",
       "2702   Cilappatikaram: The Tale of an Anklet                   Ilankovatikal  \n",
       "7330             The Philosophy of Nietzsche             Friedrich Nietzsche  \n",
       "8534                                   Minos                      Edwin Page  \n",
       "12863         Angel Claws: Coffee Table Book            Alejandro Jodorowsky  \n",
       "15986              Le Genie Du Christianisme  Francois-Rene de Chateaubriand  "
      ]
     },
     "execution_count": 83,
     "metadata": {},
     "output_type": "execute_result"
    }
   ],
   "source": [
    "booklist_compiled_work_info[booklist_compiled_work_info.work_id.duplicated()].head()"
   ]
  },
  {
   "cell_type": "code",
   "execution_count": 84,
   "metadata": {
    "scrolled": true
   },
   "outputs": [
    {
     "data": {
      "text/html": [
       "<div>\n",
       "<style scoped>\n",
       "    .dataframe tbody tr th:only-of-type {\n",
       "        vertical-align: middle;\n",
       "    }\n",
       "\n",
       "    .dataframe tbody tr th {\n",
       "        vertical-align: top;\n",
       "    }\n",
       "\n",
       "    .dataframe thead th {\n",
       "        text-align: right;\n",
       "    }\n",
       "</style>\n",
       "<table border=\"1\" class=\"dataframe\">\n",
       "  <thead>\n",
       "    <tr style=\"text-align: right;\">\n",
       "      <th></th>\n",
       "      <th>work_id</th>\n",
       "      <th>ratings_count</th>\n",
       "      <th>book_id</th>\n",
       "      <th>title</th>\n",
       "      <th>author_name</th>\n",
       "    </tr>\n",
       "  </thead>\n",
       "  <tbody>\n",
       "    <tr>\n",
       "      <th>2701</th>\n",
       "      <td>13080</td>\n",
       "      <td>26</td>\n",
       "      <td>10364</td>\n",
       "      <td>The Cilappatikaram of Iḷaṅkō Aṭikaḷ: An Epic of South India</td>\n",
       "      <td>Ilankovatikal</td>\n",
       "    </tr>\n",
       "    <tr>\n",
       "      <th>2702</th>\n",
       "      <td>13080</td>\n",
       "      <td>26</td>\n",
       "      <td>13560337</td>\n",
       "      <td>Cilappatikaram: The Tale of an Anklet</td>\n",
       "      <td>Ilankovatikal</td>\n",
       "    </tr>\n",
       "  </tbody>\n",
       "</table>\n",
       "</div>"
      ],
      "text/plain": [
       "      work_id  ratings_count   book_id  \\\n",
       "2701    13080             26     10364   \n",
       "2702    13080             26  13560337   \n",
       "\n",
       "                                                            title  \\\n",
       "2701  The Cilappatikaram of Iḷaṅkō Aṭikaḷ: An Epic of South India   \n",
       "2702                        Cilappatikaram: The Tale of an Anklet   \n",
       "\n",
       "        author_name  \n",
       "2701  Ilankovatikal  \n",
       "2702  Ilankovatikal  "
      ]
     },
     "execution_count": 84,
     "metadata": {},
     "output_type": "execute_result"
    }
   ],
   "source": [
    "booklist_compiled_work_info[booklist_compiled_work_info.work_id == 13080]"
   ]
  },
  {
   "cell_type": "code",
   "execution_count": 85,
   "metadata": {},
   "outputs": [],
   "source": [
    "# Drop duplication for book editions of the same work_id having the same raings_count\n",
    "booklist_compiled_work_info = booklist_compiled_work_info.drop_duplicates(subset = \"work_id\")"
   ]
  },
  {
   "cell_type": "code",
   "execution_count": 86,
   "metadata": {},
   "outputs": [
    {
     "name": "stdout",
     "output_type": "stream",
     "text": [
      "The works_missing_title rows and columns are (41401, 13)\n"
     ]
    },
    {
     "data": {
      "text/html": [
       "<div>\n",
       "<style scoped>\n",
       "    .dataframe tbody tr th:only-of-type {\n",
       "        vertical-align: middle;\n",
       "    }\n",
       "\n",
       "    .dataframe tbody tr th {\n",
       "        vertical-align: top;\n",
       "    }\n",
       "\n",
       "    .dataframe thead th {\n",
       "        text-align: right;\n",
       "    }\n",
       "</style>\n",
       "<table border=\"1\" class=\"dataframe\">\n",
       "  <thead>\n",
       "    <tr style=\"text-align: right;\">\n",
       "      <th></th>\n",
       "      <th>books_count</th>\n",
       "      <th>reviews_count</th>\n",
       "      <th>text_reviews_count</th>\n",
       "      <th>best_book_id</th>\n",
       "      <th>original_publication_year</th>\n",
       "      <th>rating_dist</th>\n",
       "      <th>ratings_count</th>\n",
       "      <th>media_type</th>\n",
       "      <th>ratings_sum</th>\n",
       "      <th>work_id</th>\n",
       "      <th>average_rating</th>\n",
       "      <th>title</th>\n",
       "      <th>author_name</th>\n",
       "    </tr>\n",
       "  </thead>\n",
       "  <tbody>\n",
       "    <tr>\n",
       "      <th>0</th>\n",
       "      <td>6</td>\n",
       "      <td>356</td>\n",
       "      <td>25</td>\n",
       "      <td>35494833</td>\n",
       "      <td></td>\n",
       "      <td>5:54|4:63|3:34|2:30|1:21|total:202</td>\n",
       "      <td>202</td>\n",
       "      <td>book</td>\n",
       "      <td>705</td>\n",
       "      <td>49305010</td>\n",
       "      <td>3.490099</td>\n",
       "      <td>The Slaughtered Virgin of Zenopolis (Inspector Capstan #1)</td>\n",
       "      <td>David Blake</td>\n",
       "    </tr>\n",
       "    <tr>\n",
       "      <th>1</th>\n",
       "      <td>4</td>\n",
       "      <td>240</td>\n",
       "      <td>1</td>\n",
       "      <td>23373156</td>\n",
       "      <td>2014</td>\n",
       "      <td>5:5|4:1|3:1|2:0|1:1|total:8</td>\n",
       "      <td>8</td>\n",
       "      <td>book</td>\n",
       "      <td>33</td>\n",
       "      <td>42749946</td>\n",
       "      <td>4.125000</td>\n",
       "      <td>The Switchblade Mamma</td>\n",
       "      <td>Lindsey Schussman</td>\n",
       "    </tr>\n",
       "    <tr>\n",
       "      <th>2</th>\n",
       "      <td>11</td>\n",
       "      <td>79</td>\n",
       "      <td>16</td>\n",
       "      <td>30973860</td>\n",
       "      <td></td>\n",
       "      <td>5:5|4:26|3:20|2:4|1:0|total:55</td>\n",
       "      <td>55</td>\n",
       "      <td>book</td>\n",
       "      <td>197</td>\n",
       "      <td>51592180</td>\n",
       "      <td>3.581818</td>\n",
       "      <td>Svart stjärna</td>\n",
       "      <td>Jesper Ersgard</td>\n",
       "    </tr>\n",
       "    <tr>\n",
       "      <th>3</th>\n",
       "      <td>5</td>\n",
       "      <td>43</td>\n",
       "      <td>2</td>\n",
       "      <td>17354319</td>\n",
       "      <td>2012</td>\n",
       "      <td>5:2|4:3|3:5|2:3|1:1|total:14</td>\n",
       "      <td>14</td>\n",
       "      <td></td>\n",
       "      <td>44</td>\n",
       "      <td>22291818</td>\n",
       "      <td>3.142857</td>\n",
       "      <td>Itsy Bitsy Spider</td>\n",
       "      <td>Charles Reasoner</td>\n",
       "    </tr>\n",
       "    <tr>\n",
       "      <th>4</th>\n",
       "      <td>3</td>\n",
       "      <td>119</td>\n",
       "      <td>7</td>\n",
       "      <td>31084622</td>\n",
       "      <td></td>\n",
       "      <td>5:29|4:31|3:7|2:1|1:0|total:68</td>\n",
       "      <td>68</td>\n",
       "      <td>book</td>\n",
       "      <td>292</td>\n",
       "      <td>51688433</td>\n",
       "      <td>4.294118</td>\n",
       "      <td>Sleuthing at Sweet Springs (Sleuth Sisters #4)</td>\n",
       "      <td>Maggie Pill</td>\n",
       "    </tr>\n",
       "  </tbody>\n",
       "</table>\n",
       "</div>"
      ],
      "text/plain": [
       "   books_count  reviews_count  text_reviews_count  best_book_id  \\\n",
       "0            6            356                  25      35494833   \n",
       "1            4            240                   1      23373156   \n",
       "2           11             79                  16      30973860   \n",
       "3            5             43                   2      17354319   \n",
       "4            3            119                   7      31084622   \n",
       "\n",
       "  original_publication_year                         rating_dist  \\\n",
       "0                            5:54|4:63|3:34|2:30|1:21|total:202   \n",
       "1                      2014         5:5|4:1|3:1|2:0|1:1|total:8   \n",
       "2                                5:5|4:26|3:20|2:4|1:0|total:55   \n",
       "3                      2012        5:2|4:3|3:5|2:3|1:1|total:14   \n",
       "4                                5:29|4:31|3:7|2:1|1:0|total:68   \n",
       "\n",
       "   ratings_count media_type  ratings_sum   work_id  average_rating  \\\n",
       "0            202       book          705  49305010        3.490099   \n",
       "1              8       book           33  42749946        4.125000   \n",
       "2             55       book          197  51592180        3.581818   \n",
       "3             14                      44  22291818        3.142857   \n",
       "4             68       book          292  51688433        4.294118   \n",
       "\n",
       "                                                        title  \\\n",
       "0  The Slaughtered Virgin of Zenopolis (Inspector Capstan #1)   \n",
       "1                                       The Switchblade Mamma   \n",
       "2                                               Svart stjärna   \n",
       "3                                           Itsy Bitsy Spider   \n",
       "4              Sleuthing at Sweet Springs (Sleuth Sisters #4)   \n",
       "\n",
       "         author_name  \n",
       "0        David Blake  \n",
       "1  Lindsey Schussman  \n",
       "2     Jesper Ersgard  \n",
       "3   Charles Reasoner  \n",
       "4        Maggie Pill  "
      ]
     },
     "execution_count": 86,
     "metadata": {},
     "output_type": "execute_result"
    }
   ],
   "source": [
    "# Fill the books having both missing title and author name in booklist_works\n",
    "booklist_compiled_work_info = booklist_compiled_work_info.drop([\"book_id\", \"ratings_count\"], axis = 1)\n",
    "works_missing_title = works_missing_title.drop([\"title\", \"author_name\"], axis = 1)\n",
    "works_missing_title = pd.merge(works_missing_title,booklist_compiled_work_info, on = \"work_id\", how = 'left')\n",
    "print(f\"The works_missing_title rows and columns are {works_missing_title.shape}\")\n",
    "works_missing_title.head()"
   ]
  },
  {
   "cell_type": "markdown",
   "metadata": {},
   "source": [
    "**Books from booklist_works having title with some having author names while some have missing author names**"
   ]
  },
  {
   "cell_type": "code",
   "execution_count": 87,
   "metadata": {},
   "outputs": [
    {
     "data": {
      "text/html": [
       "<div>\n",
       "<style scoped>\n",
       "    .dataframe tbody tr th:only-of-type {\n",
       "        vertical-align: middle;\n",
       "    }\n",
       "\n",
       "    .dataframe tbody tr th {\n",
       "        vertical-align: top;\n",
       "    }\n",
       "\n",
       "    .dataframe thead th {\n",
       "        text-align: right;\n",
       "    }\n",
       "</style>\n",
       "<table border=\"1\" class=\"dataframe\">\n",
       "  <thead>\n",
       "    <tr style=\"text-align: right;\">\n",
       "      <th></th>\n",
       "      <th>books_count</th>\n",
       "      <th>reviews_count</th>\n",
       "      <th>text_reviews_count</th>\n",
       "      <th>best_book_id</th>\n",
       "      <th>original_publication_year</th>\n",
       "      <th>rating_dist</th>\n",
       "      <th>ratings_count</th>\n",
       "      <th>media_type</th>\n",
       "      <th>ratings_sum</th>\n",
       "      <th>work_id</th>\n",
       "      <th>average_rating</th>\n",
       "      <th>title</th>\n",
       "      <th>author_name</th>\n",
       "    </tr>\n",
       "  </thead>\n",
       "  <tbody>\n",
       "    <tr>\n",
       "      <th>0</th>\n",
       "      <td>20</td>\n",
       "      <td>164</td>\n",
       "      <td>7</td>\n",
       "      <td>7216124</td>\n",
       "      <td>1975</td>\n",
       "      <td>5:17|4:29|3:27|2:8|1:1|total:82</td>\n",
       "      <td>82</td>\n",
       "      <td>book</td>\n",
       "      <td>299</td>\n",
       "      <td>1040345</td>\n",
       "      <td>3.646341</td>\n",
       "      <td>Des yeux de soie</td>\n",
       "      <td>Francoise Sagan</td>\n",
       "    </tr>\n",
       "    <tr>\n",
       "      <th>1</th>\n",
       "      <td>3</td>\n",
       "      <td>126</td>\n",
       "      <td>5</td>\n",
       "      <td>1419534</td>\n",
       "      <td>1981</td>\n",
       "      <td>5:8|4:16|3:16|2:6|1:0|total:46</td>\n",
       "      <td>46</td>\n",
       "      <td></td>\n",
       "      <td>164</td>\n",
       "      <td>1409928</td>\n",
       "      <td>3.565217</td>\n",
       "      <td>Eighteenth Century Europe: Tradition and Progress, 1715-1789 (Norton History of Modern Europe)</td>\n",
       "      <td>Isser Woloch</td>\n",
       "    </tr>\n",
       "    <tr>\n",
       "      <th>2</th>\n",
       "      <td>2</td>\n",
       "      <td>17</td>\n",
       "      <td>3</td>\n",
       "      <td>1802481</td>\n",
       "      <td>2006</td>\n",
       "      <td>5:2|4:2|3:2|2:1|1:0|total:7</td>\n",
       "      <td>7</td>\n",
       "      <td></td>\n",
       "      <td>26</td>\n",
       "      <td>1801666</td>\n",
       "      <td>3.714286</td>\n",
       "      <td>Cahier de gribouillages pour adultes qui s'ennuient au bureau</td>\n",
       "      <td>Claire Fay</td>\n",
       "    </tr>\n",
       "    <tr>\n",
       "      <th>3</th>\n",
       "      <td>3</td>\n",
       "      <td>24</td>\n",
       "      <td>2</td>\n",
       "      <td>1890255</td>\n",
       "      <td>1990</td>\n",
       "      <td>5:3|4:4|3:3|2:0|1:0|total:10</td>\n",
       "      <td>10</td>\n",
       "      <td></td>\n",
       "      <td>40</td>\n",
       "      <td>1891601</td>\n",
       "      <td>4.000000</td>\n",
       "      <td>An Historical Introduction to American Education</td>\n",
       "      <td>Gerald L. Gutek</td>\n",
       "    </tr>\n",
       "    <tr>\n",
       "      <th>4</th>\n",
       "      <td>7</td>\n",
       "      <td>49</td>\n",
       "      <td>5</td>\n",
       "      <td>13412895</td>\n",
       "      <td>1888</td>\n",
       "      <td>5:8|4:16|3:7|2:2|1:0|total:33</td>\n",
       "      <td>33</td>\n",
       "      <td>book</td>\n",
       "      <td>129</td>\n",
       "      <td>18687450</td>\n",
       "      <td>3.909091</td>\n",
       "      <td>Ogni</td>\n",
       "      <td>Anton Chekhov</td>\n",
       "    </tr>\n",
       "  </tbody>\n",
       "</table>\n",
       "</div>"
      ],
      "text/plain": [
       "   books_count  reviews_count  text_reviews_count  best_book_id  \\\n",
       "0           20            164                   7       7216124   \n",
       "1            3            126                   5       1419534   \n",
       "2            2             17                   3       1802481   \n",
       "3            3             24                   2       1890255   \n",
       "4            7             49                   5      13412895   \n",
       "\n",
       "  original_publication_year                      rating_dist  ratings_count  \\\n",
       "0                      1975  5:17|4:29|3:27|2:8|1:1|total:82             82   \n",
       "1                      1981   5:8|4:16|3:16|2:6|1:0|total:46             46   \n",
       "2                      2006      5:2|4:2|3:2|2:1|1:0|total:7              7   \n",
       "3                      1990     5:3|4:4|3:3|2:0|1:0|total:10             10   \n",
       "4                      1888    5:8|4:16|3:7|2:2|1:0|total:33             33   \n",
       "\n",
       "  media_type  ratings_sum   work_id  average_rating  \\\n",
       "0       book          299   1040345        3.646341   \n",
       "1                     164   1409928        3.565217   \n",
       "2                      26   1801666        3.714286   \n",
       "3                      40   1891601        4.000000   \n",
       "4       book          129  18687450        3.909091   \n",
       "\n",
       "                                                                                            title  \\\n",
       "0                                                                                Des yeux de soie   \n",
       "1  Eighteenth Century Europe: Tradition and Progress, 1715-1789 (Norton History of Modern Europe)   \n",
       "2                                   Cahier de gribouillages pour adultes qui s'ennuient au bureau   \n",
       "3                                                An Historical Introduction to American Education   \n",
       "4                                                                                            Ogni   \n",
       "\n",
       "       author_name  \n",
       "0  Francoise Sagan  \n",
       "1     Isser Woloch  \n",
       "2       Claire Fay  \n",
       "3  Gerald L. Gutek  \n",
       "4    Anton Chekhov  "
      ]
     },
     "execution_count": 87,
     "metadata": {},
     "output_type": "execute_result"
    }
   ],
   "source": [
    "# Separate books having titles with and without missing author names\n",
    "works_no_missing_title_author = works_no_missing_title[works_no_missing_title.author_name.notnull()]\n",
    "works_no_missing_title_missing_author = works_no_missing_title[works_no_missing_title.author_name.isnull()]\n",
    "\n",
    "# Fill in the information of author names using the work_id form booklist_compiled\n",
    "works_no_missing_title_missing_author = works_no_missing_title_missing_author.drop([\"author_name\"], axis = 1)\n",
    "booklist_compiled_work_info = booklist_compiled_work_info.drop([\"title\"], axis = 1)\n",
    "works_no_missing_title_missing_author = pd.merge(works_no_missing_title_missing_author,booklist_compiled_work_info, on = 'work_id', how = 'left')\n",
    "works_no_missing_title_missing_author.head()"
   ]
  },
  {
   "cell_type": "code",
   "execution_count": 88,
   "metadata": {},
   "outputs": [
    {
     "name": "stdout",
     "output_type": "stream",
     "text": [
      "The booklist_works rows and columns are (1521962, 13)\n"
     ]
    },
    {
     "data": {
      "text/html": [
       "<div>\n",
       "<style scoped>\n",
       "    .dataframe tbody tr th:only-of-type {\n",
       "        vertical-align: middle;\n",
       "    }\n",
       "\n",
       "    .dataframe tbody tr th {\n",
       "        vertical-align: top;\n",
       "    }\n",
       "\n",
       "    .dataframe thead th {\n",
       "        text-align: right;\n",
       "    }\n",
       "</style>\n",
       "<table border=\"1\" class=\"dataframe\">\n",
       "  <thead>\n",
       "    <tr style=\"text-align: right;\">\n",
       "      <th></th>\n",
       "      <th>books_count</th>\n",
       "      <th>reviews_count</th>\n",
       "      <th>text_reviews_count</th>\n",
       "      <th>best_book_id</th>\n",
       "      <th>original_publication_year</th>\n",
       "      <th>rating_dist</th>\n",
       "      <th>ratings_count</th>\n",
       "      <th>media_type</th>\n",
       "      <th>ratings_sum</th>\n",
       "      <th>work_id</th>\n",
       "      <th>average_rating</th>\n",
       "      <th>title</th>\n",
       "      <th>first_author_name</th>\n",
       "      <th>first_author_title</th>\n",
       "    </tr>\n",
       "  </thead>\n",
       "  <tbody>\n",
       "    <tr>\n",
       "      <th>0</th>\n",
       "      <td>2</td>\n",
       "      <td>268</td>\n",
       "      <td>7</td>\n",
       "      <td>7327624</td>\n",
       "      <td>1987</td>\n",
       "      <td>5:49|4:58|3:26|2:5|1:3|total:141</td>\n",
       "      <td>141</td>\n",
       "      <td>book</td>\n",
       "      <td>568</td>\n",
       "      <td>8948723</td>\n",
       "      <td>4.028369</td>\n",
       "      <td>The Unschooled Wizard (Sun Wolf and Starhawk, #1-2)</td>\n",
       "      <td>Barbara Hambly</td>\n",
       "      <td>Barbara Hambly - The Unschooled Wizard (Sun Wolf and Starhawk, #1-2)</td>\n",
       "    </tr>\n",
       "    <tr>\n",
       "      <th>1</th>\n",
       "      <td>2</td>\n",
       "      <td>14</td>\n",
       "      <td>4</td>\n",
       "      <td>34883016</td>\n",
       "      <td></td>\n",
       "      <td>5:2|4:2|3:3|2:0|1:0|total:7</td>\n",
       "      <td>7</td>\n",
       "      <td>book</td>\n",
       "      <td>27</td>\n",
       "      <td>56135087</td>\n",
       "      <td>3.857143</td>\n",
       "      <td>Playmaker: A Venom Series Novella</td>\n",
       "      <td>V.L. Locey</td>\n",
       "      <td>V.L. Locey - Playmaker: A Venom Series Novella</td>\n",
       "    </tr>\n",
       "    <tr>\n",
       "      <th>2</th>\n",
       "      <td>5</td>\n",
       "      <td>893</td>\n",
       "      <td>65</td>\n",
       "      <td>33394837</td>\n",
       "      <td></td>\n",
       "      <td>5:141|4:96|3:30|2:7|1:2|total:276</td>\n",
       "      <td>276</td>\n",
       "      <td>book</td>\n",
       "      <td>1195</td>\n",
       "      <td>54143148</td>\n",
       "      <td>4.329710</td>\n",
       "      <td>The House of Memory (Pluto's Snitch #2)</td>\n",
       "      <td>Carolyn Haines</td>\n",
       "      <td>Carolyn Haines - The House of Memory (Pluto's Snitch #2)</td>\n",
       "    </tr>\n",
       "    <tr>\n",
       "      <th>3</th>\n",
       "      <td>22</td>\n",
       "      <td>25527</td>\n",
       "      <td>553</td>\n",
       "      <td>89369</td>\n",
       "      <td>1992</td>\n",
       "      <td>5:4686|4:4938|3:3944|2:1274|1:356|total:15198</td>\n",
       "      <td>15198</td>\n",
       "      <td>book</td>\n",
       "      <td>57918</td>\n",
       "      <td>41333541</td>\n",
       "      <td>3.810896</td>\n",
       "      <td>The Te of Piglet</td>\n",
       "      <td>Benjamin Hoff</td>\n",
       "      <td>Benjamin Hoff - The Te of Piglet</td>\n",
       "    </tr>\n",
       "    <tr>\n",
       "      <th>4</th>\n",
       "      <td>2</td>\n",
       "      <td>162</td>\n",
       "      <td>24</td>\n",
       "      <td>21401188</td>\n",
       "      <td>2014</td>\n",
       "      <td>5:27|4:32|3:18|2:3|1:0|total:80</td>\n",
       "      <td>80</td>\n",
       "      <td>book</td>\n",
       "      <td>323</td>\n",
       "      <td>40699074</td>\n",
       "      <td>4.037500</td>\n",
       "      <td>Glimmering Light</td>\n",
       "      <td>Margot Hovley</td>\n",
       "      <td>Margot Hovley - Glimmering Light</td>\n",
       "    </tr>\n",
       "  </tbody>\n",
       "</table>\n",
       "</div>"
      ],
      "text/plain": [
       "   books_count  reviews_count  text_reviews_count  best_book_id  \\\n",
       "0            2            268                   7       7327624   \n",
       "1            2             14                   4      34883016   \n",
       "2            5            893                  65      33394837   \n",
       "3           22          25527                 553         89369   \n",
       "4            2            162                  24      21401188   \n",
       "\n",
       "  original_publication_year                                    rating_dist  \\\n",
       "0                      1987               5:49|4:58|3:26|2:5|1:3|total:141   \n",
       "1                                              5:2|4:2|3:3|2:0|1:0|total:7   \n",
       "2                                        5:141|4:96|3:30|2:7|1:2|total:276   \n",
       "3                      1992  5:4686|4:4938|3:3944|2:1274|1:356|total:15198   \n",
       "4                      2014                5:27|4:32|3:18|2:3|1:0|total:80   \n",
       "\n",
       "   ratings_count media_type  ratings_sum   work_id  average_rating  \\\n",
       "0            141       book          568   8948723        4.028369   \n",
       "1              7       book           27  56135087        3.857143   \n",
       "2            276       book         1195  54143148        4.329710   \n",
       "3          15198       book        57918  41333541        3.810896   \n",
       "4             80       book          323  40699074        4.037500   \n",
       "\n",
       "                                                 title first_author_name  \\\n",
       "0  The Unschooled Wizard (Sun Wolf and Starhawk, #1-2)    Barbara Hambly   \n",
       "1                    Playmaker: A Venom Series Novella        V.L. Locey   \n",
       "2              The House of Memory (Pluto's Snitch #2)    Carolyn Haines   \n",
       "3                                     The Te of Piglet     Benjamin Hoff   \n",
       "4                                     Glimmering Light     Margot Hovley   \n",
       "\n",
       "                                                     first_author_title  \n",
       "0  Barbara Hambly - The Unschooled Wizard (Sun Wolf and Starhawk, #1-2)  \n",
       "1                        V.L. Locey - Playmaker: A Venom Series Novella  \n",
       "2              Carolyn Haines - The House of Memory (Pluto's Snitch #2)  \n",
       "3                                      Benjamin Hoff - The Te of Piglet  \n",
       "4                                      Margot Hovley - Glimmering Light  "
      ]
     },
     "execution_count": 88,
     "metadata": {},
     "output_type": "execute_result"
    }
   ],
   "source": [
    "# Combine all the books into booklist_works\n",
    "booklist_works = pd.concat([works_no_missing_title_author,works_no_missing_title_missing_author,works_missing_title ], axis = 0)\n",
    "booklist_works = booklist_works.reset_index(drop=True)\n",
    "print(f\"The booklist_works rows and columns are {booklist_works.shape}\")\n",
    "\n",
    "# Create a column combining first author name and book title\n",
    "booklist_works = booklist_works.rename({\"author_name\":\"first_author_name\"}, axis = 1)\n",
    "booklist_works[\"first_author_title\"] = booklist_works[\"first_author_name\"] + ' - ' + booklist_works[\"title\"]\n",
    "booklist_works.head()"
   ]
  },
  {
   "cell_type": "code",
   "execution_count": 89,
   "metadata": {
    "scrolled": false
   },
   "outputs": [
    {
     "data": {
      "text/plain": [
       "title                0\n",
       "first_author_name    0\n",
       "dtype: int64"
      ]
     },
     "execution_count": 89,
     "metadata": {},
     "output_type": "execute_result"
    }
   ],
   "source": [
    "booklist_works.isnull().sum()[['title', 'first_author_name']]"
   ]
  },
  {
   "cell_type": "markdown",
   "metadata": {},
   "source": [
    "### 3.6 Summary"
   ]
  },
  {
   "cell_type": "markdown",
   "metadata": {},
   "source": [
    "* Handled data values including changing to integers/floats, remove spaces and rename values for consistency\n",
    "* Selected columns for booklist_compiled and booklist_works\n",
    "* Generate new dataframes for easier references including author_list, multiple_authors_name_df, series_list_df, similar_books_list_df, bookid_removed\n",
    "* Remove books with majority of the information are missing.\n",
    "* Generate new columns of first_author_name, first_author_title in both booklist_works and booklist_compiled\n",
    "* Fill in missing values in title in booklist_works"
   ]
  },
  {
   "cell_type": "markdown",
   "metadata": {},
   "source": [
    "## Exporting Data"
   ]
  },
  {
   "cell_type": "code",
   "execution_count": 90,
   "metadata": {},
   "outputs": [],
   "source": [
    "#Placed the # to refrain from executing\n",
    "# Main booklist information\n",
    "booklist_compiled.to_parquet(\"./data/booklist_compiled_clean.parquet\", compression = 'gzip')\n",
    "booklist_works.to_parquet(\"./data/booklist_works_clean.parquet\", compression = 'gzip')\n",
    "booklist_authors.to_parquet(\"./data/booklist_authors_clean.parquet\", compression = 'gzip')\n",
    "\n",
    "#Authors\n",
    "authors_list.to_parquet(\"./data/authors_list.parquet\", compression = 'gzip')\n",
    "multiple_authors_name_df.to_parquet(\"./data/multiple_authors_name_df.parquet\", compression = 'gzip') \n",
    "\n",
    "#List of series and similar books\n",
    "series_list_df.to_parquet(\"./data/series_list_df.parquet\", compression = 'gzip') \n",
    "similar_books_list_df.to_parquet(\"./data/similar_books_list_df.parquet\", compression = 'gzip')\n",
    "\n",
    "# Dataframe of bookid removed\n",
    "bookid_removed.to_parquet(\"./data/bookid_removed.parquet\", compression = 'gzip')"
   ]
  }
 ],
 "metadata": {
  "kernelspec": {
   "display_name": "Python 3",
   "language": "python",
   "name": "python3"
  },
  "language_info": {
   "codemirror_mode": {
    "name": "ipython",
    "version": 3
   },
   "file_extension": ".py",
   "mimetype": "text/x-python",
   "name": "python",
   "nbconvert_exporter": "python",
   "pygments_lexer": "ipython3",
   "version": "3.8.5"
  }
 },
 "nbformat": 4,
 "nbformat_minor": 4
}
