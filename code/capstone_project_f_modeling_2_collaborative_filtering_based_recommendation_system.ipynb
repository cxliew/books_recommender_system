{
 "cells": [
  {
   "cell_type": "markdown",
   "metadata": {},
   "source": [
    "# Capstone Project: Books recommender system"
   ]
  },
  {
   "cell_type": "markdown",
   "metadata": {},
   "source": [
    "### Overall Contents:\n",
    "- Background\n",
    "- Data Collection\n",
    "- Data Cleaning Books Interactions\n",
    "- Data Cleaning Booklist\n",
    "- Exploratory Data Analysis\n",
    "* Non-personalized recommendation\n",
    "    - Modeling 1 Popularity-based and Content-based recommendation system\n",
    "* Personalized recommendation\n",
    "    - [Modeling 2 Collaborative-filtering based recommendation system](#7.-Modeling-2-Collaborative-filtering-based-recommendation-system)<br>**(In this notebook)**\n",
    "    - Modeling 3 Clustering-Collaborative-filtering-based recommendation system \n",
    "    - Modeling 4 Model-based recommendation systems\n",
    "- Evaluation\n",
    "- Conclusion and Recommendation"
   ]
  },
  {
   "cell_type": "markdown",
   "metadata": {},
   "source": [
    "### Datasets\n",
    "\n",
    "The dataset are obtained from [University of California San Diego Book Graph](https://sites.google.com/eng.ucsd.edu/ucsdbookgraph/home?authuser=0).\n",
    "\n",
    "The dataset below, which is user-book interactions and reference will be used for recommender system.\n",
    "\n",
    "User-book interactions:-\n",
    "* user_work_interactions\n",
    "* user_work_interactions_model\n",
    "* user_work_interactions_sample\n",
    "* genrebook_interactions\n",
    "\n",
    "Reference:-\n",
    "* booklist_worktitle\n",
    "* booklist_url\n",
    "\n",
    "For more details on the datasets, please refer to the data_dictionary_model.ipynb."
   ]
  },
  {
   "cell_type": "markdown",
   "metadata": {},
   "source": [
    "## 7. Modeling 2 Collaborative-filtering based recommendation system"
   ]
  },
  {
   "cell_type": "markdown",
   "metadata": {},
   "source": [
    "### 7.1 Libraries Import"
   ]
  },
  {
   "cell_type": "code",
   "execution_count": 1,
   "metadata": {},
   "outputs": [],
   "source": [
    "import numpy as np\n",
    "import pandas as pd\n",
    "from book_recommender import user_collaborative_filtering_cosine, item_collaborative_filtering_cosine, coverage, ratings_rmse\n",
    "from numpy import count_nonzero\n",
    "from sklearn import metrics\n",
    "from sklearn.metrics.pairwise import cosine_similarity\n",
    "from sklearn.model_selection import train_test_split\n",
    "from IPython.display import clear_output\n",
    "\n",
    "%config InlineBackend.figure_format = 'retina'\n",
    "%matplotlib inline \n",
    "\n",
    "# Maximum display of columns\n",
    "pd.options.display.max_colwidth = 2000\n",
    "pd.options.display.max_rows = 2000"
   ]
  },
  {
   "cell_type": "markdown",
   "metadata": {},
   "source": [
    "### 7.2 Data Import"
   ]
  },
  {
   "cell_type": "code",
   "execution_count": 2,
   "metadata": {},
   "outputs": [],
   "source": [
    "userbook_interactions = pd.read_parquet(\"../data/user_work_interactions_sample_int.parquet\")"
   ]
  },
  {
   "cell_type": "markdown",
   "metadata": {},
   "source": [
    "### 7.3 Check the dataset"
   ]
  },
  {
   "cell_type": "code",
   "execution_count": 3,
   "metadata": {},
   "outputs": [
    {
     "name": "stdout",
     "output_type": "stream",
     "text": [
      "The number of user-book interactions is 149756\n",
      "The number of unique users is 22859\n",
      "The number of unique books is 14376\n"
     ]
    }
   ],
   "source": [
    "print(f\"The number of user-book interactions is {userbook_interactions.shape[0]}\")\n",
    "print(f\"The number of unique users is {userbook_interactions.user_id.nunique()}\")\n",
    "print(f\"The number of unique books is {userbook_interactions.work_id.nunique()}\")"
   ]
  },
  {
   "cell_type": "code",
   "execution_count": 4,
   "metadata": {
    "scrolled": true
   },
   "outputs": [
    {
     "data": {
      "text/html": [
       "<div>\n",
       "<style scoped>\n",
       "    .dataframe tbody tr th:only-of-type {\n",
       "        vertical-align: middle;\n",
       "    }\n",
       "\n",
       "    .dataframe tbody tr th {\n",
       "        vertical-align: top;\n",
       "    }\n",
       "\n",
       "    .dataframe thead th {\n",
       "        text-align: right;\n",
       "    }\n",
       "</style>\n",
       "<table border=\"1\" class=\"dataframe\">\n",
       "  <thead>\n",
       "    <tr style=\"text-align: right;\">\n",
       "      <th></th>\n",
       "      <th>user_id</th>\n",
       "      <th>work_id</th>\n",
       "      <th>rating</th>\n",
       "    </tr>\n",
       "  </thead>\n",
       "  <tbody>\n",
       "    <tr>\n",
       "      <th>6</th>\n",
       "      <td>49476</td>\n",
       "      <td>13785503</td>\n",
       "      <td>3</td>\n",
       "    </tr>\n",
       "    <tr>\n",
       "      <th>7</th>\n",
       "      <td>347421</td>\n",
       "      <td>1679789</td>\n",
       "      <td>4</td>\n",
       "    </tr>\n",
       "    <tr>\n",
       "      <th>8</th>\n",
       "      <td>232281</td>\n",
       "      <td>1207024</td>\n",
       "      <td>5</td>\n",
       "    </tr>\n",
       "    <tr>\n",
       "      <th>14</th>\n",
       "      <td>195915</td>\n",
       "      <td>1424362</td>\n",
       "      <td>4</td>\n",
       "    </tr>\n",
       "    <tr>\n",
       "      <th>26</th>\n",
       "      <td>25982</td>\n",
       "      <td>3481898</td>\n",
       "      <td>4</td>\n",
       "    </tr>\n",
       "  </tbody>\n",
       "</table>\n",
       "</div>"
      ],
      "text/plain": [
       "    user_id   work_id  rating\n",
       "6     49476  13785503       3\n",
       "7    347421   1679789       4\n",
       "8    232281   1207024       5\n",
       "14   195915   1424362       4\n",
       "26    25982   3481898       4"
      ]
     },
     "execution_count": 4,
     "metadata": {},
     "output_type": "execute_result"
    }
   ],
   "source": [
    "userbook_interactions.head()"
   ]
  },
  {
   "cell_type": "markdown",
   "metadata": {},
   "source": [
    "### 7.4 Split the data into train/test data"
   ]
  },
  {
   "cell_type": "code",
   "execution_count": 5,
   "metadata": {
    "scrolled": true
   },
   "outputs": [],
   "source": [
    "train, test = train_test_split(userbook_interactions, test_size = 0.25, random_state = 39, stratify = userbook_interactions[\"user_id\"])"
   ]
  },
  {
   "cell_type": "code",
   "execution_count": 6,
   "metadata": {
    "scrolled": true
   },
   "outputs": [
    {
     "name": "stdout",
     "output_type": "stream",
     "text": [
      "train:  (112317, 3)\n",
      "test:  (37439, 3)\n",
      "train number of unique user_id:  22859\n",
      "test number of unique user_id:  22859\n"
     ]
    }
   ],
   "source": [
    "#Verify Dimensions\n",
    "print('train: ', train.shape)\n",
    "print('test: ', test.shape)\n",
    "print('train number of unique user_id: ', train.user_id.nunique())\n",
    "print('test number of unique user_id: ', test.user_id.nunique())"
   ]
  },
  {
   "cell_type": "code",
   "execution_count": 7,
   "metadata": {
    "scrolled": true
   },
   "outputs": [
    {
     "name": "stdout",
     "output_type": "stream",
     "text": [
      "The presence of train user_id in test: True    112317\n",
      "Name: user_id, dtype: int64\n",
      "The presence of train work_id in test: True     100624\n",
      "False     11693\n",
      "Name: work_id, dtype: int64\n"
     ]
    }
   ],
   "source": [
    "print(f\"The presence of train user_id in test: {train.user_id.isin(test.user_id).value_counts()}\")\n",
    "print(f\"The presence of train work_id in test: {train.work_id.isin(test.work_id).value_counts()}\")"
   ]
  },
  {
   "cell_type": "code",
   "execution_count": 8,
   "metadata": {
    "scrolled": true
   },
   "outputs": [
    {
     "name": "stdout",
     "output_type": "stream",
     "text": [
      "The presence of test user_id in train: True    37439\n",
      "Name: user_id, dtype: int64\n",
      "The presence of test work_id in train: True     36955\n",
      "False      484\n",
      "Name: work_id, dtype: int64\n"
     ]
    }
   ],
   "source": [
    "print(f\"The presence of test user_id in train: {test.user_id.isin(train.user_id).value_counts()}\")\n",
    "print(f\"The presence of test work_id in train: {test.work_id.isin(train.work_id).value_counts()}\")"
   ]
  },
  {
   "cell_type": "code",
   "execution_count": 9,
   "metadata": {},
   "outputs": [
    {
     "name": "stdout",
     "output_type": "stream",
     "text": [
      "The train set shape is (112801, 3)\n"
     ]
    },
    {
     "name": "stderr",
     "output_type": "stream",
     "text": [
      "<ipython-input-9-ddec719f1588>:2: SettingWithCopyWarning: \n",
      "A value is trying to be set on a copy of a slice from a DataFrame.\n",
      "Try using .loc[row_indexer,col_indexer] = value instead\n",
      "\n",
      "See the caveats in the documentation: https://pandas.pydata.org/pandas-docs/stable/user_guide/indexing.html#returning-a-view-versus-a-copy\n",
      "  test[\"presence\"] = test.work_id.isin(train.work_id).astype(int)\n"
     ]
    }
   ],
   "source": [
    "# To transfer the test work_id not present in train to train set\n",
    "test[\"presence\"] = test.work_id.isin(train.work_id).astype(int)\n",
    "test_notpresent = test[test[\"presence\"] == 0]\n",
    "test = test[test.presence == 1]\n",
    "test_notpresent = test_notpresent.drop([\"presence\"], axis = 1)\n",
    "test = test.drop([\"presence\"], axis = 1)\n",
    "train = pd.concat([train, test_notpresent], axis = 0)\n",
    "\n",
    "# Reset the index for train and test set\n",
    "train = train.sort_values(by=\"user_id\").reset_index(drop=True)\n",
    "test = test.sort_values(by=\"user_id\").reset_index(drop=True)\n",
    "\n",
    "print(f\"The train set shape is {train.shape}\")"
   ]
  },
  {
   "cell_type": "code",
   "execution_count": 10,
   "metadata": {},
   "outputs": [
    {
     "name": "stdout",
     "output_type": "stream",
     "text": [
      "The presence of test user_id in train: True    36955\n",
      "Name: user_id, dtype: int64\n",
      "The presence of test work_id in train: True    36955\n",
      "Name: work_id, dtype: int64\n"
     ]
    }
   ],
   "source": [
    "print(f\"The presence of test user_id in train: {test.user_id.isin(train.user_id).value_counts()}\")\n",
    "print(f\"The presence of test work_id in train: {test.work_id.isin(train.work_id).value_counts()}\")"
   ]
  },
  {
   "cell_type": "markdown",
   "metadata": {},
   "source": [
    "### 7.5 Null model"
   ]
  },
  {
   "cell_type": "markdown",
   "metadata": {},
   "source": [
    "For null model, we will be using random prediction of the ratings as a baseline model."
   ]
  },
  {
   "cell_type": "code",
   "execution_count": 11,
   "metadata": {},
   "outputs": [],
   "source": [
    "test_null = test.copy()"
   ]
  },
  {
   "cell_type": "code",
   "execution_count": 12,
   "metadata": {},
   "outputs": [],
   "source": [
    "randomstate = np.random.RandomState(39)\n",
    "for num in range(len(test)):\n",
    "    test_null.loc[[num], [\"predicted_rating_random\"]] = randomstate.randint(1,6)"
   ]
  },
  {
   "cell_type": "code",
   "execution_count": 13,
   "metadata": {},
   "outputs": [
    {
     "data": {
      "text/html": [
       "<div>\n",
       "<style scoped>\n",
       "    .dataframe tbody tr th:only-of-type {\n",
       "        vertical-align: middle;\n",
       "    }\n",
       "\n",
       "    .dataframe tbody tr th {\n",
       "        vertical-align: top;\n",
       "    }\n",
       "\n",
       "    .dataframe thead th {\n",
       "        text-align: right;\n",
       "    }\n",
       "</style>\n",
       "<table border=\"1\" class=\"dataframe\">\n",
       "  <thead>\n",
       "    <tr style=\"text-align: right;\">\n",
       "      <th></th>\n",
       "      <th>user_id</th>\n",
       "      <th>work_id</th>\n",
       "      <th>rating</th>\n",
       "      <th>predicted_rating_random</th>\n",
       "    </tr>\n",
       "  </thead>\n",
       "  <tbody>\n",
       "    <tr>\n",
       "      <th>0</th>\n",
       "      <td>28</td>\n",
       "      <td>2960529</td>\n",
       "      <td>5</td>\n",
       "      <td>2.0</td>\n",
       "    </tr>\n",
       "    <tr>\n",
       "      <th>1</th>\n",
       "      <td>32</td>\n",
       "      <td>856555</td>\n",
       "      <td>4</td>\n",
       "      <td>2.0</td>\n",
       "    </tr>\n",
       "    <tr>\n",
       "      <th>2</th>\n",
       "      <td>39</td>\n",
       "      <td>914540</td>\n",
       "      <td>3</td>\n",
       "      <td>2.0</td>\n",
       "    </tr>\n",
       "    <tr>\n",
       "      <th>3</th>\n",
       "      <td>41</td>\n",
       "      <td>19248070</td>\n",
       "      <td>5</td>\n",
       "      <td>1.0</td>\n",
       "    </tr>\n",
       "    <tr>\n",
       "      <th>4</th>\n",
       "      <td>97</td>\n",
       "      <td>16680623</td>\n",
       "      <td>5</td>\n",
       "      <td>5.0</td>\n",
       "    </tr>\n",
       "  </tbody>\n",
       "</table>\n",
       "</div>"
      ],
      "text/plain": [
       "   user_id   work_id  rating  predicted_rating_random\n",
       "0       28   2960529       5                      2.0\n",
       "1       32    856555       4                      2.0\n",
       "2       39    914540       3                      2.0\n",
       "3       41  19248070       5                      1.0\n",
       "4       97  16680623       5                      5.0"
      ]
     },
     "execution_count": 13,
     "metadata": {},
     "output_type": "execute_result"
    }
   ],
   "source": [
    "test_null.head()"
   ]
  },
  {
   "cell_type": "code",
   "execution_count": 14,
   "metadata": {},
   "outputs": [
    {
     "data": {
      "text/plain": [
       "count    36955.000000\n",
       "mean         3.001218\n",
       "std          1.412902\n",
       "min          1.000000\n",
       "25%          2.000000\n",
       "50%          3.000000\n",
       "75%          4.000000\n",
       "max          5.000000\n",
       "Name: predicted_rating_random, dtype: float64"
      ]
     },
     "execution_count": 14,
     "metadata": {},
     "output_type": "execute_result"
    }
   ],
   "source": [
    "test_null.predicted_rating_random.describe()"
   ]
  },
  {
   "cell_type": "code",
   "execution_count": 15,
   "metadata": {},
   "outputs": [
    {
     "data": {
      "text/plain": [
       "1.9265149580634633"
      ]
     },
     "execution_count": 15,
     "metadata": {},
     "output_type": "execute_result"
    }
   ],
   "source": [
    "# RMSE_random_int\n",
    "np.sqrt(metrics.mean_squared_error(test_null.rating, test_null.predicted_rating_random))"
   ]
  },
  {
   "cell_type": "markdown",
   "metadata": {},
   "source": [
    "### 7.6 Collaborative filtering - user-based"
   ]
  },
  {
   "cell_type": "code",
   "execution_count": 16,
   "metadata": {},
   "outputs": [],
   "source": [
    "# Form the pivot table and mean-centralised the ratings per user\n",
    "user_rating = pd.pivot_table(train, index = \"user_id\", columns = \"work_id\", values = \"rating\")\n",
    "user_mean_centering = (user_rating.T - user_rating.mean(axis = 1)).T\n",
    "user_mean_centering = user_mean_centering.fillna(0)\n",
    "# Cosine similarity of the users\n",
    "similarity_matrix = cosine_similarity(user_mean_centering)\n",
    "similar_users = pd.DataFrame(similarity_matrix, columns=user_mean_centering.index, index=user_mean_centering.index)"
   ]
  },
  {
   "cell_type": "code",
   "execution_count": 17,
   "metadata": {
    "scrolled": false
   },
   "outputs": [
    {
     "name": "stdout",
     "output_type": "stream",
     "text": [
      "progress: 36955/36955\n"
     ]
    }
   ],
   "source": [
    "for index, value in enumerate(test.user_id):\n",
    "    userid_query = value\n",
    "    workid_query = test.work_id[index]\n",
    "    test.loc[[index], [\"predicted_rating_user\"]] = user_collaborative_filtering_cosine(user_rating, similar_users, userid_query, workid_query)\n",
    "    clear_output(wait=True)\n",
    "    print(f'progress: {index+1}/{len(test.user_id)}')"
   ]
  },
  {
   "cell_type": "code",
   "execution_count": 19,
   "metadata": {},
   "outputs": [
    {
     "name": "stdout",
     "output_type": "stream",
     "text": [
      "The total observations: 36955\n",
      "Unable to predict:(34352, 4)\n",
      "Able to predict:(2603, 4)\n",
      "\n",
      "The coverage for the recommender system is\n"
     ]
    },
    {
     "data": {
      "text/plain": [
       "7.04"
      ]
     },
     "execution_count": 19,
     "metadata": {},
     "output_type": "execute_result"
    }
   ],
   "source": [
    "test_coverage = coverage(test, \"predicted_rating_user\")\n",
    "test_coverage"
   ]
  },
  {
   "cell_type": "code",
   "execution_count": 20,
   "metadata": {},
   "outputs": [
    {
     "data": {
      "text/plain": [
       "1.2720746113174732"
      ]
     },
     "execution_count": 20,
     "metadata": {},
     "output_type": "execute_result"
    }
   ],
   "source": [
    "rmse = ratings_rmse(test, \"rating\", \"predicted_rating_user\")\n",
    "rmse"
   ]
  },
  {
   "cell_type": "markdown",
   "metadata": {},
   "source": [
    "**Analysis: User-based collaborative filtering has an RMSE of 1.2721 with a coverage of 7.04%.** \n",
    "\n",
    "The user-based collaborative filtering has a RMSE that is lower than the baseline model, which suggests that the recommender system is able to perform some prediction. However, it has a very low coverage that could possibly due to the inability to find similar users, or similar users have not read the book in query."
   ]
  },
  {
   "cell_type": "markdown",
   "metadata": {},
   "source": [
    "### 7.7 Collaborative filtering - item-based"
   ]
  },
  {
   "cell_type": "code",
   "execution_count": 21,
   "metadata": {},
   "outputs": [],
   "source": [
    "user_book_rating = pd.pivot_table(train, index = \"user_id\", columns = \"work_id\", values = \"rating\")\n",
    "user_book_rating_mean = (user_book_rating - user_book_rating.mean(axis=0)).T.fillna(0)\n",
    "sim_matrix = cosine_similarity(user_book_rating_mean)\n",
    "movies_sim = pd.DataFrame(sim_matrix, columns=user_book_rating_mean.index, index=user_book_rating_mean.index)"
   ]
  },
  {
   "cell_type": "code",
   "execution_count": 22,
   "metadata": {
    "scrolled": true
   },
   "outputs": [
    {
     "name": "stdout",
     "output_type": "stream",
     "text": [
      "progress: 36955/36955\n"
     ]
    }
   ],
   "source": [
    "for index, value in enumerate(test.user_id):\n",
    "    userid_query = value\n",
    "    workid_query = test.work_id[index]\n",
    "    result = item_collaborative_filtering_cosine(user_book_rating, movies_sim, userid_query, workid_query)\n",
    "    test.loc[[index], [\"predicted_rating_item\"]] = result\n",
    "    clear_output(wait=True)\n",
    "    print(f'progress: {index+1}/{len(test.user_id)}')"
   ]
  },
  {
   "cell_type": "code",
   "execution_count": 24,
   "metadata": {},
   "outputs": [
    {
     "name": "stdout",
     "output_type": "stream",
     "text": [
      "The total observations: 36955\n",
      "Unable to predict:(33848, 5)\n",
      "Able to predict:(3107, 5)\n",
      "\n",
      "The coverage for the recommender system is\n"
     ]
    },
    {
     "data": {
      "text/plain": [
       "8.41"
      ]
     },
     "execution_count": 24,
     "metadata": {},
     "output_type": "execute_result"
    }
   ],
   "source": [
    "test_coverage = coverage(test, \"predicted_rating_item\")\n",
    "test_coverage"
   ]
  },
  {
   "cell_type": "code",
   "execution_count": 25,
   "metadata": {},
   "outputs": [
    {
     "data": {
      "text/plain": [
       "1.2662865840090682"
      ]
     },
     "execution_count": 25,
     "metadata": {},
     "output_type": "execute_result"
    }
   ],
   "source": [
    "rmse = ratings_rmse(test, \"rating\", \"predicted_rating_item\")\n",
    "rmse"
   ]
  },
  {
   "cell_type": "markdown",
   "metadata": {},
   "source": [
    "**Analysis: Item-based collaborative filtering has an RMSE of 1.2663 with a coverage of 8.41%.** \n",
    "\n",
    "The item-based collaborative filtering has a RMSE that is lower than the baseline model and performs slightly better than user-based collaborative filtering. This is because item-based collaborative filtering is based on items, which are fixed rather than user-based, which can varies with the presence of similar users and the user preference. However, it also has a very low coverage of 8.41%, which could possibly due to the inability to find similar items among the users, or similar items that include the book in query."
   ]
  }
 ],
 "metadata": {
  "kernelspec": {
   "display_name": "Python 3",
   "language": "python",
   "name": "python3"
  },
  "language_info": {
   "codemirror_mode": {
    "name": "ipython",
    "version": 3
   },
   "file_extension": ".py",
   "mimetype": "text/x-python",
   "name": "python",
   "nbconvert_exporter": "python",
   "pygments_lexer": "ipython3",
   "version": "3.8.5"
  }
 },
 "nbformat": 4,
 "nbformat_minor": 4
}
