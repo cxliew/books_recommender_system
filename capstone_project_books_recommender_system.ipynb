{
 "cells": [
  {
   "cell_type": "markdown",
   "metadata": {},
   "source": [
    "# Capstone Project: Books recommender system"
   ]
  },
  {
   "cell_type": "markdown",
   "metadata": {},
   "source": [
    "## Problem Statement"
   ]
  },
  {
   "cell_type": "markdown",
   "metadata": {},
   "source": [
    "There is always a need for book recommendation when one would like to start picking a new book to read. With the vast availability of book choices we have currently, readers always faced with the difficulty of choosing a book to read and on average take a huge amount of time, effort and energy to select and choose a book to read. This include social media, online browsing and book referrals, which is time-consuming [[1]](https://www.nlb.gov.sg/Portals/0/Docs/AboutUs/2018%20NATIONAL%20READING%20HABITS%20STUDY%20ON%20ADULTS%20-%20REPORT.pdf). With the current lacking of a book recommendation system in libraries, as a data scientist in the national library, we aim to help reader to save time to decide for which books to read, by developing book recommendations system which matches their  preferences. The team will explore the use of popularity-based system, content-based system and collaborative filtering-based system for predicting the relevant books recommended to the readers. As we are seeking to develop a book recommendation that suit to the readers preference, the model's success will be evaluated based on the precision and recall that will evaluate the correct relevant predictions of book that the reader will prefer to enhance the reader experience. "
   ]
  },
  {
   "cell_type": "markdown",
   "metadata": {},
   "source": [
    "### Datasets\n",
    "\n",
    "As goodreads has one of the world's largest site for readers and book recommendations, we will be using the goodreads datasets obtained from [University of California San Diego Book Graph](https://sites.google.com/eng.ucsd.edu/ucsdbookgraph/home?authuser=0) to aid in the development of book recommendation system [1]. \n",
    "The assumption is goodread readers are random and come from all around the world, in which the data is symbolic of readers in national libraries.\n",
    "The dataset contains meta-data of books and user-book interactions.\n",
    "\n",
    "The datasets obtained are as followed:-\n",
    "\n",
    "Meta-data of books:-\n",
    "* goodreads_books \n",
    "* goodreads_book_authors\n",
    "* goodreads_book_series\n",
    "* goodreads_book_genres_initial\n",
    "\n",
    "User-book interactions:-\n",
    "* goodreads_interactions\n",
    "* book_id_map\n",
    "\n",
    "For more details, please refer to the data_dictionary.ipynb.\n",
    "\n",
    "Kindly refer to [University of California San Diego Book Graph](https://sites.google.com/eng.ucsd.edu/ucsdbookgraph/home?authuser=0) for the full dataset as the file could not be uploaded due to the large file size."
   ]
  },
  {
   "cell_type": "markdown",
   "metadata": {},
   "source": [
    "### References\n",
    "\n",
    "[1] M. Wan, and J. McAuley, \"Item Recommendation on Monotonic Behvaior Chains,\" *Proceedings of the 12th ACM conference on Recommender Systems, RecSys 2018*, September 2018, pp. 86-94. doi: 10.1145/3240323.3240369 [Online]. Available:https://dl.acm.org/doi/10.1145/3240323.3240369 [Accessed: May 10, 2021]."
   ]
  }
 ],
 "metadata": {
  "kernelspec": {
   "display_name": "Python 3",
   "language": "python",
   "name": "python3"
  },
  "language_info": {
   "codemirror_mode": {
    "name": "ipython",
    "version": 3
   },
   "file_extension": ".py",
   "mimetype": "text/x-python",
   "name": "python",
   "nbconvert_exporter": "python",
   "pygments_lexer": "ipython3",
   "version": "3.8.5"
  }
 },
 "nbformat": 4,
 "nbformat_minor": 4
}
