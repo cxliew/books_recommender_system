{
 "cells": [
  {
   "cell_type": "markdown",
   "metadata": {},
   "source": [
    "# Capstone Project: Breast Cancer Subtypes Classification"
   ]
  },
  {
   "cell_type": "markdown",
   "metadata": {},
   "source": [
    "## Problem Statement"
   ]
  },
  {
   "cell_type": "markdown",
   "metadata": {},
   "source": [
    "Breast cancer is one of the leading cancer worldwide in 2020 [[1]](https://acsjournals.onlinelibrary.wiley.com/doi/full/10.3322/caac.21660#:~:text=Worldwide%2C%20an%20estimated%2019.3%20million,cancer%2C%20with%20an%20estimated%202.3). In order to determine the most appropriate treatment for breast cancer, the assessment of the aggressiveness grade is critical to understand the development stages of cancer cells. As a data scientist working in the histopathology cancer lab, we aim to develop a model that can identify and categorize the images of the most common breast cancer subtype, which is the invasive ductal carcinoma(IDC), from the whole mount slide. The team will explore using the convolutional neural network to develop a model to learn the images and predict the correct assessment of the aggressiveness grade. As an accurate and precise assesssment is required, we will be using F1 score to evaluate the model's success in the identification and classification of the subtype, which will help to save lives while aid the lab to automate this process to save time and reduce error."
   ]
  },
  {
   "cell_type": "markdown",
   "metadata": {},
   "source": [
    "### Datasets\n",
    "\n",
    "The dataset contains the images of 162 whole mount slide of breast cancer specimens scanned at 40x. From these images, there are 277,524 patches of size 50 x 50 of which 198,738 are negative and 78,786 are positive for invasive ductal carcinoma (subtype of breast cancer). The data source below are obtained from [kaggle](https://www.kaggle.com/paultimothymooney/breast-histopathology-images). \n",
    "\n",
    "Kindly refer to [kaggle](https://www.kaggle.com/paultimothymooney/breast-histopathology-images) for the full dataset as the file could not be uploaded due to the large file size."
   ]
  }
 ],
 "metadata": {
  "kernelspec": {
   "display_name": "Python 3",
   "language": "python",
   "name": "python3"
  },
  "language_info": {
   "codemirror_mode": {
    "name": "ipython",
    "version": 3
   },
   "file_extension": ".py",
   "mimetype": "text/x-python",
   "name": "python",
   "nbconvert_exporter": "python",
   "pygments_lexer": "ipython3",
   "version": "3.8.5"
  }
 },
 "nbformat": 4,
 "nbformat_minor": 4
}
