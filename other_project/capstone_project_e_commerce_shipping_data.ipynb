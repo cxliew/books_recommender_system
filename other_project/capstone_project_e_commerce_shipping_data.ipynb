{
 "cells": [
  {
   "cell_type": "markdown",
   "metadata": {},
   "source": [
    "# Capstone Project: E-commerce Shipping Data"
   ]
  },
  {
   "cell_type": "markdown",
   "metadata": {},
   "source": [
    "## Problem Statement\n",
    "\n",
    "Customer satisfaction is a critical key performance in an international e-commerce company. For a company's success, an insight of the customer, their purchases and the shipment will affect the customer loyalty. As a data scientist in the e-commerce electronic company, we aim to develop a model to identify the feature importance and predict the customer rating, which the team will explore the use of k-nearest neighbours, support vector machine and random forest. As we would like to accurately predict the rating scores, the root mean square error will be used to evaluate the model's success. This will faciliate the company to place importance in key features and increase services in certain features when required leading to  an increase in the customer rating overall, thus resulting in higher net profits."
   ]
  },
  {
   "cell_type": "markdown",
   "metadata": {},
   "source": [
    "### Datasets\n",
    "\n",
    "The dataset contains the electronic product shipping details.The data source are obtained from [kaggle](https://www.kaggle.com/prachi13/customer-analytics).\n",
    "\n",
    "The datasets obtained are as followed:-\n",
    "\n",
    "* train (10999 observations of 12 variables)"
   ]
  }
 ],
 "metadata": {
  "kernelspec": {
   "display_name": "Python 3",
   "language": "python",
   "name": "python3"
  },
  "language_info": {
   "codemirror_mode": {
    "name": "ipython",
    "version": 3
   },
   "file_extension": ".py",
   "mimetype": "text/x-python",
   "name": "python",
   "nbconvert_exporter": "python",
   "pygments_lexer": "ipython3",
   "version": "3.8.5"
  }
 },
 "nbformat": 4,
 "nbformat_minor": 4
}
