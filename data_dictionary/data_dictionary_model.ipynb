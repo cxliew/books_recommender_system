{
 "cells": [
  {
   "cell_type": "markdown",
   "metadata": {},
   "source": [
    "- **user_work_interactions_clean** - 103,982,813 entries\n",
    "- **user_work_interactions_model_int** - 62,079,740 entries\n",
    "- **user_work_interactions_sample_int** - 149,756 entries\n",
    "\n",
    "|Feature|Type|Dataset|Description|\n",
    "|:---|:---|:---|:---|\n",
    "|**user_id**|*int64*|user_work_interactions_clean<br>user_work_interactions_model_int<br>user_work_interactions_sample_int|An assigned id of the user|\n",
    "|**work_id**|*int64*|user_work_interactions_clean<br>user_work_interactions_model_int<br>user_work_interactions_sample_int|The unique id of the book the goodreads assigned to|\n",
    "|**rating**|*float64*<br>*int32*<br>*int32*|user_work_interactions_clean<br>user_work_interactions_model_int<br>user_work_interactions_sample_int|The average rating of a book the user read - a range of 1 to 5<br>- 1 : disliked, to 5 : loved it and an amazing read|\n",
    "\n",
    "------------------------------------\n",
    "- **booklist_url** - 1,521,962 entries\n",
    "\n",
    "|Feature|Type|Dataset|Description|\n",
    "|:---|:---|:---|:---|\n",
    "|**url**|*object*|booklist_url|The url of book in goodreads website|\n",
    "|**image_url**|*object*|booklist_url|The url of the book image in goodreads website|\n",
    "|**work_id**|*int64*|booklist_url|The unique id of the book the goodreads assigned to|\n",
    "|**first_author_title**|*object*|booklist_url|The first author name and the title of the book|\n",
    "|**title**|*object*|booklist_url|The title of the book|\n",
    "|**first_author_name**|*object*|booklist_url|The first author name of the book|\n",
    "\n",
    "------------------------------------\n",
    "- **genrebook_interactions** - 1,117,435 entries\n",
    "\n",
    "|Feature|Type|Dataset|Description|\n",
    "|:---|:---|:---|:---|\n",
    "|**children**|*float64*|booklist_genres|The number of users classify the book under children genre|\n",
    "|**comics, graphic**|*float64*|booklist_genres|The number of users classify the book under comics, graphic genre|\n",
    "|**fantasy, paranormal**|*float64*|booklist_genres|The number of users classify the book under fantasy, paranormal genre|\n",
    "|**fiction**|*float64*|booklist_genres|The number of users classify the book under fiction genre|\n",
    "|**history, historical fiction, biography**|*float64*|booklist_genres|The number of users classify the book under history, historical fiction, biography genre|\n",
    "|**mystery, thriller, crime**|*float64*|booklist_genres|The number of users classify the book under mystery, thriller, crime genre|\n",
    "|**non-fiction**|*float64*|booklist_genres|The number of users classify the book under non-fiction genre|\n",
    "|**poetry**|*float64*|booklist_genres|The number of users classify the book under poetry genre|\n",
    "|**romance**|*float64*|booklist_genres|The number of users classify the book under romance genre|\n",
    "|**young-adult**|*float64*|booklist_genres|The number of users classify the book under young-adult genre|"
   ]
  }
 ],
 "metadata": {
  "kernelspec": {
   "display_name": "Python 3",
   "language": "python",
   "name": "python3"
  },
  "language_info": {
   "codemirror_mode": {
    "name": "ipython",
    "version": 3
   },
   "file_extension": ".py",
   "mimetype": "text/x-python",
   "name": "python",
   "nbconvert_exporter": "python",
   "pygments_lexer": "ipython3",
   "version": "3.8.5"
  }
 },
 "nbformat": 4,
 "nbformat_minor": 4
}
